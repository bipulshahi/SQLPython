{
 "cells": [
  {
   "cell_type": "code",
   "execution_count": 2,
   "id": "dde1e965-5f27-41e5-89fd-5a308a777654",
   "metadata": {},
   "outputs": [
    {
     "name": "stdout",
     "output_type": "stream",
     "text": [
      "15\n"
     ]
    }
   ],
   "source": [
    "#Python code to establish a connection with mysql server to create a data base\n",
    "import mysql.connector\n",
    "mydb = mysql.connector.connect(host='localhost',\n",
    "                               user='root',password='725@Mysql')\n",
    "print(mydb.connection_id)"
   ]
  },
  {
   "cell_type": "code",
   "execution_count": 3,
   "id": "c39f6fd3-5790-43be-b553-2484d241962a",
   "metadata": {},
   "outputs": [
    {
     "name": "stdout",
     "output_type": "stream",
     "text": [
      "db3 database created\n"
     ]
    }
   ],
   "source": [
    "#Create a database\n",
    "\n",
    "import mysql.connector\n",
    "mydb = mysql.connector.connect(host='localhost',\n",
    "                               user='root',password='725@Mysql')\n",
    "cur = mydb.cursor()\n",
    "cur.execute(\"create DATABASE db3\")\n",
    "print('db3 database created')"
   ]
  },
  {
   "cell_type": "code",
   "execution_count": 4,
   "id": "7495a8b6-7e95-419e-bc41-10c0b5639063",
   "metadata": {},
   "outputs": [
    {
     "name": "stdout",
     "output_type": "stream",
     "text": [
      "Data Table newbook is created in db2 to store data\n"
     ]
    }
   ],
   "source": [
    "#Create a data table in db3\n",
    "\n",
    "import mysql.connector\n",
    "mydb = mysql.connector.connect(host='localhost',\n",
    "                               user='root',password='725@Mysql',\n",
    "                               database='db3')\n",
    "\n",
    "cur = mydb.cursor()\n",
    "s = \"create table newbook(bookid integer(4),title varchar(20),price float(5,2))\"\n",
    "cur.execute(s)\n",
    "mydb.commit()\n",
    "print('Data Table newbook is created in db2 to store data')"
   ]
  },
  {
   "cell_type": "code",
   "execution_count": 5,
   "id": "3560ded4-99ea-4355-842a-4655777c21b8",
   "metadata": {},
   "outputs": [
    {
     "name": "stdout",
     "output_type": "stream",
     "text": [
      "value added in table row\n"
     ]
    }
   ],
   "source": [
    "#insert table items\n",
    "import mysql.connector\n",
    "mydb = mysql.connector.connect(host='localhost',\n",
    "                               user='root',password='725@Mysql',\n",
    "                               database='db3')\n",
    "cur = mydb.cursor()\n",
    "\n",
    "s = \"insert into newbook (bookid,title,price) values(%s,%s,%s)\"\n",
    "value = (2,\"PHP\",250)\n",
    "cur.execute(s,value)       #to insert a single row\n",
    "mydb.commit()\n",
    "print('value added in table row')"
   ]
  },
  {
   "cell_type": "code",
   "execution_count": 6,
   "id": "631a238a-861e-4d4a-915c-d1bbb00b8cd1",
   "metadata": {},
   "outputs": [
    {
     "name": "stdout",
     "output_type": "stream",
     "text": [
      "multiple values added in table row\n"
     ]
    }
   ],
   "source": [
    "#insert table items\n",
    "import mysql.connector\n",
    "mydb = mysql.connector.connect(host='localhost',\n",
    "                               user='root',password='725@Mysql',\n",
    "                               database='db3')\n",
    "cur = mydb.cursor()\n",
    "\n",
    "s = \"insert into newbook (bookid,title,price) values(%s,%s,%s)\"\n",
    "value = [(3,\"PHP\",250),(4,\"HTML\",230),(5,\"Java\",400)]\n",
    "cur.executemany(s,value)        #executemany() - if mutilple rows info is getting added\n",
    "mydb.commit()\n",
    "print('multiple values added in table row')"
   ]
  },
  {
   "cell_type": "code",
   "execution_count": 7,
   "id": "f19a3142-395b-4898-a358-8ab4e5b9f656",
   "metadata": {},
   "outputs": [
    {
     "name": "stdout",
     "output_type": "stream",
     "text": [
      "[(2, 'PHP', 250.0), (3, 'PHP', 250.0), (4, 'HTML', 230.0), (5, 'Java', 400.0)]\n"
     ]
    }
   ],
   "source": [
    "#read table items\n",
    "import mysql.connector\n",
    "mydb = mysql.connector.connect(host='localhost',\n",
    "                               user='root',password='725@Mysql',\n",
    "                               database='db3')\n",
    "cur = mydb.cursor()\n",
    "s = \"select * from newbook\"\n",
    "cur.execute(s)\n",
    "result = cur.fetchall()\n",
    "print(result)"
   ]
  },
  {
   "cell_type": "code",
   "execution_count": 8,
   "id": "db83f789-dfb7-4022-a74b-f698d3e9b6b1",
   "metadata": {},
   "outputs": [
    {
     "name": "stdout",
     "output_type": "stream",
     "text": [
      "(2, 'PHP', 250.0)\n",
      "(3, 'PHP', 250.0)\n",
      "(4, 'HTML', 230.0)\n",
      "(5, 'Java', 400.0)\n"
     ]
    }
   ],
   "source": [
    "#read table items\n",
    "import mysql.connector\n",
    "mydb = mysql.connector.connect(host='localhost',\n",
    "                               user='root',password='725@Mysql',\n",
    "                               database='db3')\n",
    "cur = mydb.cursor()\n",
    "s = \"select * from newbook\"\n",
    "cur.execute(s)\n",
    "result = cur.fetchall()\n",
    "for res in result:\n",
    "              print(res)"
   ]
  },
  {
   "cell_type": "code",
   "execution_count": 9,
   "id": "90a69016-59af-4796-8508-323e7e90fdbc",
   "metadata": {},
   "outputs": [
    {
     "name": "stdout",
     "output_type": "stream",
     "text": [
      "price value is updated\n"
     ]
    }
   ],
   "source": [
    "#Update table items\n",
    "\n",
    "import mysql.connector\n",
    "mydb = mysql.connector.connect(host='localhost',\n",
    "                               user='root',password='725@Mysql',\n",
    "                               database='db3')\n",
    "cur = mydb.cursor()\n",
    "#s = \"update newbook set price = price+10\"\n",
    "s = \"update newbook set price = price+10 where price>300\"\n",
    "cur.execute(s)\n",
    "mydb.commit()\n",
    "print('price value is updated')"
   ]
  },
  {
   "cell_type": "code",
   "execution_count": 10,
   "id": "ee3c88f1-fd18-4212-b638-b095bf9d4faa",
   "metadata": {},
   "outputs": [
    {
     "name": "stdout",
     "output_type": "stream",
     "text": [
      "(2, 'PHP', 250.0)\n",
      "(3, 'PHP', 250.0)\n",
      "(4, 'HTML', 230.0)\n",
      "(5, 'Java', 410.0)\n"
     ]
    }
   ],
   "source": [
    "#read table items\n",
    "import mysql.connector\n",
    "mydb = mysql.connector.connect(host='localhost',\n",
    "                               user='root',password='725@Mysql',\n",
    "                               database='db3')\n",
    "cur = mydb.cursor()\n",
    "s = \"select * from newbook\"\n",
    "cur.execute(s)\n",
    "result = cur.fetchall()\n",
    "for res in result:\n",
    "              print(res)"
   ]
  },
  {
   "cell_type": "code",
   "execution_count": 11,
   "id": "d6be703a-acbc-46b5-bf44-8c6a5473472a",
   "metadata": {},
   "outputs": [
    {
     "name": "stdout",
     "output_type": "stream",
     "text": [
      "Java Sample deleted\n"
     ]
    }
   ],
   "source": [
    "#Delete table items\n",
    "\n",
    "\n",
    "import mysql.connector\n",
    "mydb = mysql.connector.connect(host='localhost',\n",
    "                               user='root',password='725@Mysql',\n",
    "                               database='db3')\n",
    "cur = mydb.cursor()\n",
    "s = \"delete from newbook where title='JAVA'\"\n",
    "cur.execute(s)\n",
    "mydb.commit()\n",
    "print('Java Sample deleted')"
   ]
  },
  {
   "cell_type": "code",
   "execution_count": 12,
   "id": "18c9e879-35c1-4552-a3ed-41262de3458c",
   "metadata": {},
   "outputs": [
    {
     "name": "stdout",
     "output_type": "stream",
     "text": [
      "(2, 'PHP', 250.0)\n",
      "(3, 'PHP', 250.0)\n",
      "(4, 'HTML', 230.0)\n"
     ]
    }
   ],
   "source": [
    "#read table items\n",
    "import mysql.connector\n",
    "mydb = mysql.connector.connect(host='localhost',\n",
    "                               user='root',password='725@Mysql',\n",
    "                               database='db3')\n",
    "cur = mydb.cursor()\n",
    "s = \"select * from newbook\"\n",
    "cur.execute(s)\n",
    "result = cur.fetchall()\n",
    "for res in result:\n",
    "              print(res)"
   ]
  },
  {
   "cell_type": "code",
   "execution_count": 13,
   "id": "9afd16b4-3d84-4cfb-bbfa-2e287421836f",
   "metadata": {},
   "outputs": [
    {
     "name": "stdout",
     "output_type": "stream",
     "text": [
      "PHP rows values are added\n"
     ]
    }
   ],
   "source": [
    "import mysql.connector\n",
    "mydb = mysql.connector.connect(host='localhost',\n",
    "                               user='root',password='725@Mysql',\n",
    "                               database='db3')\n",
    "cur = mydb.cursor()\n",
    "\n",
    "s = \"insert into newbook (bookid,title,price) values(%s,%s,%s)\"\n",
    "books = [(3,\"PHP\",260),(3,\"PHP\",260)]\n",
    "cur.executemany(s,books)\n",
    "mydb.commit()\n",
    "print('PHP rows values are added')"
   ]
  },
  {
   "cell_type": "code",
   "execution_count": 14,
   "id": "b71b9abb-245a-4b15-a4c7-5bc88e131378",
   "metadata": {},
   "outputs": [
    {
     "name": "stdout",
     "output_type": "stream",
     "text": [
      "(2, 'PHP', 250.0)\n",
      "(3, 'PHP', 250.0)\n",
      "(4, 'HTML', 230.0)\n",
      "(3, 'PHP', 260.0)\n",
      "(3, 'PHP', 260.0)\n"
     ]
    }
   ],
   "source": [
    "#read table items\n",
    "import mysql.connector\n",
    "mydb = mysql.connector.connect(host='localhost',\n",
    "                               user='root',password='725@Mysql',\n",
    "                               database='db3')\n",
    "cur = mydb.cursor()\n",
    "s = \"select * from newbook\"\n",
    "cur.execute(s)\n",
    "result = cur.fetchall()\n",
    "for res in result:\n",
    "              print(res)"
   ]
  },
  {
   "cell_type": "code",
   "execution_count": 15,
   "id": "82639ce3-ed09-47a2-9797-ae29f67c1504",
   "metadata": {},
   "outputs": [],
   "source": [
    "#Select distinct rows from data table and create a new table\n",
    "import mysql.connector\n",
    "mydb = mysql.connector.connect(host='localhost',\n",
    "                               user='root',password='725@Mysql',\n",
    "                               database='db3')\n",
    "cur = mydb.cursor()\n",
    "s = \"\"\"create table newbook2 as\n",
    "select distinct title,price\n",
    "from newbook\"\"\"\n",
    "cur.execute(s)\n",
    "mydb.commit()"
   ]
  },
  {
   "cell_type": "code",
   "execution_count": 16,
   "id": "32138879-e52d-4c07-bde3-9b84ba7ed693",
   "metadata": {},
   "outputs": [
    {
     "name": "stdout",
     "output_type": "stream",
     "text": [
      "('PHP', 250.0)\n",
      "('HTML', 230.0)\n",
      "('PHP', 260.0)\n"
     ]
    }
   ],
   "source": [
    "sr = \"select * from newbook2\"\n",
    "cur.execute(sr)\n",
    "result = cur.fetchall()\n",
    "for res in result:\n",
    "              print(res)"
   ]
  },
  {
   "cell_type": "markdown",
   "id": "7b7f83ac-08d6-4b54-b623-88e2abea5c0a",
   "metadata": {},
   "source": [
    "* **Table** ->\n",
    "  \n",
    "      *  A structured set of data organized in rows and columns, similar to spreadsheet.\n",
    "      * Table stores data physically on disk.\n",
    "      * Data in table can be modified directly using SQL commands.\n",
    "      * Table enfore data integrity constraints such as primary key, foreign key and unique.\n",
    "      * Tables typically offers better performance for data retrival and modification.\n",
    "  \n",
    "\n",
    "*****\n",
    "\n",
    "* **View** ->\n",
    "\n",
    "      *  It is a vitual table that does not store data itself but rather retrives data from one or more tables.\n",
    "      * Views don't sores data themselves; they only provide a virtual representation of data stored in tables.\n",
    "      * Data in views cannot be directly modified.\n",
    "      * Views do not have their own constraints but can be created with constraints inherited from underlying table.\n",
    "      * Views comparatively shows slower performance because views need to execute the underlying query every time they are accessed.\n",
    "  "
   ]
  },
  {
   "cell_type": "code",
   "execution_count": 17,
   "id": "c60754ca-0801-466f-9975-5dffe399c9c3",
   "metadata": {},
   "outputs": [],
   "source": [
    "#create a view with all PHP titles from newbook\n",
    "\n",
    "import mysql.connector\n",
    "mydb = mysql.connector.connect(host='localhost',\n",
    "                               user='root',password='725@Mysql',\n",
    "                               database='db3')\n",
    "cur = mydb.cursor()\n",
    "\n",
    "s = \"\"\"create view PHP_view as select * from newbook\n",
    "where title = 'PHP'\"\"\"\n",
    "cur.execute(s)\n",
    "mydb.commit()"
   ]
  },
  {
   "cell_type": "code",
   "execution_count": 18,
   "id": "fc0e2d8f-833a-477c-8196-47aadc7ee192",
   "metadata": {},
   "outputs": [
    {
     "name": "stdout",
     "output_type": "stream",
     "text": [
      "(2, 'PHP', 250.0)\n",
      "(3, 'PHP', 250.0)\n",
      "(3, 'PHP', 260.0)\n",
      "(3, 'PHP', 260.0)\n"
     ]
    }
   ],
   "source": [
    "sr = \"select * from PHP_view\"\n",
    "cur.execute(sr)\n",
    "result = cur.fetchall()\n",
    "for res in result:\n",
    "              print(res)"
   ]
  },
  {
   "cell_type": "code",
   "execution_count": 21,
   "id": "7a4b8297-49b5-4107-8cee-7c4abd13485d",
   "metadata": {},
   "outputs": [
    {
     "name": "stdout",
     "output_type": "stream",
     "text": [
      "('newbook',)\n",
      "('newbook2',)\n",
      "('php_view',)\n"
     ]
    }
   ],
   "source": [
    "#create a view with all PHP titles from newbook\n",
    "\n",
    "import mysql.connector\n",
    "mydb = mysql.connector.connect(host='localhost',\n",
    "                               user='root',password='725@Mysql',\n",
    "                               database='db3')\n",
    "cur = mydb.cursor()\n",
    "\n",
    "s = \"show tables\"\n",
    "cur.execute(s)\n",
    "result = cur.fetchall()\n",
    "for res in result:\n",
    "              print(res)\n",
    "    \n",
    "mydb.commit()"
   ]
  },
  {
   "cell_type": "code",
   "execution_count": 22,
   "id": "3faf6ce9-0dac-4897-a766-834969483102",
   "metadata": {},
   "outputs": [],
   "source": [
    "#WAP to delete table.\n",
    "\n",
    "import mysql.connector\n",
    "mydb = mysql.connector.connect(host='localhost',\n",
    "                               user='root',password='725@Mysql',\n",
    "                               database='db3')\n",
    "cur = mydb.cursor()\n",
    "\n",
    "s = \"drop table newbook2\"\n",
    "\n",
    "cur.execute(s)\n",
    "mydb.commit()"
   ]
  },
  {
   "cell_type": "code",
   "execution_count": 23,
   "id": "38047b1e-4d61-4d46-a902-9d49374647aa",
   "metadata": {},
   "outputs": [
    {
     "name": "stdout",
     "output_type": "stream",
     "text": [
      "('newbook',)\n",
      "('php_view',)\n"
     ]
    }
   ],
   "source": [
    "#create a view with all PHP titles from newbook\n",
    "\n",
    "import mysql.connector\n",
    "mydb = mysql.connector.connect(host='localhost',\n",
    "                               user='root',password='725@Mysql',\n",
    "                               database='db3')\n",
    "cur = mydb.cursor()\n",
    "\n",
    "s = \"show tables\"\n",
    "cur.execute(s)\n",
    "result = cur.fetchall()\n",
    "for res in result:\n",
    "              print(res)\n",
    "    \n",
    "mydb.commit()"
   ]
  },
  {
   "cell_type": "code",
   "execution_count": 25,
   "id": "2ecc2224-1daa-4cb7-b8e5-f20aa2a0c383",
   "metadata": {},
   "outputs": [],
   "source": [
    "#WAP to delete view.\n",
    "\n",
    "import mysql.connector\n",
    "mydb = mysql.connector.connect(host='localhost',\n",
    "                               user='root',password='725@Mysql',\n",
    "                               database='db3')\n",
    "cur = mydb.cursor()\n",
    "\n",
    "s = \"drop view php_view\"\n",
    "\n",
    "cur.execute(s)\n",
    "mydb.commit()"
   ]
  },
  {
   "cell_type": "code",
   "execution_count": 26,
   "id": "40beebe5-520d-441b-af04-23989900e010",
   "metadata": {},
   "outputs": [
    {
     "name": "stdout",
     "output_type": "stream",
     "text": [
      "('newbook',)\n"
     ]
    }
   ],
   "source": [
    "#create a view with all PHP titles from newbook\n",
    "\n",
    "import mysql.connector\n",
    "mydb = mysql.connector.connect(host='localhost',\n",
    "                               user='root',password='725@Mysql',\n",
    "                               database='db3')\n",
    "cur = mydb.cursor()\n",
    "\n",
    "s = \"show tables\"\n",
    "cur.execute(s)\n",
    "result = cur.fetchall()\n",
    "for res in result:\n",
    "              print(res)\n",
    "    \n",
    "mydb.commit()"
   ]
  },
  {
   "cell_type": "code",
   "execution_count": 34,
   "id": "106bdd9b-7e9b-402d-8556-0d8b4c6ecfbb",
   "metadata": {},
   "outputs": [
    {
     "name": "stdout",
     "output_type": "stream",
     "text": [
      "(2, 'PHP', 250.0, None, None)\n",
      "(2, 'PHP', 250.0, None, None)\n",
      "(1, 'HTML', 230.0, None, None)\n",
      "(2, 'PHP', 260.0, None, None)\n",
      "(2, 'PHP', 260.0, None, None)\n",
      "(3, 'IOT', 360.0, 720.0, 2)\n"
     ]
    }
   ],
   "source": [
    "import mysql.connector\n",
    "mydb = mysql.connector.connect(host='localhost',\n",
    "                               user='root',password='725@Mysql',\n",
    "                               database='db3')\n",
    "cur = mydb.cursor()\n",
    "\n",
    "#s = \"alter table newbook add column quantity integer(4)\"\n",
    "#s = \"alter table newbook add column sales float(5,2) after price\"\n",
    "#s = \"alter table newbook add column skuid int first\"\n",
    "#s = \"alter table newbook drop column bookid\"\n",
    "#s = \"update newbook set skuid = 1\"\n",
    "#s = \"update newbook set skuid = 2 where title = 'php'\"\n",
    "s = \"insert into newbook (skuid,title,price,sales,quantity) values(3,'IOT',360,720,2)\"\n",
    "\n",
    "cur.execute(s)\n",
    "mydb.commit()\n",
    "\n",
    "cur.execute(\"select * from newbook\")\n",
    "for val in cur:\n",
    "    print(val)\n",
    "\n",
    "cur.close()\n",
    "mydb.close()"
   ]
  },
  {
   "cell_type": "code",
   "execution_count": 37,
   "id": "9487dd14-1f23-4fc1-b4a0-d9d96676c7fe",
   "metadata": {},
   "outputs": [],
   "source": [
    "import mysql.connector\n",
    "mydb = mysql.connector.connect(host='localhost',\n",
    "                               user='root',password='725@Mysql',\n",
    "                               database='db3')\n",
    "cur = mydb.cursor()\n",
    "\n",
    "cur.execute(\"select * from newbook\")\n",
    "result = cur.fetchall()\n",
    "cur.close()\n",
    "mydb.close()"
   ]
  },
  {
   "cell_type": "code",
   "execution_count": 40,
   "id": "7bf2bcf2-56b5-48f2-bc22-630dbd4e15ae",
   "metadata": {},
   "outputs": [
    {
     "data": {
      "text/html": [
       "<div>\n",
       "<style scoped>\n",
       "    .dataframe tbody tr th:only-of-type {\n",
       "        vertical-align: middle;\n",
       "    }\n",
       "\n",
       "    .dataframe tbody tr th {\n",
       "        vertical-align: top;\n",
       "    }\n",
       "\n",
       "    .dataframe thead th {\n",
       "        text-align: right;\n",
       "    }\n",
       "</style>\n",
       "<table border=\"1\" class=\"dataframe\">\n",
       "  <thead>\n",
       "    <tr style=\"text-align: right;\">\n",
       "      <th></th>\n",
       "      <th>Skuid</th>\n",
       "      <th>Title</th>\n",
       "      <th>Price</th>\n",
       "      <th>Sales</th>\n",
       "      <th>Quantity</th>\n",
       "    </tr>\n",
       "  </thead>\n",
       "  <tbody>\n",
       "    <tr>\n",
       "      <th>0</th>\n",
       "      <td>2</td>\n",
       "      <td>PHP</td>\n",
       "      <td>250.0</td>\n",
       "      <td>NaN</td>\n",
       "      <td>NaN</td>\n",
       "    </tr>\n",
       "    <tr>\n",
       "      <th>1</th>\n",
       "      <td>2</td>\n",
       "      <td>PHP</td>\n",
       "      <td>250.0</td>\n",
       "      <td>NaN</td>\n",
       "      <td>NaN</td>\n",
       "    </tr>\n",
       "    <tr>\n",
       "      <th>2</th>\n",
       "      <td>1</td>\n",
       "      <td>HTML</td>\n",
       "      <td>230.0</td>\n",
       "      <td>NaN</td>\n",
       "      <td>NaN</td>\n",
       "    </tr>\n",
       "    <tr>\n",
       "      <th>3</th>\n",
       "      <td>2</td>\n",
       "      <td>PHP</td>\n",
       "      <td>260.0</td>\n",
       "      <td>NaN</td>\n",
       "      <td>NaN</td>\n",
       "    </tr>\n",
       "    <tr>\n",
       "      <th>4</th>\n",
       "      <td>2</td>\n",
       "      <td>PHP</td>\n",
       "      <td>260.0</td>\n",
       "      <td>NaN</td>\n",
       "      <td>NaN</td>\n",
       "    </tr>\n",
       "    <tr>\n",
       "      <th>5</th>\n",
       "      <td>3</td>\n",
       "      <td>IOT</td>\n",
       "      <td>360.0</td>\n",
       "      <td>720.0</td>\n",
       "      <td>2.0</td>\n",
       "    </tr>\n",
       "  </tbody>\n",
       "</table>\n",
       "</div>"
      ],
      "text/plain": [
       "   Skuid Title  Price  Sales  Quantity\n",
       "0      2   PHP  250.0    NaN       NaN\n",
       "1      2   PHP  250.0    NaN       NaN\n",
       "2      1  HTML  230.0    NaN       NaN\n",
       "3      2   PHP  260.0    NaN       NaN\n",
       "4      2   PHP  260.0    NaN       NaN\n",
       "5      3   IOT  360.0  720.0       2.0"
      ]
     },
     "execution_count": 40,
     "metadata": {},
     "output_type": "execute_result"
    }
   ],
   "source": [
    "import pandas as pd\n",
    "\n",
    "df = pd.DataFrame(result , columns = [\"Skuid\",\"Title\",\"Price\",\"Sales\",\"Quantity\"])\n",
    "\n",
    "df"
   ]
  },
  {
   "cell_type": "code",
   "execution_count": null,
   "id": "57920941-3460-4532-9348-6127a4a1263c",
   "metadata": {},
   "outputs": [],
   "source": []
  }
 ],
 "metadata": {
  "kernelspec": {
   "display_name": "Python 3 (ipykernel)",
   "language": "python",
   "name": "python3"
  },
  "language_info": {
   "codemirror_mode": {
    "name": "ipython",
    "version": 3
   },
   "file_extension": ".py",
   "mimetype": "text/x-python",
   "name": "python",
   "nbconvert_exporter": "python",
   "pygments_lexer": "ipython3",
   "version": "3.9.0"
  }
 },
 "nbformat": 4,
 "nbformat_minor": 5
}
