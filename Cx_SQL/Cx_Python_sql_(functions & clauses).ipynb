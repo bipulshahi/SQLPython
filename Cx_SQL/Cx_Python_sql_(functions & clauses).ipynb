{
 "cells": [
  {
   "cell_type": "code",
   "execution_count": 25,
   "id": "biblical-exhaust",
   "metadata": {},
   "outputs": [],
   "source": [
    "import mysql.connector\n",
    "from mysql.connector import Error\n",
    "import pandas as pd"
   ]
  },
  {
   "cell_type": "code",
   "execution_count": 26,
   "id": "contrary-happiness",
   "metadata": {},
   "outputs": [
    {
     "name": "stdout",
     "output_type": "stream",
     "text": [
      "Server connection Established\n",
      "<mysql.connector.connection.MySQLConnection object at 0x7fbf8f6e0b10>\n"
     ]
    }
   ],
   "source": [
    "#function to create a server connection\n",
    "def server_conn(host_name,user_name,user_password):\n",
    "    connection = None\n",
    "    try:\n",
    "        connection = mysql.connector.connect(host = host_name,\n",
    "                                             user = user_name,\n",
    "                                             passwd = user_password)\n",
    "        print('Server connection Established')\n",
    "    except Error as err:\n",
    "        print('Error-' , err)\n",
    "    return connection\n",
    "\n",
    "connection = server_conn(\"localhost\",\"root\",\"725@Mysql\")\n",
    "print(connection)"
   ]
  },
  {
   "cell_type": "code",
   "execution_count": 27,
   "id": "specified-aquarium",
   "metadata": {},
   "outputs": [
    {
     "name": "stdout",
     "output_type": "stream",
     "text": [
      "Database Connection Created Successfully\n"
     ]
    }
   ],
   "source": [
    "#function to create a database\n",
    "def create_db(connection,query):\n",
    "    cursor = connection.cursor()\n",
    "    try:\n",
    "        cursor.execute(query)\n",
    "        print(\"Database Connection Created Successfully\")\n",
    "    except Error as err:\n",
    "        print('Error-' , err)\n",
    "        \n",
    "database_create_query = \"create database mydb_emp\"\n",
    "create_db(connection,database_create_query)"
   ]
  },
  {
   "cell_type": "code",
   "execution_count": 28,
   "id": "small-state",
   "metadata": {},
   "outputs": [
    {
     "name": "stdout",
     "output_type": "stream",
     "text": [
      "Database connection Established\n",
      "<mysql.connector.connection.MySQLConnection object at 0x7fbf8f6eb6d0>\n"
     ]
    }
   ],
   "source": [
    "#function to connect with database\n",
    "def db_conn(host_name,user_name,user_password,dbname):\n",
    "    connection = None\n",
    "    try:\n",
    "        connection = mysql.connector.connect(host = host_name,\n",
    "                                             user = user_name,\n",
    "                                             passwd = user_password,\n",
    "                                             database=dbname)\n",
    "        print('Database connection Established')\n",
    "    except Error as err:\n",
    "        print('Error-' , err)\n",
    "    return connection\n",
    "\n",
    "connection = db_conn(\"localhost\",\"root\",\"725@Mysql\",\"mydb_emp\")\n",
    "print(connection)"
   ]
  },
  {
   "cell_type": "code",
   "execution_count": 29,
   "id": "checked-sunrise",
   "metadata": {},
   "outputs": [],
   "source": [
    "#function to execute sql querries\n",
    "def execute_query(connection,query):\n",
    "    cursor = connection.cursor()\n",
    "    try:\n",
    "        cursor.execute(query)\n",
    "        connection.commit()\n",
    "        print('Query Executed')\n",
    "    except Error as err:\n",
    "        print(\"Error:-\",err)"
   ]
  },
  {
   "cell_type": "code",
   "execution_count": 30,
   "id": "elementary-country",
   "metadata": {},
   "outputs": [
    {
     "name": "stdout",
     "output_type": "stream",
     "text": [
      "Database connection Established\n",
      "Query Executed\n"
     ]
    }
   ],
   "source": [
    "#create a table to maintain product order history\n",
    "create_ord_table = \"\"\"\n",
    "create table emp_details(\n",
    "e_id INT AUTO_INCREMENT primary key,\n",
    "e_name varchar(35),\n",
    "e_salary INTEGER(6),\n",
    "e_age int,\n",
    "e_gender varchar(35),\n",
    "e_dept varchar(25));\n",
    "\"\"\"\n",
    "\n",
    "#database connection\n",
    "connection = db_conn(\"localhost\",\"root\",\"725@Mysql\",\"mydb_emp\")\n",
    "#execute query\n",
    "execute_query(connection,create_ord_table)"
   ]
  },
  {
   "cell_type": "code",
   "execution_count": 32,
   "id": "sharp-server",
   "metadata": {},
   "outputs": [
    {
     "name": "stdout",
     "output_type": "stream",
     "text": [
      "Database connection Established\n",
      "Query Executed\n"
     ]
    }
   ],
   "source": [
    "#Insert the data into the table\n",
    "emp_info = \"\"\"\n",
    "insert into emp_details (e_name,e_salary,e_age,e_gender,e_dept)\n",
    "values \n",
    "('John' , 95000 , 45 , 'Male' , 'Operations'),\n",
    "\n",
    "('Vinay' , 80000 , 22 , 'Male' , 'Support'),\n",
    "\n",
    "('Bipul' , 120000 , 30 , 'Male' , 'Analytics'),\n",
    "\n",
    "('Anne' , 112000 , 25 , 'Female' , 'Sales'),\n",
    "\n",
    "('Jerry' , 72000 , 28 , 'Female' , 'Support'),\n",
    "\n",
    "('Ankita' , 88000 , 26 , 'Female' , 'Operations') \n",
    "\"\"\"\n",
    "\n",
    "connection = db_conn(\"localhost\",\"root\",\"725@Mysql\",\"mydb_emp\")\n",
    "execute_query(connection,emp_info)"
   ]
  },
  {
   "cell_type": "code",
   "execution_count": 33,
   "id": "arabic-analyst",
   "metadata": {},
   "outputs": [],
   "source": [
    "#Function Read the data table\n",
    "\n",
    "def read_table(connection,query):\n",
    "    cursor = connection.cursor()\n",
    "    result = None\n",
    "    try:\n",
    "        cursor.execute(query)\n",
    "        result = cursor.fetchall()\n",
    "        return result\n",
    "    except Error as err:\n",
    "        print(\"Error-\" , err)"
   ]
  },
  {
   "cell_type": "code",
   "execution_count": 35,
   "id": "popular-retro",
   "metadata": {},
   "outputs": [
    {
     "name": "stdout",
     "output_type": "stream",
     "text": [
      "Database connection Established\n",
      "(1, 'John', 95000, 45, 'Male', 'Operations')\n",
      "(2, 'Vinay', 80000, 22, 'Male', 'Support')\n",
      "(3, 'Bipul', 120000, 30, 'Male', 'Analytics')\n",
      "(4, 'Anne', 112000, 25, 'Female', 'Sales')\n",
      "(5, 'Jerry', 72000, 28, 'Female', 'Support')\n",
      "(6, 'Ankita', 88000, 26, 'Female', 'Operations')\n"
     ]
    }
   ],
   "source": [
    "#Execute Read function\n",
    "read_query = \"select * from emp_details\"\n",
    "connection = db_conn(\"localhost\",\"root\",\"725@Mysql\",\"mydb_emp\")\n",
    "results = read_table(connection,read_query)\n",
    "for res in results:\n",
    "    print(res)"
   ]
  },
  {
   "cell_type": "code",
   "execution_count": 36,
   "id": "transsexual-drove",
   "metadata": {},
   "outputs": [
    {
     "data": {
      "text/html": [
       "<div>\n",
       "<style scoped>\n",
       "    .dataframe tbody tr th:only-of-type {\n",
       "        vertical-align: middle;\n",
       "    }\n",
       "\n",
       "    .dataframe tbody tr th {\n",
       "        vertical-align: top;\n",
       "    }\n",
       "\n",
       "    .dataframe thead th {\n",
       "        text-align: right;\n",
       "    }\n",
       "</style>\n",
       "<table border=\"1\" class=\"dataframe\">\n",
       "  <thead>\n",
       "    <tr style=\"text-align: right;\">\n",
       "      <th></th>\n",
       "      <th>emp_Id</th>\n",
       "      <th>Name</th>\n",
       "      <th>Salary</th>\n",
       "      <th>Age</th>\n",
       "      <th>Gender</th>\n",
       "      <th>Operations</th>\n",
       "    </tr>\n",
       "  </thead>\n",
       "  <tbody>\n",
       "    <tr>\n",
       "      <th>0</th>\n",
       "      <td>1</td>\n",
       "      <td>John</td>\n",
       "      <td>95000</td>\n",
       "      <td>45</td>\n",
       "      <td>Male</td>\n",
       "      <td>Operations</td>\n",
       "    </tr>\n",
       "    <tr>\n",
       "      <th>1</th>\n",
       "      <td>2</td>\n",
       "      <td>Vinay</td>\n",
       "      <td>80000</td>\n",
       "      <td>22</td>\n",
       "      <td>Male</td>\n",
       "      <td>Support</td>\n",
       "    </tr>\n",
       "    <tr>\n",
       "      <th>2</th>\n",
       "      <td>3</td>\n",
       "      <td>Bipul</td>\n",
       "      <td>120000</td>\n",
       "      <td>30</td>\n",
       "      <td>Male</td>\n",
       "      <td>Analytics</td>\n",
       "    </tr>\n",
       "    <tr>\n",
       "      <th>3</th>\n",
       "      <td>4</td>\n",
       "      <td>Anne</td>\n",
       "      <td>112000</td>\n",
       "      <td>25</td>\n",
       "      <td>Female</td>\n",
       "      <td>Sales</td>\n",
       "    </tr>\n",
       "    <tr>\n",
       "      <th>4</th>\n",
       "      <td>5</td>\n",
       "      <td>Jerry</td>\n",
       "      <td>72000</td>\n",
       "      <td>28</td>\n",
       "      <td>Female</td>\n",
       "      <td>Support</td>\n",
       "    </tr>\n",
       "    <tr>\n",
       "      <th>5</th>\n",
       "      <td>6</td>\n",
       "      <td>Ankita</td>\n",
       "      <td>88000</td>\n",
       "      <td>26</td>\n",
       "      <td>Female</td>\n",
       "      <td>Operations</td>\n",
       "    </tr>\n",
       "  </tbody>\n",
       "</table>\n",
       "</div>"
      ],
      "text/plain": [
       "   emp_Id    Name  Salary  Age  Gender  Operations\n",
       "0       1    John   95000   45    Male  Operations\n",
       "1       2   Vinay   80000   22    Male     Support\n",
       "2       3   Bipul  120000   30    Male   Analytics\n",
       "3       4    Anne  112000   25  Female       Sales\n",
       "4       5   Jerry   72000   28  Female     Support\n",
       "5       6  Ankita   88000   26  Female  Operations"
      ]
     },
     "execution_count": 36,
     "metadata": {},
     "output_type": "execute_result"
    }
   ],
   "source": [
    "db_info = []\n",
    "\n",
    "for res in results:\n",
    "    db_info.append(list(res))\n",
    "\n",
    "col_names = ['emp_Id','Name','Salary','Age','Gender','Operations']\n",
    "\n",
    "df = pd.DataFrame(db_info,columns=col_names)\n",
    "df"
   ]
  },
  {
   "cell_type": "markdown",
   "id": "innovative-retro",
   "metadata": {},
   "source": [
    "**Types of Functions**\n",
    "* Basic function\n",
    "* String Function\n",
    "* Case Function\n",
    "* IF Function\n",
    "* User-Defined Function"
   ]
  },
  {
   "cell_type": "markdown",
   "id": "automotive-thanks",
   "metadata": {},
   "source": [
    "**Basic Function**"
   ]
  },
  {
   "cell_type": "markdown",
   "id": "undefined-polls",
   "metadata": {},
   "source": [
    "* min() - gives smallest value"
   ]
  },
  {
   "cell_type": "code",
   "execution_count": 37,
   "id": "altered-hundred",
   "metadata": {},
   "outputs": [
    {
     "name": "stdout",
     "output_type": "stream",
     "text": [
      "Database connection Established\n",
      "(22,)\n"
     ]
    }
   ],
   "source": [
    "min_age = \"select min(e_age) from emp_details;\"\n",
    "connection = db_conn(\"localhost\",\"root\",\"725@Mysql\",\"mydb_emp\")\n",
    "\n",
    "results = read_table(connection,min_age)\n",
    "for res in results:\n",
    "    print(res)"
   ]
  },
  {
   "cell_type": "markdown",
   "id": "lasting-acceptance",
   "metadata": {},
   "source": [
    "* max() - gives largest value"
   ]
  },
  {
   "cell_type": "code",
   "execution_count": 38,
   "id": "postal-handy",
   "metadata": {},
   "outputs": [
    {
     "name": "stdout",
     "output_type": "stream",
     "text": [
      "Database connection Established\n",
      "(45,)\n"
     ]
    }
   ],
   "source": [
    "max_age = \"select max(e_age) from emp_details;\"\n",
    "connection = db_conn(\"localhost\",\"root\",\"725@Mysql\",\"mydb_emp\")\n",
    "\n",
    "results = read_table(connection,max_age)\n",
    "for res in results:\n",
    "    print(res)"
   ]
  },
  {
   "cell_type": "code",
   "execution_count": 39,
   "id": "skilled-pattern",
   "metadata": {},
   "outputs": [
    {
     "name": "stdout",
     "output_type": "stream",
     "text": [
      "Database connection Established\n",
      "(120000,)\n"
     ]
    }
   ],
   "source": [
    "max_salary = \"select max(e_salary) from emp_details;\"\n",
    "connection = db_conn(\"localhost\",\"root\",\"725@Mysql\",\"mydb_emp\")\n",
    "\n",
    "results = read_table(connection,max_salary)\n",
    "for res in results:\n",
    "    print(res)"
   ]
  },
  {
   "cell_type": "markdown",
   "id": "familiar-accent",
   "metadata": {},
   "source": [
    "* count() - returns number rows matching a specific criteria"
   ]
  },
  {
   "cell_type": "code",
   "execution_count": 42,
   "id": "sweet-marijuana",
   "metadata": {},
   "outputs": [
    {
     "name": "stdout",
     "output_type": "stream",
     "text": [
      "Database connection Established\n",
      "(3,)\n"
     ]
    }
   ],
   "source": [
    "count_female = \"select count(*) from emp_details where e_gender = 'Female'\"\n",
    "#count_male = \"select count(*) from emp_details where e_gender = 'Male'\"\n",
    "#count_table = \"select count(*) from emp_details\"\n",
    "\n",
    "connection = db_conn(\"localhost\",\"root\",\"725@Mysql\",\"mydb_emp\")\n",
    "\n",
    "results = read_table(connection,count_female)\n",
    "for res in results:\n",
    "    print(res)"
   ]
  },
  {
   "cell_type": "markdown",
   "id": "requested-coupon",
   "metadata": {},
   "source": [
    "* sum() - returns total sum of a numeric column"
   ]
  },
  {
   "cell_type": "code",
   "execution_count": 43,
   "id": "computational-chemistry",
   "metadata": {},
   "outputs": [
    {
     "name": "stdout",
     "output_type": "stream",
     "text": [
      "Database connection Established\n",
      "(Decimal('567000'),)\n"
     ]
    }
   ],
   "source": [
    "sum_salary = \"select sum(e_salary) from emp_details\"\n",
    "connection = db_conn(\"localhost\",\"root\",\"725@Mysql\",\"mydb_emp\")\n",
    "\n",
    "results = read_table(connection,sum_salary)\n",
    "for res in results:\n",
    "    print(res)"
   ]
  },
  {
   "cell_type": "markdown",
   "id": "republican-russian",
   "metadata": {},
   "source": [
    "* avg() - returns average value of a numeric column"
   ]
  },
  {
   "cell_type": "code",
   "execution_count": 44,
   "id": "roman-national",
   "metadata": {},
   "outputs": [
    {
     "name": "stdout",
     "output_type": "stream",
     "text": [
      "Database connection Established\n",
      "(Decimal('94500.0000'),)\n"
     ]
    }
   ],
   "source": [
    "avg_salary = \"select avg(e_salary) from emp_details\"\n",
    "connection = db_conn(\"localhost\",\"root\",\"725@Mysql\",\"mydb_emp\")\n",
    "\n",
    "results = read_table(connection,avg_salary)\n",
    "for res in results:\n",
    "    print(res)"
   ]
  },
  {
   "cell_type": "code",
   "execution_count": 45,
   "id": "described-burlington",
   "metadata": {},
   "outputs": [
    {
     "name": "stdout",
     "output_type": "stream",
     "text": [
      "Database connection Established\n",
      "(Decimal('29.3333'),)\n"
     ]
    }
   ],
   "source": [
    "avg_age = \"select avg(e_age) from emp_details\"\n",
    "connection = db_conn(\"localhost\",\"root\",\"725@Mysql\",\"mydb_emp\")\n",
    "\n",
    "results = read_table(connection,avg_age)\n",
    "for res in results:\n",
    "    print(res)"
   ]
  },
  {
   "cell_type": "markdown",
   "id": "informative-spiritual",
   "metadata": {},
   "source": [
    "**String Function**\n",
    " * ltrim() - Removes spaces on left side of the character expression\n",
    " * lower() - converts all characters into lower cases\n",
    " * upper() - converts all characters into upper cases\n",
    " * reverse() - reverses all charactes in the string\n",
    " * substring() - gives sub string from original using slicing"
   ]
  },
  {
   "cell_type": "code",
   "execution_count": 46,
   "id": "younger-chuck",
   "metadata": {},
   "outputs": [
    {
     "name": "stdout",
     "output_type": "stream",
     "text": [
      "('Hello World!',)\n"
     ]
    }
   ],
   "source": [
    "l_trim = \"select ltrim ('   Hello World!')\"\n",
    "\n",
    "results = read_table(connection,l_trim)\n",
    "for res in results:\n",
    "    print(res)"
   ]
  },
  {
   "cell_type": "code",
   "execution_count": 47,
   "id": "revolutionary-serial",
   "metadata": {},
   "outputs": [
    {
     "name": "stdout",
     "output_type": "stream",
     "text": [
      "('Hello World!',)\n"
     ]
    }
   ],
   "source": [
    "r_trim = \"select rtrim ('Hello World!    ')\"\n",
    "\n",
    "results = read_table(connection,r_trim)\n",
    "for res in results:\n",
    "    print(res)"
   ]
  },
  {
   "cell_type": "code",
   "execution_count": 48,
   "id": "concerned-campbell",
   "metadata": {},
   "outputs": [
    {
     "name": "stdout",
     "output_type": "stream",
     "text": [
      "('hello world!',)\n"
     ]
    }
   ],
   "source": [
    "l_case= \"select lower ('Hello World!')\"\n",
    "\n",
    "results = read_table(connection,l_case)\n",
    "for res in results:\n",
    "    print(res)"
   ]
  },
  {
   "cell_type": "code",
   "execution_count": 49,
   "id": "excited-michael",
   "metadata": {},
   "outputs": [
    {
     "name": "stdout",
     "output_type": "stream",
     "text": [
      "('HELLO WORLD!',)\n"
     ]
    }
   ],
   "source": [
    "u_case= \"select upper ('Hello World!')\"\n",
    "\n",
    "results = read_table(connection,u_case)\n",
    "for res in results:\n",
    "    print(res)"
   ]
  },
  {
   "cell_type": "code",
   "execution_count": 50,
   "id": "numerous-silver",
   "metadata": {},
   "outputs": [
    {
     "name": "stdout",
     "output_type": "stream",
     "text": [
      "('!dlroW olleH',)\n"
     ]
    }
   ],
   "source": [
    "r_string= \"select reverse ('Hello World!')\"\n",
    "\n",
    "results = read_table(connection,r_string)\n",
    "for res in results:\n",
    "    print(res)"
   ]
  },
  {
   "cell_type": "code",
   "execution_count": 53,
   "id": "covered-landscape",
   "metadata": {},
   "outputs": [
    {
     "name": "stdout",
     "output_type": "stream",
     "text": [
      "(' seems',)\n"
     ]
    }
   ],
   "source": [
    "sub_string = \"select substring('Today it seems to be rain' , 9 , 6)\"\n",
    "\n",
    "results = read_table(connection,sub_string)\n",
    "for res in results:\n",
    "    print(res)"
   ]
  },
  {
   "cell_type": "markdown",
   "id": "boring-satellite",
   "metadata": {},
   "source": [
    "**CASE Statements - Used to make multiway decisions**"
   ]
  },
  {
   "cell_type": "code",
   "execution_count": 54,
   "id": "acquired-montgomery",
   "metadata": {},
   "outputs": [
    {
     "name": "stdout",
     "output_type": "stream",
     "text": [
      "Database connection Established\n",
      "(1, 'John', 95000, 45, 'Male', 'Operations', 'B')\n",
      "(2, 'Vinay', 80000, 22, 'Male', 'Support', 'C')\n",
      "(3, 'Bipul', 120000, 30, 'Male', 'Analytics', 'A')\n",
      "(4, 'Anne', 112000, 25, 'Female', 'Sales', 'A')\n",
      "(5, 'Jerry', 72000, 28, 'Female', 'Support', 'C')\n",
      "(6, 'Ankita', 88000, 26, 'Female', 'Operations', 'B')\n"
     ]
    }
   ],
   "source": [
    "case_query = \"\"\"\n",
    "select *,\n",
    "case\n",
    "when e_salary < 85000 then 'C'\n",
    "when e_salary < 100000 then 'B'\n",
    "else 'A'\n",
    "end as BAND\n",
    "from emp_details;\n",
    "\"\"\"\n",
    "\n",
    "connection = db_conn(\"localhost\",\"root\",\"725@Mysql\",\"mydb_emp\")\n",
    "\n",
    "results = read_table(connection,case_query)\n",
    "for res in results:\n",
    "    print(res)"
   ]
  },
  {
   "cell_type": "markdown",
   "id": "original-elder",
   "metadata": {},
   "source": [
    "* IF() - It is an alternative to case statements"
   ]
  },
  {
   "cell_type": "code",
   "execution_count": 56,
   "id": "specialized-medication",
   "metadata": {},
   "outputs": [
    {
     "name": "stdout",
     "output_type": "stream",
     "text": [
      "Database connection Established\n",
      "(1, 'John', 45, '2nd Gen')\n",
      "(2, 'Vinay', 22, '1st Gen')\n",
      "(3, 'Bipul', 30, '2nd Gen')\n",
      "(4, 'Anne', 25, '1st Gen')\n",
      "(5, 'Jerry', 28, '1st Gen')\n",
      "(6, 'Ankita', 26, '1st Gen')\n"
     ]
    }
   ],
   "source": [
    "iiif_query = \"\"\"select e_id,e_name,e_age, \n",
    "IF(e_age >= 30 , '2nd Gen' , '1st Gen')\n",
    "as e_generation from emp_details\"\"\"\n",
    "\n",
    "connection = db_conn(\"localhost\",\"root\",\"725@Mysql\",\"mydb_emp\")\n",
    "\n",
    "results = read_table(connection,iiif_query)\n",
    "for res in results:\n",
    "    print(res)"
   ]
  },
  {
   "cell_type": "markdown",
   "id": "upper-plant",
   "metadata": {},
   "source": [
    "**Clauses in MySQL - OrderBy, GroupBy,having**"
   ]
  },
  {
   "cell_type": "markdown",
   "id": "greater-consensus",
   "metadata": {},
   "source": [
    "**Order By - to sort the data in ascending or descending order**"
   ]
  },
  {
   "cell_type": "code",
   "execution_count": 57,
   "id": "diagnostic-memory",
   "metadata": {},
   "outputs": [
    {
     "name": "stdout",
     "output_type": "stream",
     "text": [
      "(5, 'Jerry', 72000, 28, 'Female', 'Support')\n",
      "(2, 'Vinay', 80000, 22, 'Male', 'Support')\n",
      "(6, 'Ankita', 88000, 26, 'Female', 'Operations')\n",
      "(1, 'John', 95000, 45, 'Male', 'Operations')\n",
      "(4, 'Anne', 112000, 25, 'Female', 'Sales')\n",
      "(3, 'Bipul', 120000, 30, 'Male', 'Analytics')\n"
     ]
    }
   ],
   "source": [
    "que = \"select * from emp_details order by e_salary\"\n",
    "\n",
    "results = read_table(connection,que)\n",
    "for res in results:\n",
    "    print(res)"
   ]
  },
  {
   "cell_type": "code",
   "execution_count": 58,
   "id": "resident-consultation",
   "metadata": {},
   "outputs": [
    {
     "name": "stdout",
     "output_type": "stream",
     "text": [
      "(3, 'Bipul', 120000, 30, 'Male', 'Analytics')\n",
      "(4, 'Anne', 112000, 25, 'Female', 'Sales')\n",
      "(1, 'John', 95000, 45, 'Male', 'Operations')\n",
      "(6, 'Ankita', 88000, 26, 'Female', 'Operations')\n",
      "(2, 'Vinay', 80000, 22, 'Male', 'Support')\n",
      "(5, 'Jerry', 72000, 28, 'Female', 'Support')\n"
     ]
    }
   ],
   "source": [
    "que = \"select * from emp_details order by e_salary DESC\"\n",
    "\n",
    "results = read_table(connection,que)\n",
    "for res in results:\n",
    "    print(res)"
   ]
  },
  {
   "cell_type": "markdown",
   "id": "powerful-groove",
   "metadata": {},
   "source": [
    "**Top 3 Rows**"
   ]
  },
  {
   "cell_type": "code",
   "execution_count": 61,
   "id": "overhead-pearl",
   "metadata": {},
   "outputs": [
    {
     "name": "stdout",
     "output_type": "stream",
     "text": [
      "(1, 'John', 95000, 45, 'Male', 'Operations')\n",
      "(2, 'Vinay', 80000, 22, 'Male', 'Support')\n",
      "(3, 'Bipul', 120000, 30, 'Male', 'Analytics')\n"
     ]
    }
   ],
   "source": [
    "que = \"select * from emp_details limit 3\"\n",
    "results = read_table(connection,que)\n",
    "for res in results:\n",
    "    print(res)"
   ]
  },
  {
   "cell_type": "code",
   "execution_count": 62,
   "id": "false-variety",
   "metadata": {},
   "outputs": [
    {
     "name": "stdout",
     "output_type": "stream",
     "text": [
      "(1, 'John', 95000, 45, 'Male', 'Operations')\n",
      "(3, 'Bipul', 120000, 30, 'Male', 'Analytics')\n",
      "(5, 'Jerry', 72000, 28, 'Female', 'Support')\n"
     ]
    }
   ],
   "source": [
    "#select top 3 rows from emp details order by e_age in desc order\n",
    "\n",
    "que = \"select * from emp_details order by e_age DESC limit 3\"\n",
    "results = read_table(connection,que)\n",
    "for res in results:\n",
    "    print(res)"
   ]
  },
  {
   "cell_type": "markdown",
   "id": "federal-oakland",
   "metadata": {},
   "source": [
    "**Group By - Used to get aggregate result with respect to a group**"
   ]
  },
  {
   "cell_type": "code",
   "execution_count": 70,
   "id": "retired-campbell",
   "metadata": {},
   "outputs": [
    {
     "name": "stdout",
     "output_type": "stream",
     "text": [
      "(Decimal('98333.3333'), 'Male')\n",
      "(Decimal('90666.6667'), 'Female')\n"
     ]
    }
   ],
   "source": [
    "#Average Salary of Male and female\n",
    "\n",
    "que = \"select avg(e_salary),e_gender from emp_details group by e_gender\"\n",
    "results = read_table(connection,que)\n",
    "for res in results:\n",
    "    print(res)"
   ]
  },
  {
   "cell_type": "code",
   "execution_count": 71,
   "id": "studied-jaguar",
   "metadata": {},
   "outputs": [
    {
     "name": "stdout",
     "output_type": "stream",
     "text": [
      "(Decimal('91500.0000'), Decimal('35.5000'), 'Operations')\n",
      "(Decimal('76000.0000'), Decimal('25.0000'), 'Support')\n",
      "(Decimal('120000.0000'), Decimal('30.0000'), 'Analytics')\n",
      "(Decimal('112000.0000'), Decimal('25.0000'), 'Sales')\n"
     ]
    }
   ],
   "source": [
    "#Average salary and average Age by department\n",
    "que = \"select avg(e_salary),avg(e_age),e_dept from emp_details group by e_dept\"\n",
    "results = read_table(connection,que)\n",
    "for res in results:\n",
    "    print(res)"
   ]
  },
  {
   "cell_type": "code",
   "execution_count": 73,
   "id": "failing-italic",
   "metadata": {},
   "outputs": [
    {
     "name": "stdout",
     "output_type": "stream",
     "text": [
      "(Decimal('76000.0000'), Decimal('25.0000'), 'Support')\n",
      "(Decimal('112000.0000'), Decimal('25.0000'), 'Sales')\n",
      "(Decimal('120000.0000'), Decimal('30.0000'), 'Analytics')\n",
      "(Decimal('91500.0000'), Decimal('35.5000'), 'Operations')\n"
     ]
    }
   ],
   "source": [
    "#Average salary and average Age by department ordering the result by age\n",
    "que = \"\"\"select avg(e_salary),avg(e_age),e_dept \n",
    "from emp_details group by e_dept order by avg(e_age)\"\"\"\n",
    "\n",
    "results = read_table(connection,que)\n",
    "for res in results:\n",
    "    print(res)"
   ]
  },
  {
   "cell_type": "code",
   "execution_count": 74,
   "id": "vulnerable-housing",
   "metadata": {},
   "outputs": [
    {
     "name": "stdout",
     "output_type": "stream",
     "text": [
      "(Decimal('76000.0000'), Decimal('25.0000'), 'Support')\n",
      "(Decimal('91500.0000'), Decimal('35.5000'), 'Operations')\n",
      "(Decimal('112000.0000'), Decimal('25.0000'), 'Sales')\n",
      "(Decimal('120000.0000'), Decimal('30.0000'), 'Analytics')\n"
     ]
    }
   ],
   "source": [
    "#Average salary and average Age by department ordering the result by salary\n",
    "que = \"\"\"select avg(e_salary),avg(e_age),e_dept \n",
    "from emp_details group by e_dept order by avg(e_salary)\"\"\"\n",
    "\n",
    "results = read_table(connection,que)\n",
    "for res in results:\n",
    "    print(res)"
   ]
  },
  {
   "cell_type": "code",
   "execution_count": 75,
   "id": "grave-mumbai",
   "metadata": {},
   "outputs": [
    {
     "name": "stdout",
     "output_type": "stream",
     "text": [
      "(Decimal('91500.0000'), Decimal('35.5000'), 'Operations')\n",
      "(Decimal('120000.0000'), Decimal('30.0000'), 'Analytics')\n",
      "(Decimal('76000.0000'), Decimal('25.0000'), 'Support')\n",
      "(Decimal('112000.0000'), Decimal('25.0000'), 'Sales')\n"
     ]
    }
   ],
   "source": [
    "#Average salary and average Age by department ordering the result by age in descending order\n",
    "\n",
    "que = \"\"\"select avg(e_salary),avg(e_age),e_dept \n",
    "from emp_details group by e_dept order by avg(e_age) desc\"\"\"\n",
    "\n",
    "results = read_table(connection,que)\n",
    "for res in results:\n",
    "    print(res)"
   ]
  },
  {
   "cell_type": "markdown",
   "id": "magnetic-being",
   "metadata": {},
   "source": [
    "**Having Clauses - Used with groupby to impose conditions on groups**"
   ]
  },
  {
   "cell_type": "code",
   "execution_count": 80,
   "id": "checked-taxation",
   "metadata": {},
   "outputs": [
    {
     "name": "stdout",
     "output_type": "stream",
     "text": [
      "('Analytics', Decimal('120000.0000'))\n",
      "('Sales', Decimal('112000.0000'))\n"
     ]
    }
   ],
   "source": [
    "que = \"\"\"select e_dept, avg(e_salary) from emp_details group by e_dept \n",
    "having avg(e_salary) > 100000\"\"\"\n",
    "\n",
    "results = read_table(connection,que)\n",
    "for res in results:\n",
    "    print(res)"
   ]
  },
  {
   "cell_type": "code",
   "execution_count": 83,
   "id": "recreational-position",
   "metadata": {},
   "outputs": [
    {
     "name": "stdout",
     "output_type": "stream",
     "text": [
      "('Bipul', 'Analytics', 120000)\n",
      "('Anne', 'Sales', 112000)\n"
     ]
    }
   ],
   "source": [
    "que = \"\"\"select e_name , e_dept, e_salary from emp_details where e_salary > 100000\"\"\"\n",
    "\n",
    "results = read_table(connection,que)\n",
    "for res in results:\n",
    "    print(res)"
   ]
  },
  {
   "cell_type": "code",
   "execution_count": null,
   "id": "recorded-gardening",
   "metadata": {},
   "outputs": [],
   "source": []
  }
 ],
 "metadata": {
  "kernelspec": {
   "display_name": "Python 3",
   "language": "python",
   "name": "python3"
  },
  "language_info": {
   "codemirror_mode": {
    "name": "ipython",
    "version": 3
   },
   "file_extension": ".py",
   "mimetype": "text/x-python",
   "name": "python",
   "nbconvert_exporter": "python",
   "pygments_lexer": "ipython3",
   "version": "3.7.7"
  }
 },
 "nbformat": 4,
 "nbformat_minor": 5
}
