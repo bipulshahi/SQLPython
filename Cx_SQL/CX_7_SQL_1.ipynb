{
  "nbformat": 4,
  "nbformat_minor": 0,
  "metadata": {
    "colab": {
      "provenance": []
    },
    "kernelspec": {
      "name": "python3",
      "display_name": "Python 3"
    },
    "language_info": {
      "name": "python"
    }
  },
  "cells": [
    {
      "cell_type": "markdown",
      "source": [
        "**SQL** - Structured Query Language used to communicate with databases and manipulate data within them. It is like asking the filing clerk to find specific documents based on criteria.\n",
        "\n",
        "**Databases** - Imagine a fining cabinet with folders(tables) holding documents (rows) with information (columns). Database store organized data electronically, line customer records, product info or website analytics etc."
      ],
      "metadata": {
        "id": "4yDrlrqLjyG3"
      }
    },
    {
      "cell_type": "markdown",
      "source": [
        "**Executing SQL QUeries**\n",
        "  * command line tools :- like mysql or psql for direct interaction.\n",
        "  * Database Management System (DBMS) :- Software with graphical interface, like MySQL Workbench or phpMyAdmin\n",
        "  * Using compatible programming language - Python\n"
      ],
      "metadata": {
        "id": "jgPZCZe4lG9W"
      }
    },
    {
      "cell_type": "markdown",
      "source": [
        "**Relational Database Management System (RDBMS)** - Which uses SQL as their Primary language for interacting with data.\n",
        "\n",
        "  * MySQL:\n",
        "    * Open Source, free to use : Widely Adopted for web applications and smaller projects.\n",
        "    * Ease to use : Simple user friendly interface.\n",
        "    * Features : Supports various storage engine,replication & user management etc.\n",
        "\n",
        "  * Microsoft SQL Server (MSSQL) :\n",
        "    * Commercial : Requires licensing from Microsoft.\n",
        "    * Performance : Suitable for large enterprise applications.\n",
        "    * Features : Robust security, rich set of advanced features, tight integration with microsoft products.\n",
        "    * Drawbacks : Costly for smaller projects, licensing complexity, locked into microsoft ecosystem.\n",
        "\n",
        "  * PostgreSQL :\n",
        "    * Open Source, free to use, strong community support and active development.\n",
        "\n",
        "  * Oracle Database :\n",
        "    * Commercial : Expensive licensing model.\n",
        "\n",
        "    "
      ],
      "metadata": {
        "id": "FGOBcCH_mDcF"
      }
    },
    {
      "cell_type": "markdown",
      "source": [
        "**How to choose RDBMS**\n",
        "  * Budget :- Open Source vs commecial licensing costs\n",
        "  * Project Size and complexity :- Scalability and feature requirement.\n",
        "  * Technical expertise :- Ease of use, community support and learning curve.\n",
        "  * Other software integration :- Compatibility with existing tools and infrastructure."
      ],
      "metadata": {
        "id": "fmo7oxPWpPK7"
      }
    },
    {
      "cell_type": "markdown",
      "source": [
        "**Install the following Package**\n",
        "  * https://dev.mysql.com/downloads/shell/\n",
        "  * https://dev.mysql.com/downloads/windows/installer/"
      ],
      "metadata": {
        "id": "zhYR9jK-qlvg"
      }
    },
    {
      "cell_type": "markdown",
      "source": [
        "**Start MySQL Client - SQL Command line tool**\n",
        "  * Windows\n",
        "    -> MySQL Client\n",
        "  * Mac\n",
        "    -> start terminal -> /usr/local/mysql/bin/mysql -u root -p"
      ],
      "metadata": {
        "id": "P2UXR6mjq4V3"
      }
    },
    {
      "cell_type": "markdown",
      "source": [
        "* to confirm connection with server:-\n",
        "\n",
        "    -> \\status;"
      ],
      "metadata": {
        "id": "BmAo9hh0LZZh"
      }
    },
    {
      "cell_type": "markdown",
      "source": [
        "* to see all the databases at your server\n",
        "\n",
        "  -> show databases;"
      ],
      "metadata": {
        "id": "MDkW06VrLmjJ"
      }
    },
    {
      "cell_type": "markdown",
      "source": [
        "* to create a database\n",
        "\n",
        "    -> create database database_name;"
      ],
      "metadata": {
        "id": "Z1r65iyEMIM_"
      }
    },
    {
      "cell_type": "markdown",
      "source": [
        "* To select a database to be used\n",
        "\n",
        "    -> use database_name;"
      ],
      "metadata": {
        "id": "sX9ohu3wLvgz"
      }
    },
    {
      "cell_type": "markdown",
      "source": [
        "* to see all the tables within a database\n",
        "\n",
        "    -> show tables;"
      ],
      "metadata": {
        "id": "nFzO54GaMq9y"
      }
    },
    {
      "cell_type": "markdown",
      "source": [
        "* to create a data table to store information\n",
        "\n",
        "    -> create table table_name (id int, name char, email char);"
      ],
      "metadata": {
        "id": "ir1mfQITM--2"
      }
    },
    {
      "cell_type": "markdown",
      "source": [
        "* to view information in the table\n",
        "\n",
        "    -> select * from table_name;"
      ],
      "metadata": {
        "id": "UusAZ7GlN-CV"
      }
    },
    {
      "cell_type": "markdown",
      "source": [
        "* to insert a new data row in a table\n",
        "\n",
        "    -> insert into table_name (id,name,email) values (1 , \"A\" ,  \"Z\")"
      ],
      "metadata": {
        "id": "o5zyUzIUOI8k"
      }
    },
    {
      "cell_type": "markdown",
      "source": [
        "* to see structure of any existing table\n",
        "\n",
        "    -> describe table_name;"
      ],
      "metadata": {
        "id": "oXChlEKsPRhL"
      }
    },
    {
      "cell_type": "code",
      "execution_count": null,
      "metadata": {
        "id": "05eyGr6ejwvb"
      },
      "outputs": [],
      "source": []
    }
  ]
}