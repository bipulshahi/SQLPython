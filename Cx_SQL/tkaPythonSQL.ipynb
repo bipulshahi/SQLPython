{
 "cells": [
  {
   "cell_type": "code",
   "execution_count": 1,
   "id": "92d27195-ba13-4468-8e14-ded259667d8f",
   "metadata": {},
   "outputs": [
    {
     "name": "stdout",
     "output_type": "stream",
     "text": [
      "Hello World\n"
     ]
    }
   ],
   "source": [
    "print(\"Hello World\")"
   ]
  },
  {
   "cell_type": "code",
   "execution_count": 3,
   "id": "949dd6d3-6195-40cf-937d-ab7500fa94fd",
   "metadata": {},
   "outputs": [
    {
     "name": "stdout",
     "output_type": "stream",
     "text": [
      "Collecting mysql-connector-python\n",
      "  Downloading mysql_connector_python-8.3.0-cp39-cp39-win_amd64.whl (15.4 MB)\n",
      "Installing collected packages: mysql-connector-python\n",
      "Successfully installed mysql-connector-python-8.3.0\n"
     ]
    },
    {
     "name": "stderr",
     "output_type": "stream",
     "text": [
      "WARNING: You are using pip version 20.2.3; however, version 24.0 is available.\n",
      "You should consider upgrading via the 'c:\\users\\training\\appdata\\local\\programs\\python\\python39\\python.exe -m pip install --upgrade pip' command.\n"
     ]
    }
   ],
   "source": [
    "!pip install mysql-connector-python"
   ]
  },
  {
   "cell_type": "code",
   "execution_count": 5,
   "id": "bee70818-e59e-45b7-94aa-2c26bf817c00",
   "metadata": {},
   "outputs": [
    {
     "name": "stdout",
     "output_type": "stream",
     "text": [
      "21\n"
     ]
    }
   ],
   "source": [
    "import mysql.connector\n",
    "\n",
    "mydb = mysql.connector.connect(host = \"localhost\",\n",
    "                               user = \"root\",\n",
    "                               password = \"725@Mysql\")\n",
    "\n",
    "print(mydb.connection_id)"
   ]
  },
  {
   "cell_type": "code",
   "execution_count": 6,
   "id": "d0b41f13-a828-4e93-b5a2-fc5e5ce8a5e2",
   "metadata": {},
   "outputs": [],
   "source": [
    "cur = mydb.cursor()  #object to execute sql queries"
   ]
  },
  {
   "cell_type": "code",
   "execution_count": 7,
   "id": "26035e87-d1c0-437c-bd6f-c046b7005091",
   "metadata": {},
   "outputs": [],
   "source": [
    "cur.execute(\"show databases\")"
   ]
  },
  {
   "cell_type": "code",
   "execution_count": 8,
   "id": "928d669d-70c0-494c-8b99-dbfcf68bc729",
   "metadata": {},
   "outputs": [
    {
     "name": "stdout",
     "output_type": "stream",
     "text": [
      "('information_schema',)\n",
      "('mysql',)\n",
      "('performance_schema',)\n",
      "('sakila',)\n",
      "('sys',)\n",
      "('tka_db1',)\n",
      "('world',)\n"
     ]
    }
   ],
   "source": [
    "for databases in cur:\n",
    "    print(databases)"
   ]
  },
  {
   "cell_type": "code",
   "execution_count": 9,
   "id": "3dd1122a-2f70-48c2-85d8-f203ac6c7099",
   "metadata": {},
   "outputs": [],
   "source": [
    "cur.execute(\"use tka_db1\")"
   ]
  },
  {
   "cell_type": "code",
   "execution_count": 10,
   "id": "9998bcae-c76b-463a-ba95-f8b822bd49d6",
   "metadata": {},
   "outputs": [],
   "source": [
    "cur.execute(\"show tables\")"
   ]
  },
  {
   "cell_type": "code",
   "execution_count": 11,
   "id": "a2afa161-c741-47ff-855c-862a00913094",
   "metadata": {},
   "outputs": [
    {
     "name": "stdout",
     "output_type": "stream",
     "text": [
      "('table1',)\n",
      "('table2',)\n"
     ]
    }
   ],
   "source": [
    "for table in cur:\n",
    "    print(table)"
   ]
  },
  {
   "cell_type": "code",
   "execution_count": 12,
   "id": "2881692f-cb38-4ef7-82b8-95b11da92261",
   "metadata": {},
   "outputs": [],
   "source": [
    "cur.execute(\"describe table2\")"
   ]
  },
  {
   "cell_type": "code",
   "execution_count": 13,
   "id": "29c11268-1ad7-424c-a56f-6df9b74bf0b5",
   "metadata": {},
   "outputs": [
    {
     "name": "stdout",
     "output_type": "stream",
     "text": [
      "('id', 'int', 'NO', '', None, '')\n",
      "('name', 'varchar(20)', 'YES', '', None, '')\n",
      "('email', 'varchar(40)', 'YES', '', None, '')\n"
     ]
    }
   ],
   "source": [
    "for detail in cur:\n",
    "    print(detail)"
   ]
  },
  {
   "cell_type": "code",
   "execution_count": 14,
   "id": "b305e470-e092-4bc3-bb95-ffcd9bfc74c6",
   "metadata": {},
   "outputs": [],
   "source": [
    "cur.execute(\"select * from table1\")"
   ]
  },
  {
   "cell_type": "code",
   "execution_count": 15,
   "id": "953daa2b-a570-4e12-9c48-408ed2232cf7",
   "metadata": {},
   "outputs": [
    {
     "name": "stdout",
     "output_type": "stream",
     "text": [
      "(1, 'B', 'b')\n"
     ]
    }
   ],
   "source": [
    "for data in cur:\n",
    "    print(data)"
   ]
  },
  {
   "cell_type": "code",
   "execution_count": 16,
   "id": "fee10a1d-7be1-465f-b559-3d96bb3a5ac5",
   "metadata": {},
   "outputs": [],
   "source": [
    "cur.execute(\"select * from table2\")"
   ]
  },
  {
   "cell_type": "code",
   "execution_count": 17,
   "id": "bcc74dbd-352d-4c20-907c-ccfba9461147",
   "metadata": {},
   "outputs": [
    {
     "name": "stdout",
     "output_type": "stream",
     "text": [
      "(1, 'Bipul', 'bipul@abc.com')\n"
     ]
    }
   ],
   "source": [
    "for data in cur:\n",
    "    print(data)"
   ]
  },
  {
   "cell_type": "code",
   "execution_count": 18,
   "id": "51005d94-0b34-4cde-9bfa-681e418618f3",
   "metadata": {},
   "outputs": [],
   "source": [
    "cur.execute(\"create database tka_db2\")"
   ]
  },
  {
   "cell_type": "code",
   "execution_count": 19,
   "id": "a62d6cef-ebbe-4c72-bfc1-59a7ef593f28",
   "metadata": {},
   "outputs": [],
   "source": [
    "cur.execute(\"show databases\")"
   ]
  },
  {
   "cell_type": "code",
   "execution_count": 20,
   "id": "d6dcddd9-d5fb-4ae0-bde6-5922cb406bc1",
   "metadata": {},
   "outputs": [
    {
     "name": "stdout",
     "output_type": "stream",
     "text": [
      "('information_schema',)\n",
      "('mysql',)\n",
      "('performance_schema',)\n",
      "('sakila',)\n",
      "('sys',)\n",
      "('tka_db1',)\n",
      "('tka_db2',)\n",
      "('world',)\n"
     ]
    }
   ],
   "source": [
    "for db in cur:\n",
    "    print(db)"
   ]
  },
  {
   "cell_type": "code",
   "execution_count": 22,
   "id": "a41131e1-eb1e-404e-befc-36a9024a461a",
   "metadata": {},
   "outputs": [],
   "source": [
    "cur.execute(\"use tka_db2\")"
   ]
  },
  {
   "cell_type": "code",
   "execution_count": 68,
   "id": "022ec9a5-1f04-4845-b49a-fa433e4b0080",
   "metadata": {},
   "outputs": [],
   "source": [
    "mydb = mysql.connector.connect(host = \"localhost\",\n",
    "                               user = \"root\",\n",
    "                               password = \"725@Mysql\",\n",
    "                              database = \"tka_db2\")\n",
    "\n",
    "cur = mydb.cursor()"
   ]
  },
  {
   "cell_type": "code",
   "execution_count": 25,
   "id": "a612eb4e-5088-4df0-8feb-3c893334cd33",
   "metadata": {},
   "outputs": [
    {
     "name": "stdout",
     "output_type": "stream",
     "text": [
      "Data Table newbook is created in tka_db2 to store data\n"
     ]
    }
   ],
   "source": [
    "s = \"create table newbook (bookid integer(4) , title varchar(20) , price float(5,2))\"\n",
    "cur.execute(s)\n",
    "mydb.commit()\n",
    "print(\"Data Table newbook is created in tka_db2 to store data\")"
   ]
  },
  {
   "cell_type": "code",
   "execution_count": 26,
   "id": "c57e0215-eb1e-4e4f-92af-17dd6cbfe5f9",
   "metadata": {},
   "outputs": [
    {
     "name": "stdout",
     "output_type": "stream",
     "text": [
      "value added into the table\n"
     ]
    }
   ],
   "source": [
    "s = \"insert into newbook (bookid,title,price) values (%s,%s,%s)\"\n",
    "value = (2,\"PHP\",250)\n",
    "cur.execute(s,value)\n",
    "mydb.commit()\n",
    "print(\"value added into the table\")"
   ]
  },
  {
   "cell_type": "code",
   "execution_count": 27,
   "id": "aaf5a82c-7ee2-486d-af64-b299a3afecc9",
   "metadata": {},
   "outputs": [
    {
     "name": "stdout",
     "output_type": "stream",
     "text": [
      "Multiple values added into the table\n"
     ]
    }
   ],
   "source": [
    "s = \"insert into newbook (bookid,title,price) values (%s,%s,%s)\"\n",
    "value = [(3,\"Python\",210) , (4,\"HTML\",190) , (5,\"Java\",220)]\n",
    "cur.executemany(s,value)\n",
    "mydb.commit()\n",
    "print(\"Multiple values added into the table\")"
   ]
  },
  {
   "cell_type": "code",
   "execution_count": 28,
   "id": "bae0d194-c5ec-447b-b505-4a0e933cea4d",
   "metadata": {},
   "outputs": [
    {
     "name": "stdout",
     "output_type": "stream",
     "text": [
      "[(2, 'PHP', 250.0), (3, 'Python', 210.0), (4, 'HTML', 190.0), (5, 'Java', 220.0)]\n"
     ]
    }
   ],
   "source": [
    "s = \"select * from newbook\"\n",
    "cur.execute(s)\n",
    "result = cur.fetchall()\n",
    "print(result)"
   ]
  },
  {
   "cell_type": "code",
   "execution_count": 30,
   "id": "99c71217-86a8-4459-ba55-f34133419076",
   "metadata": {},
   "outputs": [
    {
     "name": "stdout",
     "output_type": "stream",
     "text": [
      "Collecting pandas\n",
      "  Downloading pandas-2.2.2-cp39-cp39-win_amd64.whl (11.6 MB)\n",
      "Collecting tzdata>=2022.7\n",
      "  Downloading tzdata-2024.1-py2.py3-none-any.whl (345 kB)\n",
      "Collecting pytz>=2020.1\n",
      "  Downloading pytz-2024.1-py2.py3-none-any.whl (505 kB)\n",
      "Collecting numpy>=1.22.4; python_version < \"3.11\"\n",
      "  Downloading numpy-1.26.4-cp39-cp39-win_amd64.whl (15.8 MB)\n",
      "Requirement already satisfied: python-dateutil>=2.8.2 in c:\\users\\training\\appdata\\local\\programs\\python\\python39\\lib\\site-packages (from pandas) (2.9.0.post0)\n",
      "Requirement already satisfied: six>=1.5 in c:\\users\\training\\appdata\\local\\programs\\python\\python39\\lib\\site-packages (from python-dateutil>=2.8.2->pandas) (1.16.0)\n",
      "Installing collected packages: tzdata, pytz, numpy, pandas\n",
      "Successfully installed numpy-1.26.4 pandas-2.2.2 pytz-2024.1 tzdata-2024.1\n"
     ]
    },
    {
     "name": "stderr",
     "output_type": "stream",
     "text": [
      "WARNING: You are using pip version 20.2.3; however, version 24.0 is available.\n",
      "You should consider upgrading via the 'c:\\users\\training\\appdata\\local\\programs\\python\\python39\\python.exe -m pip install --upgrade pip' command.\n"
     ]
    }
   ],
   "source": [
    "!pip install pandas"
   ]
  },
  {
   "cell_type": "code",
   "execution_count": 33,
   "id": "6adfea57-2257-4f73-8eb3-99817f62616e",
   "metadata": {},
   "outputs": [
    {
     "data": {
      "text/html": [
       "<div>\n",
       "<style scoped>\n",
       "    .dataframe tbody tr th:only-of-type {\n",
       "        vertical-align: middle;\n",
       "    }\n",
       "\n",
       "    .dataframe tbody tr th {\n",
       "        vertical-align: top;\n",
       "    }\n",
       "\n",
       "    .dataframe thead th {\n",
       "        text-align: right;\n",
       "    }\n",
       "</style>\n",
       "<table border=\"1\" class=\"dataframe\">\n",
       "  <thead>\n",
       "    <tr style=\"text-align: right;\">\n",
       "      <th></th>\n",
       "      <th>bookid</th>\n",
       "      <th>book_name</th>\n",
       "      <th>price</th>\n",
       "    </tr>\n",
       "  </thead>\n",
       "  <tbody>\n",
       "    <tr>\n",
       "      <th>0</th>\n",
       "      <td>2</td>\n",
       "      <td>PHP</td>\n",
       "      <td>250.0</td>\n",
       "    </tr>\n",
       "    <tr>\n",
       "      <th>1</th>\n",
       "      <td>3</td>\n",
       "      <td>Python</td>\n",
       "      <td>210.0</td>\n",
       "    </tr>\n",
       "    <tr>\n",
       "      <th>2</th>\n",
       "      <td>4</td>\n",
       "      <td>HTML</td>\n",
       "      <td>190.0</td>\n",
       "    </tr>\n",
       "    <tr>\n",
       "      <th>3</th>\n",
       "      <td>5</td>\n",
       "      <td>Java</td>\n",
       "      <td>220.0</td>\n",
       "    </tr>\n",
       "  </tbody>\n",
       "</table>\n",
       "</div>"
      ],
      "text/plain": [
       "   bookid book_name  price\n",
       "0       2       PHP  250.0\n",
       "1       3    Python  210.0\n",
       "2       4      HTML  190.0\n",
       "3       5      Java  220.0"
      ]
     },
     "execution_count": 33,
     "metadata": {},
     "output_type": "execute_result"
    }
   ],
   "source": [
    "import pandas as pd\n",
    "\n",
    "df = pd.DataFrame(result , columns = ['bookid','book_name','price'])\n",
    "df"
   ]
  },
  {
   "cell_type": "code",
   "execution_count": 35,
   "id": "b20e83f6-9007-45fa-a306-64caaaac055f",
   "metadata": {},
   "outputs": [
    {
     "name": "stdout",
     "output_type": "stream",
     "text": [
      "Collecting openpyxl\n",
      "  Downloading openpyxl-3.1.2-py2.py3-none-any.whl (249 kB)\n",
      "Collecting et-xmlfile\n",
      "  Downloading et_xmlfile-1.1.0-py3-none-any.whl (4.7 kB)\n",
      "Installing collected packages: et-xmlfile, openpyxl\n",
      "Successfully installed et-xmlfile-1.1.0 openpyxl-3.1.2\n"
     ]
    },
    {
     "name": "stderr",
     "output_type": "stream",
     "text": [
      "WARNING: You are using pip version 20.2.3; however, version 24.0 is available.\n",
      "You should consider upgrading via the 'c:\\users\\training\\appdata\\local\\programs\\python\\python39\\python.exe -m pip install --upgrade pip' command.\n"
     ]
    }
   ],
   "source": [
    "!pip install openpyxl"
   ]
  },
  {
   "cell_type": "code",
   "execution_count": 36,
   "id": "ec16f652-d4a5-4949-b84d-81f087ef2ad1",
   "metadata": {},
   "outputs": [],
   "source": [
    "df.to_excel('mydata.xlsx')"
   ]
  },
  {
   "cell_type": "code",
   "execution_count": 37,
   "id": "417e5a43-e1fd-42da-80ab-41c007ee05ec",
   "metadata": {},
   "outputs": [
    {
     "name": "stdout",
     "output_type": "stream",
     "text": [
      "(2, 'PHP', 250.0)\n",
      "(3, 'Python', 210.0)\n",
      "(4, 'HTML', 190.0)\n",
      "(5, 'Java', 220.0)\n"
     ]
    }
   ],
   "source": [
    "s = \"select * from newbook\"\n",
    "cur.execute(s)\n",
    "result = cur.fetchall()\n",
    "for res in result:\n",
    "    print(res)"
   ]
  },
  {
   "cell_type": "code",
   "execution_count": 38,
   "id": "63e81c35-7221-43fe-bf25-a3976a554db2",
   "metadata": {},
   "outputs": [
    {
     "name": "stdout",
     "output_type": "stream",
     "text": [
      "price value updated\n"
     ]
    }
   ],
   "source": [
    "s = \"update newbook set price = price + 10\"\n",
    "cur.execute(s)\n",
    "mydb.commit()\n",
    "print(\"price value updated\")"
   ]
  },
  {
   "cell_type": "code",
   "execution_count": 39,
   "id": "e6866452-d3f7-4fdd-8a25-29744b68fe8d",
   "metadata": {},
   "outputs": [
    {
     "name": "stdout",
     "output_type": "stream",
     "text": [
      "(2, 'PHP', 260.0)\n",
      "(3, 'Python', 220.0)\n",
      "(4, 'HTML', 200.0)\n",
      "(5, 'Java', 230.0)\n"
     ]
    }
   ],
   "source": [
    "s = \"select * from newbook\"\n",
    "cur.execute(s)\n",
    "result = cur.fetchall()\n",
    "for res in result:\n",
    "    print(res)"
   ]
  },
  {
   "cell_type": "code",
   "execution_count": 40,
   "id": "fafff28b-b6e7-4d9b-95b4-f07512d5474d",
   "metadata": {},
   "outputs": [
    {
     "name": "stdout",
     "output_type": "stream",
     "text": [
      "price value updated\n"
     ]
    }
   ],
   "source": [
    "s = \"update newbook set price = price + 10 where bookid = 3\"\n",
    "cur.execute(s)\n",
    "mydb.commit()\n",
    "print(\"price value updated\")"
   ]
  },
  {
   "cell_type": "code",
   "execution_count": 41,
   "id": "307dd5f9-3f4e-4be8-b85c-637b4577187a",
   "metadata": {},
   "outputs": [
    {
     "name": "stdout",
     "output_type": "stream",
     "text": [
      "(2, 'PHP', 260.0)\n",
      "(3, 'Python', 230.0)\n",
      "(4, 'HTML', 200.0)\n",
      "(5, 'Java', 230.0)\n"
     ]
    }
   ],
   "source": [
    "s = \"select * from newbook\"\n",
    "cur.execute(s)\n",
    "result = cur.fetchall()\n",
    "for res in result:\n",
    "    print(res)"
   ]
  },
  {
   "cell_type": "code",
   "execution_count": 43,
   "id": "e3819269-6823-4bba-96dc-fa72d26aca76",
   "metadata": {},
   "outputs": [
    {
     "name": "stdout",
     "output_type": "stream",
     "text": [
      "('bookid', 'int', 'YES', '', None, '')\n",
      "('title', 'varchar(20)', 'YES', '', None, '')\n",
      "('price', 'float(5,2)', 'YES', '', None, '')\n"
     ]
    }
   ],
   "source": [
    "cur.execute(\"describe newbook\")\n",
    "for detail in cur:\n",
    "    print(detail)"
   ]
  },
  {
   "cell_type": "code",
   "execution_count": 44,
   "id": "f9d77e6b-c938-426f-bc22-e3ffa579ae2c",
   "metadata": {},
   "outputs": [
    {
     "name": "stdout",
     "output_type": "stream",
     "text": [
      "HTML book details deleted\n"
     ]
    }
   ],
   "source": [
    "s = \"delete from newbook where title = 'HTML'\"\n",
    "cur.execute(s)\n",
    "mydb.commit()\n",
    "print(\"HTML book details deleted\")"
   ]
  },
  {
   "cell_type": "code",
   "execution_count": 45,
   "id": "f78e52f3-eabb-44e8-9431-c25146032da1",
   "metadata": {},
   "outputs": [
    {
     "name": "stdout",
     "output_type": "stream",
     "text": [
      "(2, 'PHP', 260.0)\n",
      "(3, 'Python', 230.0)\n",
      "(5, 'Java', 230.0)\n"
     ]
    }
   ],
   "source": [
    "s = \"select * from newbook\"\n",
    "cur.execute(s)\n",
    "result = cur.fetchall()\n",
    "for res in result:\n",
    "    print(res)"
   ]
  },
  {
   "cell_type": "code",
   "execution_count": 57,
   "id": "27782259-dac4-4feb-ade7-fef18e2cc6d5",
   "metadata": {},
   "outputs": [
    {
     "name": "stdout",
     "output_type": "stream",
     "text": [
      "Multiple values added into the table\n"
     ]
    }
   ],
   "source": [
    "s = \"insert into newbook (bookid,title,price) values (%s,%s,%s)\"\n",
    "value = [(3,\"Python\",210) , (4,\"HTML\",190) , (5,\"Java\",220)]\n",
    "cur.executemany(s,value)\n",
    "mydb.commit()\n",
    "print(\"Multiple values added into the table\")"
   ]
  },
  {
   "cell_type": "code",
   "execution_count": 58,
   "id": "9fdd4650-c411-42f7-b576-8910af43d6bc",
   "metadata": {},
   "outputs": [
    {
     "name": "stdout",
     "output_type": "stream",
     "text": [
      "(2, 'PHP', 260.0)\n",
      "(3, 'Python', 230.0)\n",
      "(5, 'Java', 230.0)\n",
      "(3, 'Python', 210.0)\n",
      "(4, 'HTML', 190.0)\n",
      "(5, 'Java', 220.0)\n",
      "(3, 'Python', 210.0)\n",
      "(4, 'HTML', 190.0)\n",
      "(5, 'Java', 220.0)\n"
     ]
    }
   ],
   "source": [
    "s = \"select * from newbook\"\n",
    "cur.execute(s)\n",
    "result = cur.fetchall()\n",
    "for res in result:\n",
    "    print(res)"
   ]
  },
  {
   "cell_type": "code",
   "execution_count": 49,
   "id": "205f04d2-9850-43f6-9682-c5dbcf3e4bb1",
   "metadata": {},
   "outputs": [
    {
     "name": "stdout",
     "output_type": "stream",
     "text": [
      "newbook is copied into newbook2\n"
     ]
    }
   ],
   "source": [
    "s = \"create table newbook2 like newbook\"\n",
    "cur.execute(s)\n",
    "print(\"newbook is copied into newbook2\")"
   ]
  },
  {
   "cell_type": "code",
   "execution_count": 52,
   "id": "ed4c00d0-5056-4e46-9c04-23b9063a4294",
   "metadata": {},
   "outputs": [],
   "source": [
    "s = \"select * from newbook2\"\n",
    "cur.execute(s)\n",
    "result = cur.fetchall()\n",
    "for res in result:\n",
    "    print(res)"
   ]
  },
  {
   "cell_type": "code",
   "execution_count": 59,
   "id": "2f9d661c-ef7e-4c88-9d72-992541bf2fec",
   "metadata": {},
   "outputs": [
    {
     "name": "stdout",
     "output_type": "stream",
     "text": [
      "newbook3 is created with no duplicate values\n"
     ]
    }
   ],
   "source": [
    "s = \"create table newbook3  as select distinct bookid,title,price from newbook\"\n",
    "cur.execute(s)\n",
    "print(\"newbook3 is created with no duplicate values\")"
   ]
  },
  {
   "cell_type": "code",
   "execution_count": 60,
   "id": "5dbe5a90-ba2b-4b60-b6ca-70f6eb8c6676",
   "metadata": {},
   "outputs": [
    {
     "name": "stdout",
     "output_type": "stream",
     "text": [
      "(2, 'PHP', 260.0)\n",
      "(3, 'Python', 230.0)\n",
      "(5, 'Java', 230.0)\n",
      "(3, 'Python', 210.0)\n",
      "(4, 'HTML', 190.0)\n",
      "(5, 'Java', 220.0)\n"
     ]
    }
   ],
   "source": [
    "s = \"select * from newbook3\"\n",
    "cur.execute(s)\n",
    "result = cur.fetchall()\n",
    "for res in result:\n",
    "    print(res)"
   ]
  },
  {
   "cell_type": "code",
   "execution_count": 61,
   "id": "03fef736-8f2b-4f8d-bd5b-2b877f551fa2",
   "metadata": {},
   "outputs": [
    {
     "name": "stdout",
     "output_type": "stream",
     "text": [
      "newbook3 is created with no duplicate values\n"
     ]
    }
   ],
   "source": [
    "s = \"create table newbook4  as select bookid,title,price from newbook\"\n",
    "cur.execute(s)\n",
    "print(\"newbook4 is created with no duplicate values\")"
   ]
  },
  {
   "cell_type": "code",
   "execution_count": 62,
   "id": "95f3fbcd-67c3-4705-95f4-20e858074643",
   "metadata": {},
   "outputs": [
    {
     "name": "stdout",
     "output_type": "stream",
     "text": [
      "(2, 'PHP', 260.0)\n",
      "(3, 'Python', 230.0)\n",
      "(5, 'Java', 230.0)\n",
      "(3, 'Python', 210.0)\n",
      "(4, 'HTML', 190.0)\n",
      "(5, 'Java', 220.0)\n",
      "(3, 'Python', 210.0)\n",
      "(4, 'HTML', 190.0)\n",
      "(5, 'Java', 220.0)\n"
     ]
    }
   ],
   "source": [
    "s = \"select * from newbook4\"\n",
    "cur.execute(s)\n",
    "result = cur.fetchall()\n",
    "for res in result:\n",
    "    print(res)"
   ]
  },
  {
   "cell_type": "code",
   "execution_count": 63,
   "id": "9feaf78a-355a-4554-856c-b04b82903991",
   "metadata": {},
   "outputs": [
    {
     "name": "stdout",
     "output_type": "stream",
     "text": [
      "(2, 'PHP', 260.0, None)\n",
      "(3, 'Python', 230.0, None)\n",
      "(5, 'Java', 230.0, None)\n",
      "(3, 'Python', 210.0, None)\n",
      "(4, 'HTML', 190.0, None)\n",
      "(5, 'Java', 220.0, None)\n",
      "(3, 'Python', 210.0, None)\n",
      "(4, 'HTML', 190.0, None)\n",
      "(5, 'Java', 220.0, None)\n"
     ]
    }
   ],
   "source": [
    "s = \"alter table newbook add column quantity integer(4)\"\n",
    "cur.execute(s)\n",
    "\n",
    "cur.execute(\"select * from newbook\")\n",
    "for data in cur:\n",
    "    print(data)"
   ]
  },
  {
   "cell_type": "code",
   "execution_count": 69,
   "id": "46a69eab-cade-4492-bf10-191c4d8dfa62",
   "metadata": {},
   "outputs": [
    {
     "name": "stdout",
     "output_type": "stream",
     "text": [
      "(2, 'PHP', 260.0, None)\n",
      "(3, 'Python', 230.0, None)\n",
      "(5, 'Java', 230.0, None)\n",
      "(3, 'Python', 210.0, None)\n",
      "(4, 'HTML', 190.0, None)\n",
      "(5, 'Java', 220.0, None)\n",
      "(3, 'Python', 210.0, None)\n",
      "(4, 'HTML', 190.0, None)\n",
      "(5, 'Java', 220.0, None)\n"
     ]
    }
   ],
   "source": [
    "\n",
    "cur.execute(\"select * from newbook\")\n",
    "for data in cur:\n",
    "    print(data)"
   ]
  },
  {
   "cell_type": "code",
   "execution_count": 70,
   "id": "f79fa1fe-5e67-4b6b-a45d-4127d3edc9bf",
   "metadata": {},
   "outputs": [
    {
     "name": "stdout",
     "output_type": "stream",
     "text": [
      "('bookid', 'int', 'YES', '', None, '')\n",
      "('title', 'varchar(20)', 'YES', '', None, '')\n",
      "('price', 'float(5,2)', 'YES', '', None, '')\n",
      "('quantity', 'int', 'YES', '', None, '')\n"
     ]
    }
   ],
   "source": [
    "cur.execute(\"describe newbook\")\n",
    "for detail in cur:\n",
    "    print(detail)"
   ]
  },
  {
   "cell_type": "code",
   "execution_count": null,
   "id": "c81e97b7-bd38-4932-9f6f-9a44101da189",
   "metadata": {},
   "outputs": [],
   "source": [
    "s = \"alter table newbook add column sales float(4) after price\"\n",
    "cur.execute(s)\n",
    "\n",
    "mydb.commit()\n",
    "\n",
    "cur.execute(\"describe newbook\")\n",
    "for detail in cur:\n",
    "    print(detail)"
   ]
  },
  {
   "cell_type": "code",
   "execution_count": null,
   "id": "e46c04db-cebf-4232-8333-a5f471693696",
   "metadata": {},
   "outputs": [],
   "source": []
  }
 ],
 "metadata": {
  "kernelspec": {
   "display_name": "Python 3 (ipykernel)",
   "language": "python",
   "name": "python3"
  },
  "language_info": {
   "codemirror_mode": {
    "name": "ipython",
    "version": 3
   },
   "file_extension": ".py",
   "mimetype": "text/x-python",
   "name": "python",
   "nbconvert_exporter": "python",
   "pygments_lexer": "ipython3",
   "version": "3.9.0"
  }
 },
 "nbformat": 4,
 "nbformat_minor": 5
}
