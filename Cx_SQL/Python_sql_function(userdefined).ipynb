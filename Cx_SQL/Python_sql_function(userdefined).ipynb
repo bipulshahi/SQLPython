{
 "cells": [
  {
   "cell_type": "code",
   "execution_count": 1,
   "id": "biblical-exhaust",
   "metadata": {},
   "outputs": [],
   "source": [
    "import mysql.connector\n",
    "from mysql.connector import Error\n",
    "import pandas as pd"
   ]
  },
  {
   "cell_type": "code",
   "execution_count": 4,
   "id": "contrary-happiness",
   "metadata": {},
   "outputs": [
    {
     "name": "stdout",
     "output_type": "stream",
     "text": [
      "Server connection Established\n",
      "<mysql.connector.connection.MySQLConnection object at 0x7fda073b3fd0>\n"
     ]
    }
   ],
   "source": [
    "#function to create a server connection\n",
    "def server_conn(host_name,user_name,user_password):\n",
    "    connection = None\n",
    "    try:\n",
    "        connection = mysql.connector.connect(host = host_name,\n",
    "                                             user = user_name,\n",
    "                                             passwd = user_password)\n",
    "        print('Server connection Established')\n",
    "    except Error as err:\n",
    "        print('Error-' , err)\n",
    "    return connection\n",
    "\n",
    "connection = server_conn(\"localhost\",\"root\",\"725@Mysql\")\n",
    "print(connection)"
   ]
  },
  {
   "cell_type": "code",
   "execution_count": 5,
   "id": "specified-aquarium",
   "metadata": {},
   "outputs": [
    {
     "name": "stdout",
     "output_type": "stream",
     "text": [
      "Database Connection Created Successfully\n"
     ]
    }
   ],
   "source": [
    "#function to create a database\n",
    "def create_db(connection,query):\n",
    "    cursor = connection.cursor()\n",
    "    try:\n",
    "        cursor.execute(query)\n",
    "        print(\"Database Connection Created Successfully\")\n",
    "    except Error as err:\n",
    "        print('Error-' , err)\n",
    "        \n",
    "database_create_query = \"create database mydb\"\n",
    "create_db(connection,database_create_query)"
   ]
  },
  {
   "cell_type": "code",
   "execution_count": 7,
   "id": "small-state",
   "metadata": {},
   "outputs": [
    {
     "name": "stdout",
     "output_type": "stream",
     "text": [
      "Database connection Established\n",
      "<mysql.connector.connection.MySQLConnection object at 0x7fda073b3c50>\n"
     ]
    }
   ],
   "source": [
    "#function to connect with database\n",
    "def db_conn(host_name,user_name,user_password,dbname):\n",
    "    connection = None\n",
    "    try:\n",
    "        connection = mysql.connector.connect(host = host_name,\n",
    "                                             user = user_name,\n",
    "                                             passwd = user_password,\n",
    "                                             database=dbname)\n",
    "        print('Database connection Established')\n",
    "    except Error as err:\n",
    "        print('Error-' , err)\n",
    "    return connection\n",
    "\n",
    "connection = db_conn(\"localhost\",\"root\",\"725@Mysql\",\"mydb\")\n",
    "print(connection)"
   ]
  },
  {
   "cell_type": "code",
   "execution_count": 9,
   "id": "checked-sunrise",
   "metadata": {},
   "outputs": [],
   "source": [
    "#function to execute sql querries\n",
    "def execute_query(connection,query):\n",
    "    cursor = connection.cursor()\n",
    "    try:\n",
    "        cursor.execute(query)\n",
    "        connection.commit()\n",
    "        print('Query Executed')\n",
    "    except Error as err:\n",
    "        print(\"Error:-\",err)"
   ]
  },
  {
   "cell_type": "code",
   "execution_count": 18,
   "id": "elementary-country",
   "metadata": {},
   "outputs": [
    {
     "name": "stdout",
     "output_type": "stream",
     "text": [
      "Database connection Established\n",
      "Query Executed\n"
     ]
    }
   ],
   "source": [
    "#create a table to maintain product order history\n",
    "create_ord_table = \"\"\"\n",
    "create table order_details(\n",
    "order_id INT AUTO_INCREMENT primary key,\n",
    "consumer_name varchar(35),\n",
    "prod_name varchar(25),\n",
    "quantity int,\n",
    "order_date date,\n",
    "price float,\n",
    "contact varchar(25));\n",
    "\"\"\"\n",
    "\n",
    "#database connection\n",
    "connection = db_conn(\"localhost\",\"root\",\"725@Mysql\",\"mydb\")\n",
    "#execute query\n",
    "execute_query(connection,create_ord_table)"
   ]
  },
  {
   "cell_type": "code",
   "execution_count": 21,
   "id": "sharp-server",
   "metadata": {},
   "outputs": [
    {
     "name": "stdout",
     "output_type": "stream",
     "text": [
      "Database connection Established\n",
      "Query Executed\n"
     ]
    }
   ],
   "source": [
    "#Insert the data into the table\n",
    "order_info = \"\"\"\n",
    "insert into order_details (consumer_name,prod_name,quantity,order_date,price,contact)\n",
    "values ('John','Trimmer',3,'2022-05-12',450,'9876435678'),\n",
    "('Vinay','Tablet',2,'2022-05-06',4500,'9876435788'),\n",
    "('Bipul','Monitor',5,'2022-05-09',1500,'98764234675'),\n",
    "('Raj','Bottle',7,'2022-05-15',50,'98764369964'),\n",
    "('Jerry','Laptop',1,'2022-05-11',45000,'9876456885'),\n",
    "('Atul','Keyboard',10,'2022-05-22',350,'9876467933')\n",
    "\"\"\"\n",
    "\n",
    "connection = db_conn(\"localhost\",\"root\",\"725@Mysql\",\"mydb\")\n",
    "execute_query(connection,order_info)"
   ]
  },
  {
   "cell_type": "code",
   "execution_count": 24,
   "id": "arabic-analyst",
   "metadata": {},
   "outputs": [],
   "source": [
    "#Function Read the data table\n",
    "\n",
    "def read_table(connection,query):\n",
    "    cursor = connection.cursor()\n",
    "    result = None\n",
    "    try:\n",
    "        cursor.execute(query)\n",
    "        result = cursor.fetchall()\n",
    "        return result\n",
    "    except Error as err:\n",
    "        print(\"Error-\" , err)"
   ]
  },
  {
   "cell_type": "code",
   "execution_count": 26,
   "id": "popular-retro",
   "metadata": {},
   "outputs": [
    {
     "name": "stdout",
     "output_type": "stream",
     "text": [
      "Database connection Established\n",
      "(1, 'John', 'Trimmer', 3, datetime.date(2022, 5, 12), 450.0, '9876435678')\n",
      "(2, 'Vinay', 'Tablet', 2, datetime.date(2022, 5, 6), 4500.0, '9876435788')\n",
      "(3, 'Bipul', 'Monitor', 5, datetime.date(2022, 5, 9), 1500.0, '98764234675')\n",
      "(4, 'Raj', 'Bottle', 7, datetime.date(2022, 5, 15), 50.0, '98764369964')\n",
      "(5, 'Jerry', 'Laptop', 1, datetime.date(2022, 5, 11), 45000.0, '9876456885')\n",
      "(6, 'Atul', 'Keyboard', 10, datetime.date(2022, 5, 22), 350.0, '9876467933')\n"
     ]
    }
   ],
   "source": [
    "#Execute Read function\n",
    "read_query = \"select * from order_details\"\n",
    "connection = db_conn(\"localhost\",\"root\",\"725@Mysql\",\"mydb\")\n",
    "results = read_table(connection,read_query)\n",
    "for res in results:\n",
    "    print(res)"
   ]
  },
  {
   "cell_type": "code",
   "execution_count": 27,
   "id": "pharmaceutical-mention",
   "metadata": {},
   "outputs": [
    {
     "name": "stdout",
     "output_type": "stream",
     "text": [
      "Database connection Established\n",
      "('John', 'Trimmer', '9876435678')\n",
      "('Vinay', 'Tablet', '9876435788')\n",
      "('Bipul', 'Monitor', '98764234675')\n",
      "('Raj', 'Bottle', '98764369964')\n",
      "('Jerry', 'Laptop', '9876456885')\n",
      "('Atul', 'Keyboard', '9876467933')\n"
     ]
    }
   ],
   "source": [
    "read_query = \"select consumer_name,prod_name,contact from order_details\"\n",
    "connection = db_conn(\"localhost\",\"root\",\"725@Mysql\",\"mydb\")\n",
    "results = read_table(connection,read_query)\n",
    "for res in results:\n",
    "    print(res)"
   ]
  },
  {
   "cell_type": "code",
   "execution_count": 32,
   "id": "hollow-spanish",
   "metadata": {},
   "outputs": [
    {
     "name": "stdout",
     "output_type": "stream",
     "text": [
      "Database connection Established\n",
      "('John', 2022, 5, 12)\n",
      "('Vinay', 2022, 5, 6)\n",
      "('Bipul', 2022, 5, 9)\n",
      "('Raj', 2022, 5, 15)\n",
      "('Jerry', 2022, 5, 11)\n",
      "('Atul', 2022, 5, 22)\n"
     ]
    }
   ],
   "source": [
    "read_query = \"\"\"select consumer_name,\n",
    "year(order_date),month(order_date),day(order_date) \n",
    "from order_details\"\"\"\n",
    "connection = db_conn(\"localhost\",\"root\",\"725@Mysql\",\"mydb\")\n",
    "results = read_table(connection,read_query)\n",
    "for res in results:\n",
    "    print(res)"
   ]
  },
  {
   "cell_type": "code",
   "execution_count": 33,
   "id": "strange-talent",
   "metadata": {},
   "outputs": [
    {
     "name": "stdout",
     "output_type": "stream",
     "text": [
      "Database connection Established\n",
      "(2, 'Vinay', 'Tablet', 2, datetime.date(2022, 5, 6), 4500.0, '9876435788')\n",
      "(3, 'Bipul', 'Monitor', 5, datetime.date(2022, 5, 9), 1500.0, '98764234675')\n"
     ]
    }
   ],
   "source": [
    "#run a query to find order before 11-05-22\n",
    "\n",
    "read_query = \"select * from order_details where order_date < '2022-05-11'\"\n",
    "connection = db_conn(\"localhost\",\"root\",\"725@Mysql\",\"mydb\")\n",
    "results = read_table(connection,read_query)\n",
    "for res in results:\n",
    "    print(res)"
   ]
  },
  {
   "cell_type": "code",
   "execution_count": 35,
   "id": "documented-nowhere",
   "metadata": {},
   "outputs": [
    {
     "name": "stdout",
     "output_type": "stream",
     "text": [
      "Database connection Established\n",
      "(4, 'Raj', 'Bottle', 7, datetime.date(2022, 5, 15), 50.0, '98764369964')\n",
      "(6, 'Atul', 'Keyboard', 10, datetime.date(2022, 5, 22), 350.0, '9876467933')\n",
      "(1, 'John', 'Trimmer', 3, datetime.date(2022, 5, 12), 450.0, '9876435678')\n",
      "(3, 'Bipul', 'Monitor', 5, datetime.date(2022, 5, 9), 1500.0, '98764234675')\n",
      "(2, 'Vinay', 'Tablet', 2, datetime.date(2022, 5, 6), 4500.0, '9876435788')\n",
      "(5, 'Jerry', 'Laptop', 1, datetime.date(2022, 5, 11), 45000.0, '9876456885')\n"
     ]
    }
   ],
   "source": [
    "#Execute query to access order by price in ascending order\n",
    "\n",
    "read_query = \"select * from order_details order by price\"\n",
    "connection = db_conn(\"localhost\",\"root\",\"725@Mysql\",\"mydb\")\n",
    "results = read_table(connection,read_query)\n",
    "for res in results:\n",
    "    print(res)"
   ]
  },
  {
   "cell_type": "code",
   "execution_count": 40,
   "id": "transsexual-drove",
   "metadata": {},
   "outputs": [
    {
     "data": {
      "text/html": [
       "<div>\n",
       "<style scoped>\n",
       "    .dataframe tbody tr th:only-of-type {\n",
       "        vertical-align: middle;\n",
       "    }\n",
       "\n",
       "    .dataframe tbody tr th {\n",
       "        vertical-align: top;\n",
       "    }\n",
       "\n",
       "    .dataframe thead th {\n",
       "        text-align: right;\n",
       "    }\n",
       "</style>\n",
       "<table border=\"1\" class=\"dataframe\">\n",
       "  <thead>\n",
       "    <tr style=\"text-align: right;\">\n",
       "      <th></th>\n",
       "      <th>Order_Id</th>\n",
       "      <th>Name</th>\n",
       "      <th>Product</th>\n",
       "      <th>Quantity</th>\n",
       "      <th>OrderedDate</th>\n",
       "      <th>UnitPrice</th>\n",
       "      <th>Contact</th>\n",
       "    </tr>\n",
       "  </thead>\n",
       "  <tbody>\n",
       "    <tr>\n",
       "      <th>0</th>\n",
       "      <td>4</td>\n",
       "      <td>Raj</td>\n",
       "      <td>Bottle</td>\n",
       "      <td>7</td>\n",
       "      <td>2022-05-15</td>\n",
       "      <td>50.0</td>\n",
       "      <td>98764369964</td>\n",
       "    </tr>\n",
       "    <tr>\n",
       "      <th>1</th>\n",
       "      <td>6</td>\n",
       "      <td>Atul</td>\n",
       "      <td>Keyboard</td>\n",
       "      <td>10</td>\n",
       "      <td>2022-05-22</td>\n",
       "      <td>350.0</td>\n",
       "      <td>9876467933</td>\n",
       "    </tr>\n",
       "    <tr>\n",
       "      <th>2</th>\n",
       "      <td>1</td>\n",
       "      <td>John</td>\n",
       "      <td>Trimmer</td>\n",
       "      <td>3</td>\n",
       "      <td>2022-05-12</td>\n",
       "      <td>450.0</td>\n",
       "      <td>9876435678</td>\n",
       "    </tr>\n",
       "    <tr>\n",
       "      <th>3</th>\n",
       "      <td>3</td>\n",
       "      <td>Bipul</td>\n",
       "      <td>Monitor</td>\n",
       "      <td>5</td>\n",
       "      <td>2022-05-09</td>\n",
       "      <td>1500.0</td>\n",
       "      <td>98764234675</td>\n",
       "    </tr>\n",
       "    <tr>\n",
       "      <th>4</th>\n",
       "      <td>2</td>\n",
       "      <td>Vinay</td>\n",
       "      <td>Tablet</td>\n",
       "      <td>2</td>\n",
       "      <td>2022-05-06</td>\n",
       "      <td>4500.0</td>\n",
       "      <td>9876435788</td>\n",
       "    </tr>\n",
       "    <tr>\n",
       "      <th>5</th>\n",
       "      <td>5</td>\n",
       "      <td>Jerry</td>\n",
       "      <td>Laptop</td>\n",
       "      <td>1</td>\n",
       "      <td>2022-05-11</td>\n",
       "      <td>45000.0</td>\n",
       "      <td>9876456885</td>\n",
       "    </tr>\n",
       "  </tbody>\n",
       "</table>\n",
       "</div>"
      ],
      "text/plain": [
       "   Order_Id   Name   Product  Quantity OrderedDate  UnitPrice      Contact\n",
       "0         4    Raj    Bottle         7  2022-05-15       50.0  98764369964\n",
       "1         6   Atul  Keyboard        10  2022-05-22      350.0   9876467933\n",
       "2         1   John   Trimmer         3  2022-05-12      450.0   9876435678\n",
       "3         3  Bipul   Monitor         5  2022-05-09     1500.0  98764234675\n",
       "4         2  Vinay    Tablet         2  2022-05-06     4500.0   9876435788\n",
       "5         5  Jerry    Laptop         1  2022-05-11    45000.0   9876456885"
      ]
     },
     "execution_count": 40,
     "metadata": {},
     "output_type": "execute_result"
    }
   ],
   "source": [
    "db_info = []\n",
    "\n",
    "for res in results:\n",
    "    db_info.append(list(res))\n",
    "\n",
    "col_names = ['Order_Id','Name','Product','Quantity','OrderedDate','UnitPrice','Contact']\n",
    "\n",
    "df = pd.DataFrame(db_info,columns=col_names)\n",
    "df"
   ]
  },
  {
   "cell_type": "code",
   "execution_count": 42,
   "id": "defined-wallace",
   "metadata": {},
   "outputs": [],
   "source": [
    "#Create a column with 'Total price Paid'\n",
    "df['Total_Paid_amount'] = df.Quantity * df.UnitPrice"
   ]
  },
  {
   "cell_type": "code",
   "execution_count": 43,
   "id": "social-lawrence",
   "metadata": {},
   "outputs": [
    {
     "data": {
      "text/html": [
       "<div>\n",
       "<style scoped>\n",
       "    .dataframe tbody tr th:only-of-type {\n",
       "        vertical-align: middle;\n",
       "    }\n",
       "\n",
       "    .dataframe tbody tr th {\n",
       "        vertical-align: top;\n",
       "    }\n",
       "\n",
       "    .dataframe thead th {\n",
       "        text-align: right;\n",
       "    }\n",
       "</style>\n",
       "<table border=\"1\" class=\"dataframe\">\n",
       "  <thead>\n",
       "    <tr style=\"text-align: right;\">\n",
       "      <th></th>\n",
       "      <th>Order_Id</th>\n",
       "      <th>Name</th>\n",
       "      <th>Product</th>\n",
       "      <th>Quantity</th>\n",
       "      <th>OrderedDate</th>\n",
       "      <th>UnitPrice</th>\n",
       "      <th>Contact</th>\n",
       "      <th>Total_Paid_amount</th>\n",
       "    </tr>\n",
       "  </thead>\n",
       "  <tbody>\n",
       "    <tr>\n",
       "      <th>0</th>\n",
       "      <td>4</td>\n",
       "      <td>Raj</td>\n",
       "      <td>Bottle</td>\n",
       "      <td>7</td>\n",
       "      <td>2022-05-15</td>\n",
       "      <td>50.0</td>\n",
       "      <td>98764369964</td>\n",
       "      <td>350.0</td>\n",
       "    </tr>\n",
       "    <tr>\n",
       "      <th>1</th>\n",
       "      <td>6</td>\n",
       "      <td>Atul</td>\n",
       "      <td>Keyboard</td>\n",
       "      <td>10</td>\n",
       "      <td>2022-05-22</td>\n",
       "      <td>350.0</td>\n",
       "      <td>9876467933</td>\n",
       "      <td>3500.0</td>\n",
       "    </tr>\n",
       "    <tr>\n",
       "      <th>2</th>\n",
       "      <td>1</td>\n",
       "      <td>John</td>\n",
       "      <td>Trimmer</td>\n",
       "      <td>3</td>\n",
       "      <td>2022-05-12</td>\n",
       "      <td>450.0</td>\n",
       "      <td>9876435678</td>\n",
       "      <td>1350.0</td>\n",
       "    </tr>\n",
       "    <tr>\n",
       "      <th>3</th>\n",
       "      <td>3</td>\n",
       "      <td>Bipul</td>\n",
       "      <td>Monitor</td>\n",
       "      <td>5</td>\n",
       "      <td>2022-05-09</td>\n",
       "      <td>1500.0</td>\n",
       "      <td>98764234675</td>\n",
       "      <td>7500.0</td>\n",
       "    </tr>\n",
       "    <tr>\n",
       "      <th>4</th>\n",
       "      <td>2</td>\n",
       "      <td>Vinay</td>\n",
       "      <td>Tablet</td>\n",
       "      <td>2</td>\n",
       "      <td>2022-05-06</td>\n",
       "      <td>4500.0</td>\n",
       "      <td>9876435788</td>\n",
       "      <td>9000.0</td>\n",
       "    </tr>\n",
       "  </tbody>\n",
       "</table>\n",
       "</div>"
      ],
      "text/plain": [
       "   Order_Id   Name   Product  Quantity OrderedDate  UnitPrice      Contact  \\\n",
       "0         4    Raj    Bottle         7  2022-05-15       50.0  98764369964   \n",
       "1         6   Atul  Keyboard        10  2022-05-22      350.0   9876467933   \n",
       "2         1   John   Trimmer         3  2022-05-12      450.0   9876435678   \n",
       "3         3  Bipul   Monitor         5  2022-05-09     1500.0  98764234675   \n",
       "4         2  Vinay    Tablet         2  2022-05-06     4500.0   9876435788   \n",
       "\n",
       "   Total_Paid_amount  \n",
       "0              350.0  \n",
       "1             3500.0  \n",
       "2             1350.0  \n",
       "3             7500.0  \n",
       "4             9000.0  "
      ]
     },
     "execution_count": 43,
     "metadata": {},
     "output_type": "execute_result"
    }
   ],
   "source": [
    "df.head()"
   ]
  },
  {
   "cell_type": "code",
   "execution_count": 45,
   "id": "spanish-village",
   "metadata": {},
   "outputs": [
    {
     "data": {
      "text/plain": [
       "<AxesSubplot:xlabel='Product'>"
      ]
     },
     "execution_count": 45,
     "metadata": {},
     "output_type": "execute_result"
    },
    {
     "data": {
      "image/png": "[encoded data removed]",
      "text/plain": [
       "<Figure size 432x288 with 1 Axes>"
      ]
     },
     "metadata": {
      "needs_background": "light"
     },
     "output_type": "display_data"
    }
   ],
   "source": [
    "df[['Product','Quantity']].plot.bar(x='Product')"
   ]
  },
  {
   "cell_type": "code",
   "execution_count": 52,
   "id": "waiting-honor",
   "metadata": {},
   "outputs": [
    {
     "name": "stdout",
     "output_type": "stream",
     "text": [
      "Database connection Established\n",
      "Query Executed\n"
     ]
    }
   ],
   "source": [
    "#Update Query => set price = 400 for order id 1\n",
    "update_query = \"update order_details set price = 400 where order_id = 1\"\n",
    "connection = db_conn(\"localhost\",\"root\",\"725@Mysql\",\"mydb\")\n",
    "result = execute_query(connection,update_query)"
   ]
  },
  {
   "cell_type": "code",
   "execution_count": 55,
   "id": "local-swiss",
   "metadata": {},
   "outputs": [
    {
     "name": "stdout",
     "output_type": "stream",
     "text": [
      "Database connection Established\n",
      "(4, 'Raj', 'Bottle', 7, datetime.date(2022, 5, 15), 50.0, '98764369964')\n"
     ]
    }
   ],
   "source": [
    "#read info for id 4\n",
    "read_q4 = \"select * from order_details where order_id = 4\"\n",
    "connection = db_conn(\"localhost\",\"root\",\"725@Mysql\",\"mydb\")\n",
    "result = read_table(connection,read_q4)\n",
    "\n",
    "for res in result:\n",
    "    print(res)"
   ]
  },
  {
   "cell_type": "code",
   "execution_count": 58,
   "id": "painful-rouge",
   "metadata": {},
   "outputs": [
    {
     "name": "stdout",
     "output_type": "stream",
     "text": [
      "Database connection Established\n",
      "Query Executed\n"
     ]
    }
   ],
   "source": [
    "#delete query => delete order details for order id 3\n",
    "delete_order = \"DELETE FROM order_details where order_id=3\"\n",
    "connection = db_conn(\"localhost\",\"root\",\"725@Mysql\",\"mydb\")\n",
    "execute_query(connection,delete_order)"
   ]
  },
  {
   "cell_type": "code",
   "execution_count": 62,
   "id": "solved-folks",
   "metadata": {},
   "outputs": [
    {
     "name": "stdout",
     "output_type": "stream",
     "text": [
      "Database connection Established\n",
      "(4, 'Raj', 'Bottle', 7, datetime.date(2022, 5, 15), 50.0, '98764369964')\n",
      "(6, 'Atul', 'Keyboard', 10, datetime.date(2022, 5, 22), 350.0, '9876467933')\n",
      "(1, 'John', 'Trimmer', 3, datetime.date(2022, 5, 12), 400.0, '9876435678')\n",
      "(2, 'Vinay', 'Tablet', 2, datetime.date(2022, 5, 6), 4500.0, '9876435788')\n",
      "(5, 'Jerry', 'Laptop', 1, datetime.date(2022, 5, 11), 45000.0, '9876456885')\n"
     ]
    }
   ],
   "source": [
    "#read final result\n",
    "read_order = \"select * from order_details order by price\"\n",
    "connection = db_conn(\"localhost\",\"root\",\"725@Mysql\",\"mydb\")\n",
    "result = read_table(connection,read_order)\n",
    "\n",
    "for res in result:\n",
    "    print(res)"
   ]
  },
  {
   "cell_type": "code",
   "execution_count": 63,
   "id": "informed-container",
   "metadata": {},
   "outputs": [
    {
     "data": {
      "text/html": [
       "<div>\n",
       "<style scoped>\n",
       "    .dataframe tbody tr th:only-of-type {\n",
       "        vertical-align: middle;\n",
       "    }\n",
       "\n",
       "    .dataframe tbody tr th {\n",
       "        vertical-align: top;\n",
       "    }\n",
       "\n",
       "    .dataframe thead th {\n",
       "        text-align: right;\n",
       "    }\n",
       "</style>\n",
       "<table border=\"1\" class=\"dataframe\">\n",
       "  <thead>\n",
       "    <tr style=\"text-align: right;\">\n",
       "      <th></th>\n",
       "      <th>Order_Id</th>\n",
       "      <th>Name</th>\n",
       "      <th>Product</th>\n",
       "      <th>Quantity</th>\n",
       "      <th>OrderedDate</th>\n",
       "      <th>UnitPrice</th>\n",
       "      <th>Contact</th>\n",
       "    </tr>\n",
       "  </thead>\n",
       "  <tbody>\n",
       "    <tr>\n",
       "      <th>0</th>\n",
       "      <td>4</td>\n",
       "      <td>Raj</td>\n",
       "      <td>Bottle</td>\n",
       "      <td>7</td>\n",
       "      <td>2022-05-15</td>\n",
       "      <td>50.0</td>\n",
       "      <td>98764369964</td>\n",
       "    </tr>\n",
       "    <tr>\n",
       "      <th>1</th>\n",
       "      <td>6</td>\n",
       "      <td>Atul</td>\n",
       "      <td>Keyboard</td>\n",
       "      <td>10</td>\n",
       "      <td>2022-05-22</td>\n",
       "      <td>350.0</td>\n",
       "      <td>9876467933</td>\n",
       "    </tr>\n",
       "    <tr>\n",
       "      <th>2</th>\n",
       "      <td>1</td>\n",
       "      <td>John</td>\n",
       "      <td>Trimmer</td>\n",
       "      <td>3</td>\n",
       "      <td>2022-05-12</td>\n",
       "      <td>400.0</td>\n",
       "      <td>9876435678</td>\n",
       "    </tr>\n",
       "    <tr>\n",
       "      <th>3</th>\n",
       "      <td>2</td>\n",
       "      <td>Vinay</td>\n",
       "      <td>Tablet</td>\n",
       "      <td>2</td>\n",
       "      <td>2022-05-06</td>\n",
       "      <td>4500.0</td>\n",
       "      <td>9876435788</td>\n",
       "    </tr>\n",
       "    <tr>\n",
       "      <th>4</th>\n",
       "      <td>5</td>\n",
       "      <td>Jerry</td>\n",
       "      <td>Laptop</td>\n",
       "      <td>1</td>\n",
       "      <td>2022-05-11</td>\n",
       "      <td>45000.0</td>\n",
       "      <td>9876456885</td>\n",
       "    </tr>\n",
       "  </tbody>\n",
       "</table>\n",
       "</div>"
      ],
      "text/plain": [
       "   Order_Id   Name   Product  Quantity OrderedDate  UnitPrice      Contact\n",
       "0         4    Raj    Bottle         7  2022-05-15       50.0  98764369964\n",
       "1         6   Atul  Keyboard        10  2022-05-22      350.0   9876467933\n",
       "2         1   John   Trimmer         3  2022-05-12      400.0   9876435678\n",
       "3         2  Vinay    Tablet         2  2022-05-06     4500.0   9876435788\n",
       "4         5  Jerry    Laptop         1  2022-05-11    45000.0   9876456885"
      ]
     },
     "execution_count": 63,
     "metadata": {},
     "output_type": "execute_result"
    }
   ],
   "source": [
    "db_info = []\n",
    "\n",
    "for res in result:\n",
    "    db_info.append(list(res))\n",
    "    \n",
    "col_names = ['Order_Id','Name','Product','Quantity','OrderedDate','UnitPrice','Contact']\n",
    "\n",
    "df = pd.DataFrame(db_info,columns=col_names)\n",
    "df"
   ]
  },
  {
   "cell_type": "code",
   "execution_count": 64,
   "id": "laughing-classification",
   "metadata": {},
   "outputs": [
    {
     "data": {
      "text/plain": [
       "<AxesSubplot:xlabel='Product'>"
      ]
     },
     "execution_count": 64,
     "metadata": {},
     "output_type": "execute_result"
    },
    {
     "data": {
      "image/png": "[encoded data removed]",
      "text/plain": [
       "<Figure size 432x288 with 1 Axes>"
      ]
     },
     "metadata": {
      "needs_background": "light"
     },
     "output_type": "display_data"
    }
   ],
   "source": [
    "df[['Product','Quantity']].plot.bar(x='Product')"
   ]
  },
  {
   "cell_type": "code",
   "execution_count": null,
   "id": "altered-hundred",
   "metadata": {},
   "outputs": [],
   "source": []
  }
 ],
 "metadata": {
  "kernelspec": {
   "display_name": "Python 3",
   "language": "python",
   "name": "python3"
  },
  "language_info": {
   "codemirror_mode": {
    "name": "ipython",
    "version": 3
   },
   "file_extension": ".py",
   "mimetype": "text/x-python",
   "name": "python",
   "nbconvert_exporter": "python",
   "pygments_lexer": "ipython3",
   "version": "3.7.7"
  }
 },
 "nbformat": 4,
 "nbformat_minor": 5
}
