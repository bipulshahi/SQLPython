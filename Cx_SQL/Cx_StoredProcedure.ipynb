{
 "cells": [
  {
   "cell_type": "code",
   "execution_count": 1,
   "id": "3461f523-abf8-4774-949d-ec1c6a0bb16c",
   "metadata": {},
   "outputs": [],
   "source": [
    "import mysql.connector\n",
    "\n",
    "mydb = mysql.connector.connect(host = \"localhost\",\n",
    "                              user = \"root\",\n",
    "                              password = \"725@Mysql\",\n",
    "                              database = \"mynewdb\")\n",
    "cur = mydb.cursor()"
   ]
  },
  {
   "cell_type": "code",
   "execution_count": 4,
   "id": "cc598999-4aba-49b9-a9cd-dbaf7e680b8f",
   "metadata": {},
   "outputs": [
    {
     "name": "stdout",
     "output_type": "stream",
     "text": [
      "Data table created successfully\n"
     ]
    }
   ],
   "source": [
    "create_table_query = \"\"\"\n",
    "create table if not exists employees(\n",
    "id int auto_increment primary key,\n",
    "name varchar(100),\n",
    "salary decimal(10,2)\n",
    ")\n",
    "\"\"\"\n",
    "\n",
    "cur.execute(create_table_query)\n",
    "print(\"Data table created successfully\")"
   ]
  },
  {
   "cell_type": "code",
   "execution_count": 7,
   "id": "8df4bdf8-e61e-4d92-b9c1-131026b8230a",
   "metadata": {},
   "outputs": [
    {
     "name": "stdout",
     "output_type": "stream",
     "text": [
      "insert_employee stored procedure created succesfully\n"
     ]
    }
   ],
   "source": [
    "#Creating the insert_employees stored procedure\n",
    "\n",
    "insert_employee_query = \"\"\"\n",
    "create procedure insert_employee(\n",
    "    IN employee_name varchar(100),\n",
    "    IN employee_salary decimal(10,2)\n",
    ")\n",
    "BEGIN\n",
    "insert into employees (name,salary) values(employee_name,employee_salary);\n",
    "END\n",
    "\"\"\"\n",
    "\n",
    "cur.execute(insert_employee_query)\n",
    "print(\"insert_employee stored procedure created succesfully\")"
   ]
  },
  {
   "cell_type": "code",
   "execution_count": 8,
   "id": "3de1e9a5-1c23-45a5-8bf5-8ff3890b5c84",
   "metadata": {},
   "outputs": [
    {
     "name": "stdout",
     "output_type": "stream",
     "text": [
      "Employee_1 added Successully\n",
      "Employee_2 added Successully\n"
     ]
    }
   ],
   "source": [
    "#trigger insert_employee procedure to insert employee details\n",
    "\n",
    "cur.callproc(\"insert_employee\" , (\"John Doe\" , 65000.00))\n",
    "print(\"Employee_1 added Successully\")\n",
    "\n",
    "cur.callproc(\"insert_employee\" , (\"Bipul Kumar\" , 75000.25))\n",
    "print(\"Employee_2 added Successully\")"
   ]
  },
  {
   "cell_type": "code",
   "execution_count": 15,
   "id": "8d932e62-4484-410b-a5ca-8e3c02a5a2f5",
   "metadata": {},
   "outputs": [
    {
     "name": "stdout",
     "output_type": "stream",
     "text": [
      "Procedure to read data is created\n"
     ]
    }
   ],
   "source": [
    "#create a stored procedure to read the details of all employees\n",
    "\n",
    "read_procedure_query = \"\"\"\n",
    "create procedure get_all_employees()\n",
    "BEGIN\n",
    "    select * from employees;\n",
    "END\n",
    "\"\"\"\n",
    "\n",
    "cur.execute(read_procedure_query)\n",
    "print(\"Procedure to read data is created\")"
   ]
  },
  {
   "cell_type": "code",
   "execution_count": 18,
   "id": "573c3406-9132-4407-930f-5746d2449c68",
   "metadata": {},
   "outputs": [
    {
     "name": "stdout",
     "output_type": "stream",
     "text": [
      "(1, 'John Doe', Decimal('65000.00'))\n",
      "(2, 'Bipul Kumar', Decimal('75000.25'))\n"
     ]
    }
   ],
   "source": [
    "#call read_procedure_query\n",
    "\n",
    "#cur.execute(\"select * from employees\")\n",
    "\n",
    "cur.callproc(\"get_all_employees\")\n",
    "\n",
    "for result in cur.stored_results():\n",
    "    employee = result.fetchall()\n",
    "    for emp in employee:\n",
    "        print(emp)"
   ]
  },
  {
   "cell_type": "code",
   "execution_count": 19,
   "id": "5a436acf-1a0b-4d71-9fcd-6cdc4a5a99a1",
   "metadata": {},
   "outputs": [
    {
     "name": "stdout",
     "output_type": "stream",
     "text": [
      "You can use get_emp_by_name procedure to read details of an employee\n"
     ]
    }
   ],
   "source": [
    "#create a procedure to read details of an employee using name\n",
    "\n",
    "read_emp_details = \"\"\"\n",
    "create procedure get_emp_by_name(IN emp_name varchar(100))\n",
    "BEGIN\n",
    "    select * from employees where name = emp_name;\n",
    "END\n",
    "\"\"\"\n",
    "\n",
    "cur.execute(read_emp_details)\n",
    "print(\"You can use get_emp_by_name procedure to read details of an employee\")"
   ]
  },
  {
   "cell_type": "code",
   "execution_count": 21,
   "id": "9724e0c6-3d79-4852-b692-2aa70a43b7d8",
   "metadata": {},
   "outputs": [
    {
     "name": "stdout",
     "output_type": "stream",
     "text": [
      "(1, 'John Doe', Decimal('65000.00'))\n"
     ]
    }
   ],
   "source": [
    "#use get_emp_by_name to read details of an employee\n",
    "\n",
    "cur.callproc(\"get_emp_by_name\" , (\"John Doe\",))\n",
    "\n",
    "for result in cur.stored_results():\n",
    "    details = result.fetchall()\n",
    "    for emp in details:\n",
    "        print(emp)"
   ]
  },
  {
   "cell_type": "code",
   "execution_count": 63,
   "id": "dc6af301-0476-481c-9359-9b3e96f02d91",
   "metadata": {},
   "outputs": [
    {
     "name": "stdout",
     "output_type": "stream",
     "text": [
      "update_emp_salary stored procedure is created to update salary\n"
     ]
    }
   ],
   "source": [
    "#create update_employee_salary stored procedure\n",
    "\n",
    "update_employee_salary = \"\"\"\n",
    "create procedure update_emp_salary(\n",
    "    IN emp_id int , \n",
    "    IN new_salary decimal(10,2)\n",
    ")\n",
    "BEGIN\n",
    "    update employees set salary = new_salary where id = emp_id;\n",
    "END\n",
    "\"\"\"\n",
    "\n",
    "cur.execute(update_employee_salary)\n",
    "print(\"update_emp_salary stored procedure is created to update salary\")"
   ]
  },
  {
   "cell_type": "code",
   "execution_count": null,
   "id": "d7cfc269-d883-4e2e-a8ac-c4d0d1a3b990",
   "metadata": {},
   "outputs": [],
   "source": [
    "cur.callproc(\"update_emp_salary\" , (2,95000.00))\n",
    "print(\"Employee id 1 salary is updated\")"
   ]
  },
  {
   "cell_type": "code",
   "execution_count": 57,
   "id": "55aea2f4-9d5c-44da-9d5b-ee1b51838f08",
   "metadata": {},
   "outputs": [
    {
     "name": "stdout",
     "output_type": "stream",
     "text": [
      "(1, 'John Doe', Decimal('65000.00'))\n",
      "(2, 'Bipul Kumar', Decimal('75000.25'))\n"
     ]
    }
   ],
   "source": [
    "cur.callproc(\"get_all_employees\")\n",
    "\n",
    "for result in cur.stored_results():\n",
    "    employee = result.fetchall()\n",
    "    for emp in employee:\n",
    "        print(emp)"
   ]
  },
  {
   "cell_type": "code",
   "execution_count": 50,
   "id": "cdd84322-e550-4d49-a677-936a691a66d2",
   "metadata": {},
   "outputs": [
    {
     "name": "stdout",
     "output_type": "stream",
     "text": [
      "getbookinfobyauthorId\n",
      "getbookinfosbyauthor\n",
      "getbooksbyauthor\n",
      "get_all_employees\n",
      "get_emp_by_name\n",
      "insert_employee\n",
      "update_emp_salary\n"
     ]
    }
   ],
   "source": [
    "#read name of all stored procedures\n",
    "\n",
    "mydb = mysql.connector.connect(host = \"localhost\",\n",
    "                              user = \"root\",\n",
    "                              password = \"725@Mysql\",\n",
    "                              database = \"mynewdb\")\n",
    "cur = mydb.cursor()\n",
    "\n",
    "query = \"\"\"\n",
    "select ROUTINE_NAME\n",
    "from information_schema.ROUTINES\n",
    "where ROUTINE_TYPE = 'PROCEDURE' AND ROUTINE_SCHEMA = 'mynewdb'\n",
    "\"\"\"\n",
    "\n",
    "cur.execute(query)\n",
    "\n",
    "\n",
    "result = cur.fetchall()\n",
    "\n",
    "for row in result:\n",
    "    print(row[0])"
   ]
  },
  {
   "cell_type": "code",
   "execution_count": 62,
   "id": "cbff1b2a-c15e-47d3-8c3f-1470fd8bb32d",
   "metadata": {},
   "outputs": [
    {
     "name": "stdout",
     "output_type": "stream",
     "text": [
      "update_emp_salary procdure deleted\n"
     ]
    }
   ],
   "source": [
    "#delete a stored procedure\n",
    "\n",
    "delete_procedure_query = \"DROP PROCEDURE if exists update_emp_salary\"\n",
    "cur.execute(delete_procedure_query)\n",
    "\n",
    "print(\"update_emp_salary procdure deleted\")"
   ]
  },
  {
   "cell_type": "markdown",
   "id": "3bf00d75-dd65-4cd4-a7ad-ec8afa732ee5",
   "metadata": {},
   "source": [
    "**Triggers** - A trigger is a database object that automatically executes in response to certain events, such as insertions, updates or deletions on a specified table.\n",
    "* It is useful for enforcing business rules, maintaining data integrity, and auditing changes to the database."
   ]
  },
  {
   "cell_type": "code",
   "execution_count": 42,
   "id": "278724cf-1e1e-46ec-9537-b6c29a8bb4eb",
   "metadata": {},
   "outputs": [
    {
     "name": "stdout",
     "output_type": "stream",
     "text": [
      "Update salary trigger created\n"
     ]
    }
   ],
   "source": [
    "#create the update salary trigger\n",
    "\n",
    "update_salary_trigger_query = \"\"\"\n",
    "create trigger update_salary_trigger\n",
    "before update on employees\n",
    "for each row\n",
    "BEGIN\n",
    "    if new.salary > old.salary then\n",
    "        insert into salary_updates (employee_id,old_salary,new_salary,update_time)\n",
    "        values (old.id,old.salary,new.salary,NOW());\n",
    "    end if;\n",
    "END\n",
    "\"\"\"\n",
    "\n",
    "cur.execute(update_salary_trigger_query)\n",
    "print(\"Update salary trigger created\")"
   ]
  },
  {
   "cell_type": "code",
   "execution_count": 45,
   "id": "f6f78109-631c-4352-84d8-b4549062a2c2",
   "metadata": {},
   "outputs": [],
   "source": [
    "query = \"\"\"\n",
    "update employees\n",
    "set salary = 65000.00\n",
    "where id = 1\n",
    "\"\"\"\n",
    "\n",
    "cur.execute(query)"
   ]
  },
  {
   "cell_type": "code",
   "execution_count": 46,
   "id": "c60ba9fa-a27b-45d1-8468-28a87089c255",
   "metadata": {},
   "outputs": [
    {
     "name": "stdout",
     "output_type": "stream",
     "text": [
      "(1, 'John Doe', Decimal('65000.00'))\n",
      "(2, 'Bipul Kumar', Decimal('75000.25'))\n"
     ]
    }
   ],
   "source": [
    "cur.callproc(\"get_all_employees\")\n",
    "\n",
    "for result in cur.stored_results():\n",
    "    employee = result.fetchall()\n",
    "    for emp in employee:\n",
    "        print(emp)"
   ]
  },
  {
   "cell_type": "code",
   "execution_count": 61,
   "id": "643c2e17-7ebc-4e42-935f-788aaf9c90c5",
   "metadata": {},
   "outputs": [
    {
     "name": "stdout",
     "output_type": "stream",
     "text": [
      "trigger_deleted\n"
     ]
    }
   ],
   "source": [
    "#delete a trigger\n",
    "\n",
    "delete_trigger_query = \"DROP TRIGGER if exists update_salary_trigger\"\n",
    "cur.execute(delete_trigger_query)\n",
    "\n",
    "print(\"trigger_deleted\")"
   ]
  },
  {
   "cell_type": "code",
   "execution_count": null,
   "id": "32645779-eef5-4475-ba94-8bdd4d5afc75",
   "metadata": {},
   "outputs": [],
   "source": []
  }
 ],
 "metadata": {
  "kernelspec": {
   "display_name": "Python 3 (ipykernel)",
   "language": "python",
   "name": "python3"
  },
  "language_info": {
   "codemirror_mode": {
    "name": "ipython",
    "version": 3
   },
   "file_extension": ".py",
   "mimetype": "text/x-python",
   "name": "python",
   "nbconvert_exporter": "python",
   "pygments_lexer": "ipython3",
   "version": "3.9.0"
  }
 },
 "nbformat": 4,
 "nbformat_minor": 5
}
