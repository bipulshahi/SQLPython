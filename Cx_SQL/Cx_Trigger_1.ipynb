{
 "cells": [
  {
   "cell_type": "markdown",
   "id": "db6b67bf-6dbd-4a32-97ec-df072b604c56",
   "metadata": {},
   "source": [
    "* **Create a data table - users**\n",
    "* **Insert data samples**\n",
    "* **create a trigger - whenever we insert a new record into the table (users) , a corresponding entry will automatically be inserted into the 'user_logs' table**"
   ]
  },
  {
   "cell_type": "code",
   "execution_count": 1,
   "id": "aa8b0eed-0094-49e8-8bbf-62341ac062a7",
   "metadata": {},
   "outputs": [],
   "source": [
    "import mysql.connector\n",
    "\n",
    "mydb = mysql.connector.connect(host = \"localhost\",\n",
    "                              user = \"root\",\n",
    "                              password = \"725@Mysql\",\n",
    "                              database = \"mynewdb\")\n",
    "cur = mydb.cursor()"
   ]
  },
  {
   "cell_type": "code",
   "execution_count": 3,
   "id": "3c1ea8cd-b951-4c3c-854b-d4abb503b79b",
   "metadata": {},
   "outputs": [],
   "source": [
    "#Create a simple user data table\n",
    "\n",
    "create_table_query = \"\"\"\n",
    "create table if not exists users(\n",
    "id int auto_increment primary key,\n",
    "name varchar(50),\n",
    "email varchar(50)\n",
    ")\n",
    "\"\"\"\n",
    "\n",
    "#Execute the query\n",
    "cur.execute(create_table_query)\n",
    "\n",
    "#Commit the changes\n",
    "mydb.commit()"
   ]
  },
  {
   "cell_type": "code",
   "execution_count": 4,
   "id": "2be262c5-7ccb-4978-bea2-0dc5251624c3",
   "metadata": {},
   "outputs": [],
   "source": [
    "#Define insert query\n",
    "\n",
    "insert_query = \"\"\"\n",
    "insert into users (name,email) values (%s,%s)\n",
    "\"\"\"\n",
    "\n",
    "#Sample data \n",
    "data = [\n",
    "    (\"Rahul\",\"rahul@hello.com\"),\n",
    "    (\"Jay\",\"jay@abc.com\"),\n",
    "    (\"Joy\",\"joy@hello.com\")\n",
    "]\n",
    "\n",
    "#excute insert query for each data row\n",
    "for user in data:\n",
    "    cur.execute(insert_query,user)\n",
    "\n",
    "#Commit the changes\n",
    "mydb.commit()"
   ]
  },
  {
   "cell_type": "code",
   "execution_count": 5,
   "id": "52c6ac84-2450-4348-81c5-1c80c292d69e",
   "metadata": {},
   "outputs": [
    {
     "name": "stdout",
     "output_type": "stream",
     "text": [
      "(1, 'Rahul', 'rahul@hello.com')\n",
      "(2, 'Jay', 'jay@abc.com')\n",
      "(3, 'Joy', 'joy@hello.com')\n"
     ]
    }
   ],
   "source": [
    "read_query = \"select * from users\"\n",
    "\n",
    "cur.execute(read_query)\n",
    "\n",
    "for result in cur:\n",
    "    print(result)"
   ]
  },
  {
   "cell_type": "code",
   "execution_count": 9,
   "id": "6c23399c-2f83-43b2-aceb-8bf669d3a857",
   "metadata": {},
   "outputs": [
    {
     "name": "stdout",
     "output_type": "stream",
     "text": [
      "('id', 'int', 'NO', 'PRI', None, 'auto_increment')\n",
      "('name', 'varchar(50)', 'YES', '', None, '')\n",
      "('email', 'varchar(50)', 'YES', '', None, '')\n"
     ]
    }
   ],
   "source": [
    "read_query = \"describe users\"\n",
    "\n",
    "cur.execute(read_query)\n",
    "\n",
    "for result in cur:\n",
    "    print(result)"
   ]
  },
  {
   "cell_type": "markdown",
   "id": "a02d093e-c4c7-4ea7-8409-5c9f12bee26b",
   "metadata": {},
   "source": [
    "**create a table user_logs which can store id autoincrement, user_id from users, action, timestamp (time if adding data)**"
   ]
  },
  {
   "cell_type": "code",
   "execution_count": 7,
   "id": "86573e66-ebdb-4f9e-bba9-9aa5181c1034",
   "metadata": {},
   "outputs": [],
   "source": [
    "create_user_logs_query = \"\"\"\n",
    "create table if not exists user_logs(\n",
    "    id int auto_increment primary key,\n",
    "    user_id int,\n",
    "    action varchar(50),\n",
    "    timestamp TIMESTAMP default current_timestamp\n",
    "    )\n",
    "\"\"\"\n",
    "\n",
    "cur.execute(create_user_logs_query)\n",
    "\n",
    "mydb.commit()"
   ]
  },
  {
   "cell_type": "code",
   "execution_count": 8,
   "id": "8e1ff093-e5f6-4e75-9c9d-43d7cd094d27",
   "metadata": {},
   "outputs": [],
   "source": [
    "read_query = \"select * from user_logs\"\n",
    "\n",
    "cur.execute(read_query)\n",
    "\n",
    "for result in cur:\n",
    "    print(result)"
   ]
  },
  {
   "cell_type": "code",
   "execution_count": 10,
   "id": "63add163-12e8-4690-b745-cddc0e7f3a43",
   "metadata": {},
   "outputs": [
    {
     "name": "stdout",
     "output_type": "stream",
     "text": [
      "('id', 'int', 'NO', 'PRI', None, 'auto_increment')\n",
      "('user_id', 'int', 'YES', '', None, '')\n",
      "('action', 'varchar(50)', 'YES', '', None, '')\n",
      "('timestamp', 'timestamp', 'YES', '', 'CURRENT_TIMESTAMP', 'DEFAULT_GENERATED')\n"
     ]
    }
   ],
   "source": [
    "read_query = \"describe user_logs\"\n",
    "\n",
    "cur.execute(read_query)\n",
    "\n",
    "for result in cur:\n",
    "    print(result)"
   ]
  },
  {
   "cell_type": "markdown",
   "id": "f99ac966-5ea0-4d3f-b5d4-5fbe774fc073",
   "metadata": {},
   "source": [
    "**Triggers** - A trigger is a database object that automatically executes in response to certain events, such as insertions, updates or deletions on a specified table.\n",
    "* It is useful for enforcing business rules, maintaining data integrity, and auditing changes to the database."
   ]
  },
  {
   "cell_type": "markdown",
   "id": "b79cf8aa-a882-479d-81ec-06562fa1cb3d",
   "metadata": {},
   "source": [
    "**We want to create a trigger that automatically inserts a record into another table whenever a new user is inserted into the \"users\" table**"
   ]
  },
  {
   "cell_type": "code",
   "execution_count": 11,
   "id": "a20e2ab7-e54b-4b25-ae73-ea940dd95821",
   "metadata": {},
   "outputs": [
    {
     "name": "stdout",
     "output_type": "stream",
     "text": [
      "Trigger for User log created successfully\n"
     ]
    }
   ],
   "source": [
    "#define a trigger query\n",
    "create_trigger_query = \"\"\"\n",
    "create trigger user_log_insert\n",
    "after insert on users\n",
    "for each row\n",
    "BEGIN\n",
    "    insert into user_logs (user_id,action) values (new.id,'insert');\n",
    "END\n",
    "\"\"\"\n",
    "\n",
    "cur.execute(create_trigger_query)\n",
    "mydb.commit()\n",
    "print(\"Trigger for User log created successfully\")"
   ]
  },
  {
   "cell_type": "code",
   "execution_count": 12,
   "id": "85367d9d-0c5d-40dc-83be-6a34575b72d6",
   "metadata": {},
   "outputs": [],
   "source": [
    "#Define insert query\n",
    "\n",
    "insert_query = \"\"\"\n",
    "insert into users (name,email) values (%s,%s)\n",
    "\"\"\"\n",
    "\n",
    "#Sample data \n",
    "data = [\n",
    "    (\"Ganesh\",\"ganesh@hello.com\"),\n",
    "    (\"Vijay\",\"vijay@abc.com\"),\n",
    "    (\"K.K\",\"kk@hello.com\")\n",
    "]\n",
    "\n",
    "#excute insert query for each data row\n",
    "for user in data:\n",
    "    cur.execute(insert_query,user)\n",
    "\n",
    "#Commit the changes\n",
    "mydb.commit()"
   ]
  },
  {
   "cell_type": "code",
   "execution_count": 13,
   "id": "744ed725-d7ae-4f90-8f2d-77804cef9d08",
   "metadata": {},
   "outputs": [
    {
     "name": "stdout",
     "output_type": "stream",
     "text": [
      "(1, 'Rahul', 'rahul@hello.com')\n",
      "(2, 'Jay', 'jay@abc.com')\n",
      "(3, 'Joy', 'joy@hello.com')\n",
      "(4, 'Ganesh', 'ganesh@hello.com')\n",
      "(5, 'Vijay', 'vijay@abc.com')\n",
      "(6, 'K.K', 'kk@hello.com')\n"
     ]
    }
   ],
   "source": [
    "read_query = \"select * from users\"\n",
    "\n",
    "cur.execute(read_query)\n",
    "\n",
    "for result in cur:\n",
    "    print(result)"
   ]
  },
  {
   "cell_type": "code",
   "execution_count": 14,
   "id": "f7901dce-80f2-446b-bfe1-452e29cbd1dd",
   "metadata": {},
   "outputs": [
    {
     "name": "stdout",
     "output_type": "stream",
     "text": [
      "(1, 4, 'insert', datetime.datetime(2024, 5, 16, 19, 34, 14))\n",
      "(2, 5, 'insert', datetime.datetime(2024, 5, 16, 19, 34, 14))\n",
      "(3, 6, 'insert', datetime.datetime(2024, 5, 16, 19, 34, 14))\n"
     ]
    }
   ],
   "source": [
    "read_query = \"select * from user_logs\"\n",
    "\n",
    "cur.execute(read_query)\n",
    "\n",
    "for result in cur:\n",
    "    print(result)"
   ]
  },
  {
   "cell_type": "code",
   "execution_count": 18,
   "id": "e449c21b-c6df-4bbd-9376-5cbc15549bf1",
   "metadata": {},
   "outputs": [
    {
     "name": "stdout",
     "output_type": "stream",
     "text": [
      "(1, 'Rahul', 'rahul@hello.com', datetime.datetime(2024, 5, 16, 19, 34, 14))\n",
      "(1, 'Rahul', 'rahul@hello.com', datetime.datetime(2024, 5, 16, 19, 34, 14))\n",
      "(1, 'Rahul', 'rahul@hello.com', datetime.datetime(2024, 5, 16, 19, 34, 14))\n",
      "(2, 'Jay', 'jay@abc.com', datetime.datetime(2024, 5, 16, 19, 34, 14))\n",
      "(2, 'Jay', 'jay@abc.com', datetime.datetime(2024, 5, 16, 19, 34, 14))\n",
      "(2, 'Jay', 'jay@abc.com', datetime.datetime(2024, 5, 16, 19, 34, 14))\n",
      "(3, 'Joy', 'joy@hello.com', datetime.datetime(2024, 5, 16, 19, 34, 14))\n",
      "(3, 'Joy', 'joy@hello.com', datetime.datetime(2024, 5, 16, 19, 34, 14))\n",
      "(3, 'Joy', 'joy@hello.com', datetime.datetime(2024, 5, 16, 19, 34, 14))\n",
      "(4, 'Ganesh', 'ganesh@hello.com', datetime.datetime(2024, 5, 16, 19, 34, 14))\n",
      "(4, 'Ganesh', 'ganesh@hello.com', datetime.datetime(2024, 5, 16, 19, 34, 14))\n",
      "(4, 'Ganesh', 'ganesh@hello.com', datetime.datetime(2024, 5, 16, 19, 34, 14))\n",
      "(5, 'Vijay', 'vijay@abc.com', datetime.datetime(2024, 5, 16, 19, 34, 14))\n",
      "(5, 'Vijay', 'vijay@abc.com', datetime.datetime(2024, 5, 16, 19, 34, 14))\n",
      "(5, 'Vijay', 'vijay@abc.com', datetime.datetime(2024, 5, 16, 19, 34, 14))\n",
      "(6, 'K.K', 'kk@hello.com', datetime.datetime(2024, 5, 16, 19, 34, 14))\n",
      "(6, 'K.K', 'kk@hello.com', datetime.datetime(2024, 5, 16, 19, 34, 14))\n",
      "(6, 'K.K', 'kk@hello.com', datetime.datetime(2024, 5, 16, 19, 34, 14))\n"
     ]
    }
   ],
   "source": [
    "#create join query to show data from users and user_logs together\n",
    "\n",
    "join_query = \"\"\"\n",
    "    select u.id,u.name,u.email, ul.timestamp from users u join user_logs ul\n",
    "\"\"\"\n",
    "\n",
    "cur.execute(join_query)\n",
    "\n",
    "results = cur.fetchall()\n",
    "\n",
    "for result in results:\n",
    "    print(result)"
   ]
  },
  {
   "cell_type": "code",
   "execution_count": null,
   "id": "2e308f00-f087-4a6c-83f9-1a32e2167834",
   "metadata": {},
   "outputs": [],
   "source": []
  }
 ],
 "metadata": {
  "kernelspec": {
   "display_name": "Python 3 (ipykernel)",
   "language": "python",
   "name": "python3"
  },
  "language_info": {
   "codemirror_mode": {
    "name": "ipython",
    "version": 3
   },
   "file_extension": ".py",
   "mimetype": "text/x-python",
   "name": "python",
   "nbconvert_exporter": "python",
   "pygments_lexer": "ipython3",
   "version": "3.9.0"
  }
 },
 "nbformat": 4,
 "nbformat_minor": 5
}
