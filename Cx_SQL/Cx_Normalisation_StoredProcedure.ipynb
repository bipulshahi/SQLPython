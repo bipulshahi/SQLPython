{
 "cells": [
  {
   "cell_type": "markdown",
   "id": "15a4ca3d-6271-4c50-895e-1efb7ad270c3",
   "metadata": {},
   "source": [
    "**Database Normalisation and Entity Relationship(ER) Mode**\n",
    "* Database Normalisation is the process of organising the attributes and tables of a relational database to minimize redundancy and dependency.\n",
    "* The goal is to divide large tables into smaller, related tables and define relationship between them to improve data integrity and reduce chances of anomalies during data manipulation.\n"
   ]
  },
  {
   "cell_type": "code",
   "execution_count": 11,
   "id": "d8c9df70-2b0c-4047-a043-60c8c0a831ce",
   "metadata": {},
   "outputs": [],
   "source": [
    "import mysql.connector\n",
    "\n",
    "mydb = mysql.connector.connect(host = \"localhost\",\n",
    "                              user = \"root\",\n",
    "                              password = \"725@Mysql\",\n",
    "                              database = \"mynewdb\")\n",
    "cur = mydb.cursor()"
   ]
  },
  {
   "cell_type": "code",
   "execution_count": 2,
   "id": "9c306840-62d5-4531-a2ba-1ded893e8581",
   "metadata": {},
   "outputs": [
    {
     "name": "stdout",
     "output_type": "stream",
     "text": [
      "Author table created\n"
     ]
    }
   ],
   "source": [
    "#create a data table for Authors with columns - AuthorsId, AuthorName\n",
    "mydb = mysql.connector.connect(host = \"localhost\",\n",
    "                              user = \"root\",\n",
    "                              password = \"725@Mysql\",\n",
    "                              database = \"mynewdb\")\n",
    "cur = mydb.cursor()\n",
    "\n",
    "query = \"create table new_authors (authorId int primary key, authorName varchar(50) not null);\"\n",
    "\n",
    "cur.execute(query)\n",
    "mydb.commit()\n",
    "print(\"Author table created\")"
   ]
  },
  {
   "cell_type": "code",
   "execution_count": 3,
   "id": "857c556c-9f89-47f5-bfef-4bfc8b568eda",
   "metadata": {},
   "outputs": [
    {
     "name": "stdout",
     "output_type": "stream",
     "text": [
      "Authors name updated\n"
     ]
    }
   ],
   "source": [
    "#Insert data values\n",
    "\n",
    "mydb = mysql.connector.connect(host = \"localhost\",\n",
    "                              user = \"root\",\n",
    "                              password = \"725@Mysql\",\n",
    "                              database = \"mynewdb\")\n",
    "cur = mydb.cursor()\n",
    "\n",
    "query = \"insert into new_authors (authorId,authorName) values (%s,%s)\"\n",
    "\n",
    "value = [(1, \"Harper Lee\"),(2, \"J.K. rolling\"),(3, \"George Orwell\")]\n",
    "#value = (2, \"J.K. rolling\")\n",
    "#value = (3, \"George Orwell\")\n",
    "\n",
    "cur.executemany(query,value)\n",
    "mydb.commit()\n",
    "print(\"Authors name updated\")"
   ]
  },
  {
   "cell_type": "code",
   "execution_count": 4,
   "id": "4a303a5b-c2e7-45a1-becc-452867b0ef5a",
   "metadata": {},
   "outputs": [
    {
     "name": "stdout",
     "output_type": "stream",
     "text": [
      "(1, 'Harper Lee')\n",
      "(2, 'J.K. rolling')\n",
      "(3, 'George Orwell')\n"
     ]
    }
   ],
   "source": [
    "query = \"select * from new_authors\"\n",
    "\n",
    "cur.execute(query)\n",
    "\n",
    "for result in cur:\n",
    "    print(result)"
   ]
  },
  {
   "cell_type": "code",
   "execution_count": 5,
   "id": "24571621-745a-43e4-afa0-673114b38f97",
   "metadata": {},
   "outputs": [
    {
     "name": "stdout",
     "output_type": "stream",
     "text": [
      "Book table created\n"
     ]
    }
   ],
   "source": [
    "#Create a data table for books with columns - BookId, Title, Genre, AuthorId, Year\n",
    "\n",
    "mydb = mysql.connector.connect(host = \"localhost\",\n",
    "                              user = \"root\",\n",
    "                              password = \"725@Mysql\",\n",
    "                              database = \"mynewdb\")\n",
    "cur = mydb.cursor()\n",
    "\n",
    "query = \"\"\"\n",
    "create table new_Books (BookID int primary key, Title varchar(50) not null , \n",
    "Genre varchar(50), Year int, authorId int)\n",
    "\"\"\"\n",
    "\n",
    "cur.execute(query)\n",
    "mydb.commit()\n",
    "\n",
    "print(\"Book table created\")"
   ]
  },
  {
   "cell_type": "code",
   "execution_count": 6,
   "id": "7c19dc5e-3bc1-4ec7-a5fc-e052db69f79a",
   "metadata": {},
   "outputs": [
    {
     "name": "stdout",
     "output_type": "stream",
     "text": [
      "Authors name updated\n"
     ]
    }
   ],
   "source": [
    "mydb = mysql.connector.connect(host = \"localhost\",\n",
    "                              user = \"root\",\n",
    "                              password = \"725@Mysql\",\n",
    "                              database = \"mynewdb\")\n",
    "cur = mydb.cursor()\n",
    "\n",
    "query = \"insert into new_books (BookID,Title,Genre,Year,authorId) values (%s,%s,%s,%s,%s)\"\n",
    "value = [(1, \"Harry Potter\" , \"Fantasy\" , 97 , 2),\n",
    "         (2,\"Harry Potter & Chambers of Secrets\",\"Fantasy\",1998 , 2),\n",
    "         (3,\"ABCDE\",\"Fiction\",2000 , 1),\n",
    "         (4,\"QWERSTEY\" , \"Satire\" , 2010 , 1),\n",
    "         (5, \"XYZ\" , \"Fiction\" , 2012 , 3),\n",
    "         (6, \"axcfre\" , \"Satire\" , 2019 , 3)]\n",
    "\n",
    "#value = (4,\"QWERSTEY\" , \"Satire\" , 2010 , 1)\n",
    "#value = (5, \"XYZ\" , \"Fiction\" , 2012 , 3),\n",
    "#value = (6, \"axcfre\" , \"Satire\" , 2019 , 3)\n",
    "\n",
    "cur.executemany(query,value)\n",
    "mydb.commit()\n",
    "print(\"Authors name updated\")"
   ]
  },
  {
   "cell_type": "code",
   "execution_count": 7,
   "id": "3ced594f-a624-41ae-94e3-064f3d3997c6",
   "metadata": {},
   "outputs": [
    {
     "name": "stdout",
     "output_type": "stream",
     "text": [
      "(1, 'Harry Potter', 'Fantasy', 97, 2)\n",
      "(2, 'Harry Potter & Chambers of Secrets', 'Fantasy', 1998, 2)\n",
      "(3, 'ABCDE', 'Fiction', 2000, 1)\n",
      "(4, 'QWERSTEY', 'Satire', 2010, 1)\n",
      "(5, 'XYZ', 'Fiction', 2012, 3)\n",
      "(6, 'axcfre', 'Satire', 2019, 3)\n"
     ]
    }
   ],
   "source": [
    "query = \"select * from new_books\"\n",
    "\n",
    "cur.execute(query)\n",
    "\n",
    "for result in cur:\n",
    "    print(result)"
   ]
  },
  {
   "cell_type": "code",
   "execution_count": 10,
   "id": "d4ed4e61-907b-429d-ac9f-8f4bc1995f3b",
   "metadata": {},
   "outputs": [
    {
     "name": "stdout",
     "output_type": "stream",
     "text": [
      "('Harry Potter', 'Fantasy', 97, 'J.K. rolling')\n",
      "('Harry Potter & Chambers of Secrets', 'Fantasy', 1998, 'J.K. rolling')\n",
      "('ABCDE', 'Fiction', 2000, 'Harper Lee')\n",
      "('QWERSTEY', 'Satire', 2010, 'Harper Lee')\n",
      "('XYZ', 'Fiction', 2012, 'George Orwell')\n",
      "('axcfre', 'Satire', 2019, 'George Orwell')\n"
     ]
    }
   ],
   "source": [
    "query = \"\"\"\n",
    "select b.title, b.genre, b.year, a.authorName from new_books b join authors a on b.authorId = a.authorId\n",
    "\"\"\"\n",
    "\n",
    "cur.execute(query)\n",
    "\n",
    "for result in cur:\n",
    "    print(result)"
   ]
  },
  {
   "cell_type": "markdown",
   "id": "909a7bbd-5d3e-48bf-8d3f-f08369fbb5be",
   "metadata": {},
   "source": [
    "**Stored Procedure**\n",
    "* Stored Procedures and triggers are advanced database feature that can help automate tasks and gives power of code reusability"
   ]
  },
  {
   "cell_type": "code",
   "execution_count": 35,
   "id": "546a2a51-4dc4-42e8-be6d-b39f985f3d1c",
   "metadata": {},
   "outputs": [],
   "source": [
    "mydb = mysql.connector.connect(host = \"localhost\",\n",
    "                              user = \"root\",\n",
    "                              password = \"725@Mysql\",\n",
    "                              database = \"mynewdb\")\n",
    "cur = mydb.cursor()\n",
    "\n",
    "query = \"\"\"\n",
    "create procedure getbookinfobyauthorId(IN author_id int) \n",
    "BEGIN \n",
    "select b.title,b.genre,b.year \n",
    "from new_books b \n",
    "join new_authors a on b.authorId = a.authorId where a.authorId = author_id;\n",
    "end \n",
    "\"\"\"\n",
    "\n",
    "cur.execute(query)\n",
    "mydb.commit()\n"
   ]
  },
  {
   "cell_type": "code",
   "execution_count": 36,
   "id": "22019474-6b00-41de-a21b-68bb66438945",
   "metadata": {},
   "outputs": [],
   "source": [
    "\n",
    "mydb = mysql.connector.connect(host = \"localhost\",\n",
    "                              user = \"root\",\n",
    "                              password = \"725@Mysql\",\n",
    "                              database = \"mynewdb\")\n",
    "cur = mydb.cursor()\n",
    "\n",
    "cur.callproc('getbookinfobyauthorId',(2,))\n",
    "\n",
    "#print(cur)\n",
    "\n",
    "result = cur.fetchall()\n",
    "\n",
    "for res in cur:\n",
    "    print(res)\n",
    "\n",
    "#for row in result:\n",
    "#    print(row)\n",
    "    \n",
    "cur.close()\n",
    "mydb.close()"
   ]
  },
  {
   "cell_type": "code",
   "execution_count": null,
   "id": "ecca3b52-10cb-4923-9b5f-63ef50b13ccf",
   "metadata": {},
   "outputs": [],
   "source": []
  }
 ],
 "metadata": {
  "kernelspec": {
   "display_name": "Python 3 (ipykernel)",
   "language": "python",
   "name": "python3"
  },
  "language_info": {
   "codemirror_mode": {
    "name": "ipython",
    "version": 3
   },
   "file_extension": ".py",
   "mimetype": "text/x-python",
   "name": "python",
   "nbconvert_exporter": "python",
   "pygments_lexer": "ipython3",
   "version": "3.9.0"
  }
 },
 "nbformat": 4,
 "nbformat_minor": 5
}
