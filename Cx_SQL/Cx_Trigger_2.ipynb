{
 "cells": [
  {
   "cell_type": "markdown",
   "id": "453efa04-0424-4472-89a9-1b1acb8da540",
   "metadata": {},
   "source": [
    "**We Will have two tables**\n",
    "* **orders** and **order_logs**\n",
    "* Whenever a new order is inserted into 'orders' table, a trigger will automatically insert a log entry into 'order_logs' table"
   ]
  },
  {
   "cell_type": "code",
   "execution_count": 1,
   "id": "a6287446-4a57-4418-95b8-5355571197ed",
   "metadata": {},
   "outputs": [],
   "source": [
    "import mysql.connector\n",
    "\n",
    "mydb = mysql.connector.connect(host = \"localhost\",\n",
    "                              user = \"root\",\n",
    "                              password = \"725@Mysql\",\n",
    "                              database = \"mynewdb\")\n",
    "cur = mydb.cursor()"
   ]
  },
  {
   "cell_type": "code",
   "execution_count": 2,
   "id": "701cf865-a374-4b2e-80a5-6dd632727553",
   "metadata": {},
   "outputs": [],
   "source": [
    "#Define a create table query\n",
    "\n",
    "create_orders_table_query = \"\"\"\n",
    "create table if not exists orders(\n",
    "    id int auto_increment primary key,\n",
    "    product varchar(50),\n",
    "    quantity int,\n",
    "    total_price decimal(10,2)\n",
    "    )\n",
    "\"\"\"\n",
    "\n",
    "cur.execute(create_orders_table_query)\n",
    "mydb.commit()"
   ]
  },
  {
   "cell_type": "code",
   "execution_count": 3,
   "id": "517062c5-971d-4212-b63f-516784e91781",
   "metadata": {},
   "outputs": [
    {
     "name": "stdout",
     "output_type": "stream",
     "text": [
      "Orders Updated\n"
     ]
    }
   ],
   "source": [
    "#Define insert query\n",
    "insert_order_query = \"\"\"\n",
    "insert into orders(product,quantity,total_price) values(%s,%s,%s)\n",
    "\"\"\"\n",
    "\n",
    "order_data = [(\"Laptop\",2,2000.00),(\"Mouse\",5,100.00),(\"Keyboard\",3,200.00)]\n",
    "cur.executemany(insert_order_query,order_data)\n",
    "mydb.commit()\n",
    "print(\"Orders Updated\")"
   ]
  },
  {
   "cell_type": "code",
   "execution_count": 4,
   "id": "ebd766a6-0528-4d75-9934-2ca92f6ced31",
   "metadata": {},
   "outputs": [
    {
     "name": "stdout",
     "output_type": "stream",
     "text": [
      "(1, 'Laptop', 2, Decimal('2000.00'))\n",
      "(2, 'Mouse', 5, Decimal('100.00'))\n",
      "(3, 'Keyboard', 3, Decimal('200.00'))\n"
     ]
    }
   ],
   "source": [
    "read_query = \"select * from orders\"\n",
    "\n",
    "cur.execute(read_query)\n",
    "\n",
    "for result in cur:\n",
    "    print(result)"
   ]
  },
  {
   "cell_type": "code",
   "execution_count": 5,
   "id": "7a19bd60-6694-411f-a326-3622b915c202",
   "metadata": {},
   "outputs": [],
   "source": [
    "#define a table order logs\n",
    "\n",
    "create_order_logs_query = \"\"\"\n",
    "create table if not exists order_logs(\n",
    "    id int primary key auto_increment,\n",
    "    order_id int,\n",
    "    action varchar(50),\n",
    "    timestamp TIMESTAMP default current_timestamp\n",
    ")\n",
    "\"\"\"\n",
    "\n",
    "cur.execute(create_order_logs_query)\n",
    "mydb.commit()"
   ]
  },
  {
   "cell_type": "markdown",
   "id": "03b0cf16-2628-4a9e-858c-8c33c0a4b28b",
   "metadata": {},
   "source": [
    "* create a trigger that can automatically updates order_logs whenever a new entry is made into the orders table"
   ]
  },
  {
   "cell_type": "code",
   "execution_count": 6,
   "id": "ed1d10e4-36c3-48c3-81a6-703dfd31fa4d",
   "metadata": {},
   "outputs": [],
   "source": [
    "#create trigger query\n",
    "\n",
    "create_order_log_trigger = \"\"\"\n",
    "create trigger orders_after_insert\n",
    "after insert on orders\n",
    "for each row\n",
    "BEGIN\n",
    "    insert into order_logs (order_id,action) values (new.id , 'insert');\n",
    "END\n",
    "\"\"\"\n",
    "\n",
    "cur.execute(create_order_log_trigger)\n",
    "mydb.commit()"
   ]
  },
  {
   "cell_type": "code",
   "execution_count": 7,
   "id": "c386fd79-1293-450a-a38a-fc2b7cb2704b",
   "metadata": {},
   "outputs": [
    {
     "name": "stdout",
     "output_type": "stream",
     "text": [
      "Orders Updated\n"
     ]
    }
   ],
   "source": [
    "#Define insert query\n",
    "insert_order_query = \"\"\"\n",
    "insert into orders(product,quantity,total_price) values(%s,%s,%s)\n",
    "\"\"\"\n",
    "\n",
    "order_data = [(\"SmartPhone\",6,1000.00),(\"HeadPhone\",7,150.00),(\"Tablet\",2,700.00)]\n",
    "cur.executemany(insert_order_query,order_data)\n",
    "mydb.commit()\n",
    "print(\"Orders Updated\")"
   ]
  },
  {
   "cell_type": "code",
   "execution_count": 8,
   "id": "025c1cd9-5f60-4841-acf8-69e3df677cba",
   "metadata": {},
   "outputs": [
    {
     "name": "stdout",
     "output_type": "stream",
     "text": [
      "(1, 'Laptop', 2, Decimal('2000.00'))\n",
      "(2, 'Mouse', 5, Decimal('100.00'))\n",
      "(3, 'Keyboard', 3, Decimal('200.00'))\n",
      "(4, 'SmartPhone', 6, Decimal('1000.00'))\n",
      "(5, 'HeadPhone', 7, Decimal('150.00'))\n",
      "(6, 'Tablet', 2, Decimal('700.00'))\n"
     ]
    }
   ],
   "source": [
    "read_query = \"select * from orders\"\n",
    "\n",
    "cur.execute(read_query)\n",
    "\n",
    "for result in cur:\n",
    "    print(result)"
   ]
  },
  {
   "cell_type": "code",
   "execution_count": 9,
   "id": "e1fac72e-1759-43c0-b75a-0d68b3b32252",
   "metadata": {},
   "outputs": [
    {
     "name": "stdout",
     "output_type": "stream",
     "text": [
      "(1, 4, 'insert', datetime.datetime(2024, 5, 16, 20, 21, 11))\n",
      "(2, 5, 'insert', datetime.datetime(2024, 5, 16, 20, 21, 11))\n",
      "(3, 6, 'insert', datetime.datetime(2024, 5, 16, 20, 21, 11))\n"
     ]
    }
   ],
   "source": [
    "read_query = \"select * from order_logs\"\n",
    "\n",
    "cur.execute(read_query)\n",
    "\n",
    "for result in cur:\n",
    "    print(result)"
   ]
  },
  {
   "cell_type": "code",
   "execution_count": 12,
   "id": "ceab5b3b-f33c-4383-9142-faf7cf80704e",
   "metadata": {},
   "outputs": [
    {
     "name": "stdout",
     "output_type": "stream",
     "text": [
      "(4, 'SmartPhone', 6, Decimal('1000.00'), datetime.datetime(2024, 5, 16, 20, 21, 11))\n",
      "(5, 'HeadPhone', 7, Decimal('150.00'), datetime.datetime(2024, 5, 16, 20, 21, 11))\n",
      "(6, 'Tablet', 2, Decimal('700.00'), datetime.datetime(2024, 5, 16, 20, 21, 11))\n"
     ]
    }
   ],
   "source": [
    "#Join query to read information from orders & order_logs together\n",
    "\n",
    "join_query_to_read = \"\"\"\n",
    "select o.id,o.product,o.quantity,o.total_price, ol.timestamp \n",
    "from orders o \n",
    "join order_logs ol \n",
    "on o.id = ol.order_id\n",
    "\"\"\"\n",
    "\n",
    "cur.execute(join_query_to_read)\n",
    "\n",
    "for result in cur:\n",
    "    print(result)\n",
    "                  "
   ]
  },
  {
   "cell_type": "markdown",
   "id": "b0344e28-b8cc-4950-9e4f-e5dd6d9ceef0",
   "metadata": {},
   "source": [
    "**create a trigger which can apply a discount of 10% befor adding total price into data table if quantity is more then 5**"
   ]
  },
  {
   "cell_type": "code",
   "execution_count": 13,
   "id": "784165cb-bf20-4e47-8e07-319d72cad720",
   "metadata": {},
   "outputs": [],
   "source": [
    "#define the trigger\n",
    "\n",
    "create_discount_trigger = \"\"\"\n",
    "    create trigger apply_discount\n",
    "    before insert on orders\n",
    "    for each row\n",
    "    BEGIN\n",
    "        if new.quantity >= 5 then\n",
    "            set new.total_price = 0.9*new.total_price;\n",
    "        end if;\n",
    "    END\n",
    "\"\"\"\n",
    "\n",
    "cur.execute(create_discount_trigger)\n",
    "mydb.commit()"
   ]
  },
  {
   "cell_type": "code",
   "execution_count": null,
   "id": "6429faa4-3ff8-4a9a-97f7-a4f08ca5a834",
   "metadata": {},
   "outputs": [],
   "source": [
    "new_order_data = [(\"Monitor\",6,1400),(\"Table\",3,800)]\n",
    "\n",
    "for row in new_order_data:\n",
    "    cur.execute()"
   ]
  }
 ],
 "metadata": {
  "kernelspec": {
   "display_name": "Python 3 (ipykernel)",
   "language": "python",
   "name": "python3"
  },
  "language_info": {
   "codemirror_mode": {
    "name": "ipython",
    "version": 3
   },
   "file_extension": ".py",
   "mimetype": "text/x-python",
   "name": "python",
   "nbconvert_exporter": "python",
   "pygments_lexer": "ipython3",
   "version": "3.9.0"
  }
 },
 "nbformat": 4,
 "nbformat_minor": 5
}
