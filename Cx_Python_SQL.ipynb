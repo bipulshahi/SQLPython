{
 "cells": [
  {
   "cell_type": "code",
   "execution_count": 2,
   "id": "a75ab7fc-3390-4095-9926-4b91d1087fa5",
   "metadata": {},
   "outputs": [
    {
     "name": "stdout",
     "output_type": "stream",
     "text": [
      "Requirement already satisfied: mysql-connector-python in /Library/Frameworks/Python.framework/Versions/3.9/lib/python3.9/site-packages (8.3.0)\n",
      "\u001b[33mWARNING: You are using pip version 20.2.3; however, version 24.0 is available.\n",
      "You should consider upgrading via the '/Library/Frameworks/Python.framework/Versions/3.9/bin/python3.9 -m pip install --upgrade pip' command.\u001b[0m\n"
     ]
    }
   ],
   "source": [
    "!pip3 install mysql-connector-python"
   ]
  },
  {
   "cell_type": "code",
   "execution_count": 3,
   "id": "0022f944-ebaa-45c4-8d71-c91006e03971",
   "metadata": {},
   "outputs": [],
   "source": [
    "import mysql.connector"
   ]
  },
  {
   "cell_type": "code",
   "execution_count": 11,
   "id": "3a296a7a-d0cc-43ba-8f84-20d8594a9d1a",
   "metadata": {},
   "outputs": [
    {
     "name": "stdout",
     "output_type": "stream",
     "text": [
      "14\n"
     ]
    }
   ],
   "source": [
    "mydb = mysql.connector.connect(host = 'localhost',\n",
    "                               user = 'root',\n",
    "                               password = '725@Mysql')\n",
    "print(mydb.connection_id)"
   ]
  },
  {
   "cell_type": "code",
   "execution_count": 12,
   "id": "90c8b191-11ed-43cf-946a-6f5bd35b6adb",
   "metadata": {},
   "outputs": [],
   "source": [
    "cur = mydb.cursor()"
   ]
  },
  {
   "cell_type": "code",
   "execution_count": 13,
   "id": "f6f0605c-7563-464d-b696-41ca23d04886",
   "metadata": {},
   "outputs": [],
   "source": [
    "cur.execute(\"show databases\")"
   ]
  },
  {
   "cell_type": "code",
   "execution_count": 14,
   "id": "44872ea3-2204-495e-905d-69e33b420874",
   "metadata": {},
   "outputs": [
    {
     "name": "stdout",
     "output_type": "stream",
     "text": [
      "('CompanyDB',)\n",
      "('cx_db',)\n",
      "('db1',)\n",
      "('db2',)\n",
      "('db3',)\n",
      "('f_db1',)\n",
      "('f_db2',)\n",
      "('idb1',)\n",
      "('idb2',)\n",
      "('idb3',)\n",
      "('idb4',)\n",
      "('idb5',)\n",
      "('information_schema',)\n",
      "('mydb',)\n",
      "('mydb_emp',)\n",
      "('mydbx',)\n",
      "('mysql',)\n",
      "('mysql_db',)\n",
      "('performance_schema',)\n",
      "('sys',)\n"
     ]
    }
   ],
   "source": [
    "for dbs in cur:\n",
    "    print(dbs)"
   ]
  },
  {
   "cell_type": "code",
   "execution_count": 15,
   "id": "4e889116-206d-4c45-a030-a54928417af9",
   "metadata": {},
   "outputs": [
    {
     "name": "stdout",
     "output_type": "stream",
     "text": [
      "mynewdbcreated\n"
     ]
    }
   ],
   "source": [
    "cur.execute(\"create database mynewdb\")\n",
    "print(\"mynewdbcreated\")"
   ]
  },
  {
   "cell_type": "code",
   "execution_count": 16,
   "id": "ef5e55c8-5c58-4ac8-aabd-fd35fd41bfab",
   "metadata": {},
   "outputs": [],
   "source": [
    "cur.execute(\"show databases\")"
   ]
  },
  {
   "cell_type": "code",
   "execution_count": 17,
   "id": "a12a9f45-5a47-4968-9fcc-b78307cc8096",
   "metadata": {},
   "outputs": [
    {
     "name": "stdout",
     "output_type": "stream",
     "text": [
      "('CompanyDB',)\n",
      "('cx_db',)\n",
      "('db1',)\n",
      "('db2',)\n",
      "('db3',)\n",
      "('f_db1',)\n",
      "('f_db2',)\n",
      "('idb1',)\n",
      "('idb2',)\n",
      "('idb3',)\n",
      "('idb4',)\n",
      "('idb5',)\n",
      "('information_schema',)\n",
      "('mydb',)\n",
      "('mydb_emp',)\n",
      "('mydbx',)\n",
      "('mynewdb',)\n",
      "('mysql',)\n",
      "('mysql_db',)\n",
      "('performance_schema',)\n",
      "('sys',)\n"
     ]
    }
   ],
   "source": [
    "for dbs in cur:\n",
    "    print(dbs)"
   ]
  },
  {
   "cell_type": "code",
   "execution_count": 18,
   "id": "18ec61d4-6830-46a5-9f44-52f688c070ea",
   "metadata": {},
   "outputs": [],
   "source": [
    "#server => database => data table\n",
    "\n",
    "mydb = mysql.connector.connect(host = \"localhost\",\n",
    "                              user = \"root\",\n",
    "                              password = \"725@Mysql\",\n",
    "                              database = \"mynewdb\")\n",
    "cur = mydb.cursor()"
   ]
  },
  {
   "cell_type": "code",
   "execution_count": 19,
   "id": "b11e6d56-3ebb-4fbe-ac4f-0c85136281ae",
   "metadata": {},
   "outputs": [
    {
     "name": "stdout",
     "output_type": "stream",
     "text": [
      "Data table Newbook is created in mynewdb to store data\n"
     ]
    }
   ],
   "source": [
    "s = \"create table newbook(bookid int(4) , title varchar(20) , price float(5,2))\"\n",
    "cur.execute(s)\n",
    "mydb.commit()\n",
    "print(\"Data table Newbook is created in mynewdb to store data\")"
   ]
  },
  {
   "cell_type": "code",
   "execution_count": 20,
   "id": "177bff15-d7c7-4ae5-b131-5304d3f4e96b",
   "metadata": {},
   "outputs": [
    {
     "name": "stdout",
     "output_type": "stream",
     "text": [
      "('newbook',)\n"
     ]
    }
   ],
   "source": [
    "s = \"show tables\"\n",
    "cur.execute(s)\n",
    "for table in cur:\n",
    "    print(table)"
   ]
  },
  {
   "cell_type": "code",
   "execution_count": 24,
   "id": "caee9350-860d-42ca-a5dc-1a92087d73d4",
   "metadata": {},
   "outputs": [
    {
     "name": "stdout",
     "output_type": "stream",
     "text": [
      "value added into table\n"
     ]
    }
   ],
   "source": [
    "s = \"insert into newbook (bookid,title,price) values(%s,%s,%s)\"\n",
    "value = (2,\"HTML\",150)\n",
    "cur.execute(s,value)\n",
    "print(\"value added into table\")"
   ]
  },
  {
   "cell_type": "code",
   "execution_count": 25,
   "id": "478cdf8e-b30d-4122-9773-67077b7951c7",
   "metadata": {},
   "outputs": [
    {
     "name": "stdout",
     "output_type": "stream",
     "text": [
      "(1, 'Python', 200.0)\n",
      "(2, 'HTML', 150.0)\n"
     ]
    }
   ],
   "source": [
    "s = \"select * from newbook\"\n",
    "cur.execute(s)\n",
    "for row in cur:\n",
    "    print(row)"
   ]
  },
  {
   "cell_type": "code",
   "execution_count": 26,
   "id": "485f1980-e3ca-4e20-9917-08e8c7156917",
   "metadata": {},
   "outputs": [
    {
     "name": "stdout",
     "output_type": "stream",
     "text": [
      "Multiple values are added successfully\n"
     ]
    }
   ],
   "source": [
    "s = \"insert into newbook (bookid,title,price) values (%s,%s,%s)\"\n",
    "value = [(3,\"PHP\",150),(4,\"Java\",100),(5,\"Scala\",160)]\n",
    "cur.executemany(s,value)\n",
    "print(\"Multiple values are added successfully\")"
   ]
  },
  {
   "cell_type": "code",
   "execution_count": 27,
   "id": "8b3dc2f4-dbc7-4878-ae38-2b3f5c004fcd",
   "metadata": {},
   "outputs": [
    {
     "name": "stdout",
     "output_type": "stream",
     "text": [
      "(1, 'Python', 200.0)\n",
      "(2, 'HTML', 150.0)\n",
      "(3, 'PHP', 150.0)\n",
      "(4, 'Java', 100.0)\n",
      "(5, 'Scala', 160.0)\n"
     ]
    }
   ],
   "source": [
    "s = \"select * from newbook\"\n",
    "cur.execute(s)\n",
    "for row in cur:\n",
    "    print(row)"
   ]
  },
  {
   "cell_type": "code",
   "execution_count": 28,
   "id": "73c12a7d-da8e-46ce-b355-d8e453d26eba",
   "metadata": {},
   "outputs": [
    {
     "name": "stdout",
     "output_type": "stream",
     "text": [
      "[(1, 'Python', 200.0), (2, 'HTML', 150.0), (3, 'PHP', 150.0), (4, 'Java', 100.0), (5, 'Scala', 160.0)]\n"
     ]
    }
   ],
   "source": [
    "s = \"select * from newbook\"\n",
    "cur.execute(s)\n",
    "result = cur.fetchall()\n",
    "print(result)"
   ]
  },
  {
   "cell_type": "code",
   "execution_count": 29,
   "id": "48bee5de-76c0-460f-af22-a3f3aa1021d4",
   "metadata": {},
   "outputs": [
    {
     "name": "stdout",
     "output_type": "stream",
     "text": [
      "(1, 'Python', 200.0)\n",
      "(2, 'HTML', 150.0)\n",
      "(3, 'PHP', 150.0)\n",
      "(4, 'Java', 100.0)\n",
      "(5, 'Scala', 160.0)\n"
     ]
    }
   ],
   "source": [
    "s = \"select * from newbook\"\n",
    "cur.execute(s)\n",
    "result = cur.fetchall()\n",
    "for res in result:\n",
    "    print(res)"
   ]
  },
  {
   "cell_type": "code",
   "execution_count": 30,
   "id": "5940300c-4a7a-4ae0-88ca-ec1ad89f0930",
   "metadata": {},
   "outputs": [
    {
     "name": "stdout",
     "output_type": "stream",
     "text": [
      "Price values are updated\n"
     ]
    }
   ],
   "source": [
    "#write a query to increase price by 10\n",
    "\n",
    "s = \"update newbook set price = price + 10\"\n",
    "cur.execute(s)\n",
    "print(\"Price values are updated\")"
   ]
  },
  {
   "cell_type": "code",
   "execution_count": 31,
   "id": "596a4d5b-7a2c-4026-a519-7c28e8cd3773",
   "metadata": {},
   "outputs": [
    {
     "name": "stdout",
     "output_type": "stream",
     "text": [
      "[(1, 'Python', 210.0), (2, 'HTML', 160.0), (3, 'PHP', 160.0), (4, 'Java', 110.0), (5, 'Scala', 170.0)]\n"
     ]
    }
   ],
   "source": [
    "s = \"select * from newbook\"\n",
    "cur.execute(s)\n",
    "result = cur.fetchall()\n",
    "print(result)"
   ]
  },
  {
   "cell_type": "code",
   "execution_count": 32,
   "id": "c2330ebd-53f2-4516-bda4-68ef0013342a",
   "metadata": {},
   "outputs": [
    {
     "name": "stdout",
     "output_type": "stream",
     "text": [
      "Price values are updated\n"
     ]
    }
   ],
   "source": [
    "#write a query to decrease price by 10% where it is more then 200\n",
    "\n",
    "s = \"update newbook set price = price * 0.9 where price > 200\"\n",
    "cur.execute(s)\n",
    "print(\"Price values are updated\")"
   ]
  },
  {
   "cell_type": "code",
   "execution_count": 33,
   "id": "ac070217-2dc2-484a-9bce-851c06b5d547",
   "metadata": {},
   "outputs": [
    {
     "name": "stdout",
     "output_type": "stream",
     "text": [
      "[(1, 'Python', 189.0), (2, 'HTML', 160.0), (3, 'PHP', 160.0), (4, 'Java', 110.0), (5, 'Scala', 170.0)]\n"
     ]
    }
   ],
   "source": [
    "s = \"select * from newbook\"\n",
    "cur.execute(s)\n",
    "result = cur.fetchall()\n",
    "print(result)"
   ]
  },
  {
   "cell_type": "code",
   "execution_count": 36,
   "id": "7d29123a-2c9d-4281-9854-14d6d5affba5",
   "metadata": {},
   "outputs": [
    {
     "name": "stdout",
     "output_type": "stream",
     "text": [
      "Sample Scala is deleted\n"
     ]
    }
   ],
   "source": [
    "#write a query to delete data sample representing \"Scala\"\n",
    "\n",
    "s = \"delete from newbook where title = 'Scala'\"\n",
    "cur.execute(s)\n",
    "print(\"Sample Scala is deleted\")"
   ]
  },
  {
   "cell_type": "code",
   "execution_count": 37,
   "id": "1a5ef0fd-cfd3-4704-acad-db1109b373bb",
   "metadata": {},
   "outputs": [
    {
     "name": "stdout",
     "output_type": "stream",
     "text": [
      "[(1, 'Python', 189.0), (2, 'HTML', 160.0), (3, 'PHP', 160.0)]\n"
     ]
    }
   ],
   "source": [
    "s = \"select * from newbook\"\n",
    "cur.execute(s)\n",
    "result = cur.fetchall()\n",
    "print(result)"
   ]
  },
  {
   "cell_type": "code",
   "execution_count": 38,
   "id": "1dce8182-16e5-4e0f-bb5d-7a21564e6350",
   "metadata": {},
   "outputs": [],
   "source": [
    "s = \"insert into newbook (bookid,title,price) values (%s,%s,%s)\"\n",
    "values = [(3,'PHP',160),(3,'PHP',160)]\n",
    "cur.executemany(s,values)"
   ]
  },
  {
   "cell_type": "code",
   "execution_count": 39,
   "id": "d36e0ab8-7804-4114-8e03-e3d177a5ce31",
   "metadata": {},
   "outputs": [
    {
     "name": "stdout",
     "output_type": "stream",
     "text": [
      "[(1, 'Python', 189.0), (2, 'HTML', 160.0), (3, 'PHP', 160.0), (3, 'PHP', 160.0), (3, 'PHP', 160.0)]\n"
     ]
    }
   ],
   "source": [
    "s = \"select * from newbook\"\n",
    "cur.execute(s)\n",
    "result = cur.fetchall()\n",
    "print(result)"
   ]
  },
  {
   "cell_type": "code",
   "execution_count": 40,
   "id": "2738ba1d-a844-461e-b3ee-d9d873667da7",
   "metadata": {},
   "outputs": [],
   "source": [
    "#create a table newbook2 with all the values of newbook i.e. a copy of newbook\n",
    "\n",
    "s = \"create table newbook2 as select * from newbook\"\n",
    "cur.execute(s)"
   ]
  },
  {
   "cell_type": "code",
   "execution_count": 41,
   "id": "2d7d2e45-ae12-474a-9344-ad73a6708f2d",
   "metadata": {},
   "outputs": [
    {
     "name": "stdout",
     "output_type": "stream",
     "text": [
      "[(1, 'Python', 189.0), (2, 'HTML', 160.0), (3, 'PHP', 160.0), (3, 'PHP', 160.0), (3, 'PHP', 160.0)]\n"
     ]
    }
   ],
   "source": [
    "s = \"select * from newbook2\"\n",
    "cur.execute(s)\n",
    "result = cur.fetchall()\n",
    "print(result)"
   ]
  },
  {
   "cell_type": "code",
   "execution_count": 46,
   "id": "ae84e84e-38fa-4910-8549-ca92f76452fc",
   "metadata": {},
   "outputs": [],
   "source": [
    "#create a table newbook3 with non repetitive values of newbook\n",
    "\n",
    "s = \"create table newbook3 as select distinct bookid,title,price from newbook\"\n",
    "cur.execute(s)"
   ]
  },
  {
   "cell_type": "code",
   "execution_count": 47,
   "id": "7408c7d3-4615-49e9-bee6-bc76df3d5dab",
   "metadata": {},
   "outputs": [
    {
     "name": "stdout",
     "output_type": "stream",
     "text": [
      "[(1, 'Python', 189.0), (2, 'HTML', 160.0), (3, 'PHP', 160.0)]\n"
     ]
    }
   ],
   "source": [
    "s = \"select * from newbook3\"\n",
    "cur.execute(s)\n",
    "result = cur.fetchall()\n",
    "print(result)"
   ]
  },
  {
   "cell_type": "code",
   "execution_count": 48,
   "id": "ecef699b-5ab2-40cf-b0f5-10aa7d15bac6",
   "metadata": {},
   "outputs": [
    {
     "name": "stdout",
     "output_type": "stream",
     "text": [
      "('newbook',)\n",
      "('newbook2',)\n",
      "('newbook3',)\n"
     ]
    }
   ],
   "source": [
    "s = \"show tables\"\n",
    "cur.execute(s)\n",
    "for table in cur:\n",
    "    print(table)"
   ]
  },
  {
   "cell_type": "code",
   "execution_count": 49,
   "id": "70985833-f83f-4c7b-806d-7683d707b8e8",
   "metadata": {},
   "outputs": [],
   "source": [
    "#write a query to delete table newbook2\n",
    "s = \"drop table newbook2\"\n",
    "cur.execute(s)"
   ]
  },
  {
   "cell_type": "code",
   "execution_count": 51,
   "id": "1b2151e5-2e65-4747-a589-59f442396dfd",
   "metadata": {},
   "outputs": [
    {
     "name": "stdout",
     "output_type": "stream",
     "text": [
      "('newbook',)\n",
      "('newbook3',)\n"
     ]
    }
   ],
   "source": [
    "s = \"show tables\"\n",
    "cur.execute(s)\n",
    "for table in cur:\n",
    "    print(table)"
   ]
  },
  {
   "cell_type": "code",
   "execution_count": 53,
   "id": "ca1eb9c3-b40c-4c33-9385-6c9266752331",
   "metadata": {},
   "outputs": [
    {
     "name": "stdout",
     "output_type": "stream",
     "text": [
      "quanity column is added\n"
     ]
    }
   ],
   "source": [
    "#write a query to add a new coluwm quantity as integer value\n",
    "\n",
    "s = \"alter table newbook add column quantity int(4)\"\n",
    "cur.execute(s)\n",
    "print('quanity column is added')"
   ]
  },
  {
   "cell_type": "code",
   "execution_count": 55,
   "id": "b467a005-7f55-4ee2-8883-fec5714b74d9",
   "metadata": {},
   "outputs": [],
   "source": [
    "s = \"describe newbook\"\n",
    "cur.execute(s)"
   ]
  },
  {
   "cell_type": "code",
   "execution_count": 56,
   "id": "11aa73b2-fd52-4105-b9d3-4d8bbb405a8c",
   "metadata": {},
   "outputs": [
    {
     "name": "stdout",
     "output_type": "stream",
     "text": [
      "('bookid', 'int', 'YES', '', None, '')\n",
      "('title', 'varchar(20)', 'YES', '', None, '')\n",
      "('price', 'float(5,2)', 'YES', '', None, '')\n",
      "('quantity', 'int', 'YES', '', None, '')\n"
     ]
    }
   ],
   "source": [
    "for cols in cur:\n",
    "    print(cols)"
   ]
  },
  {
   "cell_type": "code",
   "execution_count": 57,
   "id": "9207e5fe-269f-4d11-9678-ba6a04fccd99",
   "metadata": {},
   "outputs": [
    {
     "name": "stdout",
     "output_type": "stream",
     "text": [
      "[(1, 'Python', 189.0, None), (2, 'HTML', 160.0, None), (3, 'PHP', 160.0, None), (3, 'PHP', 160.0, None), (3, 'PHP', 160.0, None)]\n"
     ]
    }
   ],
   "source": [
    "s = \"select * from newbook\"\n",
    "cur.execute(s)\n",
    "result = cur.fetchall()\n",
    "print(result)"
   ]
  },
  {
   "cell_type": "code",
   "execution_count": 58,
   "id": "a550b941-de81-4dca-8a74-44cc8cb5a137",
   "metadata": {},
   "outputs": [],
   "source": [
    "#add a new column between price and quantity\n",
    "\n",
    "s = \"alter table newbook add column sales float(7,2) after price\"\n",
    "cur.execute(s)"
   ]
  },
  {
   "cell_type": "code",
   "execution_count": 60,
   "id": "98bc47fd-640b-4284-9b69-3a08d733d4ff",
   "metadata": {},
   "outputs": [
    {
     "name": "stdout",
     "output_type": "stream",
     "text": [
      "('bookid', 'int', 'YES', '', None, '')\n",
      "('title', 'varchar(20)', 'YES', '', None, '')\n",
      "('price', 'float(5,2)', 'YES', '', None, '')\n",
      "('sales', 'float(7,2)', 'YES', '', None, '')\n",
      "('quantity', 'int', 'YES', '', None, '')\n"
     ]
    }
   ],
   "source": [
    "s = \"describe newbook\"\n",
    "cur.execute(s)\n",
    "\n",
    "for cols in cur:\n",
    "    print(cols)"
   ]
  },
  {
   "cell_type": "code",
   "execution_count": 61,
   "id": "ccf560de-fa1e-4097-af48-be8b01f08690",
   "metadata": {},
   "outputs": [
    {
     "name": "stdout",
     "output_type": "stream",
     "text": [
      "[(1, 'Python', 189.0, None, None), (2, 'HTML', 160.0, None, None), (3, 'PHP', 160.0, None, None), (3, 'PHP', 160.0, None, None), (3, 'PHP', 160.0, None, None)]\n"
     ]
    }
   ],
   "source": [
    "s = \"select * from newbook\"\n",
    "cur.execute(s)\n",
    "result = cur.fetchall()\n",
    "print(result)"
   ]
  },
  {
   "cell_type": "code",
   "execution_count": 62,
   "id": "c4fed71f-3326-46e3-8c1a-685777bbf240",
   "metadata": {},
   "outputs": [],
   "source": [
    "#add a new column skuid as first column\n",
    "\n",
    "s = \"alter table newbook add column skuid int first\"\n",
    "cur.execute(s)"
   ]
  },
  {
   "cell_type": "code",
   "execution_count": 63,
   "id": "17032fb8-abac-4875-a77a-9f0491d1eb44",
   "metadata": {},
   "outputs": [
    {
     "name": "stdout",
     "output_type": "stream",
     "text": [
      "('skuid', 'int', 'YES', '', None, '')\n",
      "('bookid', 'int', 'YES', '', None, '')\n",
      "('title', 'varchar(20)', 'YES', '', None, '')\n",
      "('price', 'float(5,2)', 'YES', '', None, '')\n",
      "('sales', 'float(7,2)', 'YES', '', None, '')\n",
      "('quantity', 'int', 'YES', '', None, '')\n"
     ]
    }
   ],
   "source": [
    "s = \"describe newbook\"\n",
    "cur.execute(s)\n",
    "\n",
    "for cols in cur:\n",
    "    print(cols)"
   ]
  },
  {
   "cell_type": "code",
   "execution_count": 64,
   "id": "a99be940-b0eb-44b8-a327-b640a7c577f7",
   "metadata": {},
   "outputs": [
    {
     "name": "stdout",
     "output_type": "stream",
     "text": [
      "[(None, 1, 'Python', 189.0, None, None), (None, 2, 'HTML', 160.0, None, None), (None, 3, 'PHP', 160.0, None, None), (None, 3, 'PHP', 160.0, None, None), (None, 3, 'PHP', 160.0, None, None)]\n"
     ]
    }
   ],
   "source": [
    "s = \"select * from newbook\"\n",
    "cur.execute(s)\n",
    "result = cur.fetchall()\n",
    "print(result)"
   ]
  },
  {
   "cell_type": "code",
   "execution_count": 65,
   "id": "69ccc120-7bfd-4952-bc16-db8e6497c8f7",
   "metadata": {},
   "outputs": [],
   "source": [
    "#delete the column bookid\n",
    "\n",
    "s = \"alter table newbook drop column bookid\"\n",
    "cur.execute(s)"
   ]
  },
  {
   "cell_type": "code",
   "execution_count": 66,
   "id": "61616ddd-2716-41aa-b427-9988009a9f7b",
   "metadata": {},
   "outputs": [
    {
     "name": "stdout",
     "output_type": "stream",
     "text": [
      "('skuid', 'int', 'YES', '', None, '')\n",
      "('title', 'varchar(20)', 'YES', '', None, '')\n",
      "('price', 'float(5,2)', 'YES', '', None, '')\n",
      "('sales', 'float(7,2)', 'YES', '', None, '')\n",
      "('quantity', 'int', 'YES', '', None, '')\n"
     ]
    }
   ],
   "source": [
    "s = \"describe newbook\"\n",
    "cur.execute(s)\n",
    "\n",
    "for cols in cur:\n",
    "    print(cols)"
   ]
  },
  {
   "cell_type": "code",
   "execution_count": null,
   "id": "1d45f685-4103-4dc8-bb43-de242a6ead0e",
   "metadata": {},
   "outputs": [],
   "source": [
    "#insert a new data sample\n",
    "\n",
    "s = \"insert into newbook (skuid,title,price,sales,quantity) values (4,'C++',130,20000,)\""
   ]
  }
 ],
 "metadata": {
  "kernelspec": {
   "display_name": "Python 3 (ipykernel)",
   "language": "python",
   "name": "python3"
  },
  "language_info": {
   "codemirror_mode": {
    "name": "ipython",
    "version": 3
   },
   "file_extension": ".py",
   "mimetype": "text/x-python",
   "name": "python",
   "nbconvert_exporter": "python",
   "pygments_lexer": "ipython3",
   "version": "3.9.0"
  }
 },
 "nbformat": 4,
 "nbformat_minor": 5
}
