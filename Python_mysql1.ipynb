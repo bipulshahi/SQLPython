{
 "cells": [
  {
   "cell_type": "code",
   "execution_count": 2,
   "id": "927d3bf5-498a-4912-86a2-6bb71b206d65",
   "metadata": {},
   "outputs": [
    {
     "name": "stdout",
     "output_type": "stream",
     "text": [
      "Collecting mysql-connector-python\n",
      "  Downloading mysql_connector_python-8.3.0-py2.py3-none-any.whl (557 kB)\n",
      "\u001b[K     |████████████████████████████████| 557 kB 1.2 MB/s eta 0:00:01\n",
      "\u001b[?25hInstalling collected packages: mysql-connector-python\n",
      "Successfully installed mysql-connector-python-8.3.0\n",
      "\u001b[33mWARNING: You are using pip version 20.2.3; however, version 24.0 is available.\n",
      "You should consider upgrading via the '/Library/Frameworks/Python.framework/Versions/3.9/bin/python3.9 -m pip install --upgrade pip' command.\u001b[0m\n"
     ]
    }
   ],
   "source": [
    "!pip3 install mysql-connector-python"
   ]
  },
  {
   "cell_type": "code",
   "execution_count": 12,
   "id": "616035f3-34f3-4a27-a31e-4a8009864183",
   "metadata": {},
   "outputs": [
    {
     "name": "stdout",
     "output_type": "stream",
     "text": [
      "10\n"
     ]
    }
   ],
   "source": [
    "import mysql.connector\n",
    "mydb = mysql.connector.connect(host='localhost',user='root',\n",
    "                              password='725@Mysql')\n",
    "print(mydb.connection_id)"
   ]
  },
  {
   "cell_type": "code",
   "execution_count": 13,
   "id": "fd23dd49-8474-47fa-bbac-96ba9ba6a888",
   "metadata": {},
   "outputs": [],
   "source": [
    "cur = mydb.cursor()"
   ]
  },
  {
   "cell_type": "code",
   "execution_count": 14,
   "id": "92a1974b-08b6-47cb-a20d-083a48ccba5a",
   "metadata": {},
   "outputs": [],
   "source": [
    "cur.execute(\"show databases\")"
   ]
  },
  {
   "cell_type": "code",
   "execution_count": 15,
   "id": "a24659d1-a7f7-4641-b3f2-4588970842b9",
   "metadata": {},
   "outputs": [
    {
     "name": "stdout",
     "output_type": "stream",
     "text": [
      "('CompanyDB',)\n",
      "('db1',)\n",
      "('db2',)\n",
      "('f_db1',)\n",
      "('f_db2',)\n",
      "('idb1',)\n",
      "('idb2',)\n",
      "('idb3',)\n",
      "('idb4',)\n",
      "('idb5',)\n",
      "('information_schema',)\n",
      "('mydb',)\n",
      "('mydb_emp',)\n",
      "('mysql',)\n",
      "('mysql_db',)\n",
      "('performance_schema',)\n",
      "('sys',)\n"
     ]
    }
   ],
   "source": [
    "for dbs in cur:\n",
    "    print(dbs)"
   ]
  },
  {
   "cell_type": "code",
   "execution_count": 16,
   "id": "8cf1631b-5d56-4cf7-8f68-cd5bf7299959",
   "metadata": {},
   "outputs": [],
   "source": [
    "cur.execute(\"use CompanyDB\")"
   ]
  },
  {
   "cell_type": "code",
   "execution_count": 17,
   "id": "69da7027-dc3d-4e18-b33c-1894ad14b3fe",
   "metadata": {},
   "outputs": [],
   "source": [
    "cur.execute(\"show tables\")"
   ]
  },
  {
   "cell_type": "code",
   "execution_count": 18,
   "id": "01199e6f-d089-4853-a1e6-fe9cffa30a43",
   "metadata": {},
   "outputs": [
    {
     "name": "stdout",
     "output_type": "stream",
     "text": [
      "('departments',)\n",
      "('Employees',)\n",
      "('employees_backup',)\n"
     ]
    }
   ],
   "source": [
    "for tables in cur:\n",
    "    print(tables)"
   ]
  },
  {
   "cell_type": "code",
   "execution_count": 19,
   "id": "eb92b3e0-1d09-488a-8059-5de6bbec081c",
   "metadata": {},
   "outputs": [],
   "source": [
    "cur.execute(\"select * from Employees\")"
   ]
  },
  {
   "cell_type": "code",
   "execution_count": 20,
   "id": "ed1c0c7b-7414-4ab7-8d68-b3d703193840",
   "metadata": {},
   "outputs": [
    {
     "name": "stdout",
     "output_type": "stream",
     "text": [
      "(1, 'John', 'Doe', datetime.date(2022, 12, 12), 1, Decimal('50000.00'))\n",
      "(2, 'Joe', 'Biden', datetime.date(2020, 10, 2), 2, Decimal('60000.00'))\n",
      "(3, 'Tim', 'Cook', datetime.date(2022, 1, 1), 2, Decimal('40000.00'))\n",
      "(4, 'Donald', 'Trump', datetime.date(2019, 2, 2), 1, Decimal('60000.00'))\n",
      "(5, 'Pawan', 'Kalyan', datetime.date(2018, 1, 12), 4, Decimal('30000.00'))\n"
     ]
    }
   ],
   "source": [
    "for data in cur:\n",
    "    print(data)"
   ]
  },
  {
   "cell_type": "code",
   "execution_count": 21,
   "id": "ce88cea3-b235-487a-8712-c6a3552ea65b",
   "metadata": {},
   "outputs": [
    {
     "data": {
      "text/plain": [
       "True"
      ]
     },
     "execution_count": 21,
     "metadata": {},
     "output_type": "execute_result"
    }
   ],
   "source": [
    "cur.close()"
   ]
  },
  {
   "cell_type": "code",
   "execution_count": 22,
   "id": "824818c1-b58e-4341-8b93-e754ddbc7b67",
   "metadata": {},
   "outputs": [
    {
     "name": "stdout",
     "output_type": "stream",
     "text": [
      "11\n"
     ]
    }
   ],
   "source": [
    "import mysql.connector\n",
    "mydb = mysql.connector.connect(host='localhost',user='root',\n",
    "                              password='725@Mysql',database=\"CompanyDB\")\n",
    "print(mydb.connection_id)"
   ]
  },
  {
   "cell_type": "code",
   "execution_count": 25,
   "id": "d44e1770-f18f-41ad-bc6e-efc3fa742397",
   "metadata": {},
   "outputs": [
    {
     "name": "stdout",
     "output_type": "stream",
     "text": [
      "[1, 'John', 'Doe', datetime.date(2022, 12, 12), 1, Decimal('50000.00')]\n",
      "[2, 'Joe', 'Biden', datetime.date(2020, 10, 2), 2, Decimal('60000.00')]\n",
      "[3, 'Tim', 'Cook', datetime.date(2022, 1, 1), 2, Decimal('40000.00')]\n",
      "[4, 'Donald', 'Trump', datetime.date(2019, 2, 2), 1, Decimal('60000.00')]\n",
      "[5, 'Pawan', 'Kalyan', datetime.date(2018, 1, 12), 4, Decimal('30000.00')]\n"
     ]
    },
    {
     "data": {
      "text/plain": [
       "True"
      ]
     },
     "execution_count": 25,
     "metadata": {},
     "output_type": "execute_result"
    }
   ],
   "source": [
    "cur = mydb.cursor()\n",
    "\n",
    "query = \"select * from Employees\"\n",
    "\n",
    "cur.execute(query)\n",
    "\n",
    "for data in cur:\n",
    "    print(list(data))\n",
    "\n",
    "cur.close()"
   ]
  },
  {
   "cell_type": "code",
   "execution_count": null,
   "id": "bf0cc803-373e-4bb9-be2b-cbe222d28267",
   "metadata": {},
   "outputs": [],
   "source": []
  }
 ],
 "metadata": {
  "kernelspec": {
   "display_name": "Python 3 (ipykernel)",
   "language": "python",
   "name": "python3"
  },
  "language_info": {
   "codemirror_mode": {
    "name": "ipython",
    "version": 3
   },
   "file_extension": ".py",
   "mimetype": "text/x-python",
   "name": "python",
   "nbconvert_exporter": "python",
   "pygments_lexer": "ipython3",
   "version": "3.9.0"
  }
 },
 "nbformat": 4,
 "nbformat_minor": 5
}
